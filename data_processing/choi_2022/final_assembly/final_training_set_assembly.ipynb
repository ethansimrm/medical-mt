{
 "cells": [
  {
   "cell_type": "markdown",
   "id": "65f40cfe-5f50-4a85-b113-b03e2bc05d7a",
   "metadata": {},
   "source": [
    "# Final Assembly for Choi et al. (2022)'s Soft Constraint Method\n",
    "\n",
    "We've annotated our sampled training set; all that's left is to assemble the final training set for our fine-tuning."
   ]
  },
  {
   "cell_type": "code",
   "execution_count": 3,
   "id": "89965b73-230f-4d4d-b260-f35fd7ef8fb9",
   "metadata": {},
   "outputs": [],
   "source": [
    "from datasets import load_dataset, Dataset\n",
    "\n",
    "#Converts data in src [TAB] tgt [NEWLINE] format to a format suitable for model training\n",
    "def convertToDictFormat(data):\n",
    "    source = []\n",
    "    target = []\n",
    "    for example in data:\n",
    "        example = example.strip()\n",
    "        sentences = example.split(\"\\t\")\n",
    "        source.append(sentences[0])\n",
    "        target.append(sentences[1])\n",
    "    ready = Dataset.from_dict({\"en\":source, \"fr\":target})\n",
    "    return ready"
   ]
  },
  {
   "cell_type": "code",
   "execution_count": 4,
   "id": "35cf3224-e300-4c13-a3e5-9e295e8d9402",
   "metadata": {},
   "outputs": [
    {
     "name": "stderr",
     "output_type": "stream",
     "text": [
      "Found cached dataset text (C:/Users/ethan/.cache/huggingface/datasets/ethansimrm___text/ethansimrm--MeSpEn_enfr_dirty_glossary-d8e0c39300233912/0.0.0/cb1e9bd71a82ad27976be3b12b407850fe2837d80c22c5e03a28949843a8ace2)\n",
      "Found cached dataset text (C:/Users/ethan/.cache/huggingface/datasets/ethansimrm___text/ethansimrm--choi_unchanged_train-c72ff8ff983bcf98/0.0.0/cb1e9bd71a82ad27976be3b12b407850fe2837d80c22c5e03a28949843a8ace2)\n",
      "Found cached dataset text (C:/Users/ethan/.cache/huggingface/datasets/ethansimrm___text/ethansimrm--choi_annotated_sampled_train-6fdbfe2540b33c16/0.0.0/cb1e9bd71a82ad27976be3b12b407850fe2837d80c22c5e03a28949843a8ace2)\n"
     ]
    }
   ],
   "source": [
    "#Load in our training set components and convert them to Dataset objects\n",
    "entire_glossary = load_dataset(\"ethansimrm/MeSpEn_enfr_dirty_glossary\", split = \"train\")\n",
    "unchanged_train = load_dataset(\"ethansimrm/choi_unchanged_train\", split = \"train\")\n",
    "annotated_train = load_dataset(\"ethansimrm/choi_annotated_sampled_train\", split = \"train\")\n",
    "glossary_ready = convertToDictFormat(entire_glossary['text'])\n",
    "unchanged_train_ready = convertToDictFormat(unchanged_train['text'])\n",
    "annotated_train_ready = convertToDictFormat(annotated_train['text'])"
   ]
  },
  {
   "cell_type": "code",
   "execution_count": 5,
   "id": "b24c3f2f-ae7a-4125-8afe-81068bbc0452",
   "metadata": {},
   "outputs": [
    {
     "data": {
      "application/vnd.jupyter.widget-view+json": {
       "model_id": "",
       "version_major": 2,
       "version_minor": 0
      },
      "text/plain": [
       "Flattening the indices:   0%|          | 0/655608 [00:00<?, ? examples/s]"
      ]
     },
     "metadata": {},
     "output_type": "display_data"
    }
   ],
   "source": [
    "#Concatenate, then shuffle\n",
    "from datasets import concatenate_datasets\n",
    "choi_full_train_unshuffled = concatenate_datasets([glossary_ready, unchanged_train_ready, annotated_train_ready])\n",
    "choi_full_train_ready = choi_full_train_unshuffled.shuffle(seed=42).flatten_indices()"
   ]
  },
  {
   "cell_type": "code",
   "execution_count": 11,
   "id": "1ebc9346-a258-453b-8520-6eefc983f69f",
   "metadata": {},
   "outputs": [],
   "source": [
    "#Ready for upload\n",
    "output = open(\"choi_full_train.txt\", \"w\", encoding = \"utf8\")\n",
    "for bitext in choi_full_train_ready:\n",
    "    output.write(bitext[\"en\"] + \"\\t\" + bitext[\"fr\"] + \"\\n\")\n",
    "output.close()"
   ]
  }
 ],
 "metadata": {
  "kernelspec": {
   "display_name": "Python 3 (ipykernel)",
   "language": "python",
   "name": "python3"
  },
  "language_info": {
   "codemirror_mode": {
    "name": "ipython",
    "version": 3
   },
   "file_extension": ".py",
   "mimetype": "text/x-python",
   "name": "python",
   "nbconvert_exporter": "python",
   "pygments_lexer": "ipython3",
   "version": "3.10.11"
  }
 },
 "nbformat": 4,
 "nbformat_minor": 5
}

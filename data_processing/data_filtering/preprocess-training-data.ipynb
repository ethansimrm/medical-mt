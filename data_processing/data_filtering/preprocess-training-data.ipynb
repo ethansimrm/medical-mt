{
 "cells": [
  {
   "cell_type": "code",
   "execution_count": 1,
   "id": "e2699360",
   "metadata": {
    "execution": {
     "iopub.execute_input": "2023-06-18T20:48:52.936454Z",
     "iopub.status.busy": "2023-06-18T20:48:52.936087Z",
     "iopub.status.idle": "2023-06-18T20:49:15.212987Z",
     "shell.execute_reply": "2023-06-18T20:49:15.211496Z"
    },
    "papermill": {
     "duration": 22.285313,
     "end_time": "2023-06-18T20:49:15.215472",
     "exception": false,
     "start_time": "2023-06-18T20:48:52.930159",
     "status": "completed"
    },
    "tags": []
   },
   "outputs": [
    {
     "name": "stdout",
     "output_type": "stream",
     "text": [
      "Collecting transformers==4.28.0\r\n",
      "  Downloading transformers-4.28.0-py3-none-any.whl (7.0 MB)\r\n",
      "\u001b[2K     \u001b[90m━━━━━━━━━━━━━━━━━━━━━━━━━━━━━━━━━━━━━━━━\u001b[0m \u001b[32m7.0/7.0 MB\u001b[0m \u001b[31m63.5 MB/s\u001b[0m eta \u001b[36m0:00:00\u001b[0m\r\n",
      "\u001b[?25hRequirement already satisfied: sentencepiece in /opt/conda/lib/python3.10/site-packages (0.1.99)\r\n",
      "Collecting sacremoses\r\n",
      "  Downloading sacremoses-0.0.53.tar.gz (880 kB)\r\n",
      "\u001b[2K     \u001b[90m━━━━━━━━━━━━━━━━━━━━━━━━━━━━━━━━━━━━━━\u001b[0m \u001b[32m880.6/880.6 kB\u001b[0m \u001b[31m53.6 MB/s\u001b[0m eta \u001b[36m0:00:00\u001b[0m\r\n",
      "\u001b[?25h  Preparing metadata (setup.py) ... \u001b[?25l-\b \b\\\b \bdone\r\n",
      "\u001b[?25hRequirement already satisfied: datasets in /opt/conda/lib/python3.10/site-packages (2.1.0)\r\n",
      "Requirement already satisfied: filelock in /opt/conda/lib/python3.10/site-packages (from transformers==4.28.0) (3.12.0)\r\n",
      "Requirement already satisfied: huggingface-hub<1.0,>=0.11.0 in /opt/conda/lib/python3.10/site-packages (from transformers==4.28.0) (0.14.1)\r\n",
      "Requirement already satisfied: numpy>=1.17 in /opt/conda/lib/python3.10/site-packages (from transformers==4.28.0) (1.23.5)\r\n",
      "Requirement already satisfied: packaging>=20.0 in /opt/conda/lib/python3.10/site-packages (from transformers==4.28.0) (21.3)\r\n",
      "Requirement already satisfied: pyyaml>=5.1 in /opt/conda/lib/python3.10/site-packages (from transformers==4.28.0) (5.4.1)\r\n",
      "Requirement already satisfied: regex!=2019.12.17 in /opt/conda/lib/python3.10/site-packages (from transformers==4.28.0) (2023.5.5)\r\n",
      "Requirement already satisfied: requests in /opt/conda/lib/python3.10/site-packages (from transformers==4.28.0) (2.28.2)\r\n",
      "Requirement already satisfied: tokenizers!=0.11.3,<0.14,>=0.11.1 in /opt/conda/lib/python3.10/site-packages (from transformers==4.28.0) (0.13.3)\r\n",
      "Requirement already satisfied: tqdm>=4.27 in /opt/conda/lib/python3.10/site-packages (from transformers==4.28.0) (4.64.1)\r\n",
      "Requirement already satisfied: six in /opt/conda/lib/python3.10/site-packages (from sacremoses) (1.16.0)\r\n",
      "Requirement already satisfied: click in /opt/conda/lib/python3.10/site-packages (from sacremoses) (8.1.3)\r\n",
      "Requirement already satisfied: joblib in /opt/conda/lib/python3.10/site-packages (from sacremoses) (1.2.0)\r\n",
      "Requirement already satisfied: pyarrow>=5.0.0 in /opt/conda/lib/python3.10/site-packages (from datasets) (9.0.0)\r\n",
      "Requirement already satisfied: dill in /opt/conda/lib/python3.10/site-packages (from datasets) (0.3.6)\r\n",
      "Requirement already satisfied: pandas in /opt/conda/lib/python3.10/site-packages (from datasets) (1.5.3)\r\n",
      "Requirement already satisfied: xxhash in /opt/conda/lib/python3.10/site-packages (from datasets) (3.2.0)\r\n",
      "Requirement already satisfied: multiprocess in /opt/conda/lib/python3.10/site-packages (from datasets) (0.70.14)\r\n",
      "Requirement already satisfied: fsspec[http]>=2021.05.0 in /opt/conda/lib/python3.10/site-packages (from datasets) (2023.5.0)\r\n",
      "Requirement already satisfied: aiohttp in /opt/conda/lib/python3.10/site-packages (from datasets) (3.8.4)\r\n",
      "Requirement already satisfied: responses<0.19 in /opt/conda/lib/python3.10/site-packages (from datasets) (0.18.0)\r\n",
      "Requirement already satisfied: attrs>=17.3.0 in /opt/conda/lib/python3.10/site-packages (from aiohttp->datasets) (23.1.0)\r\n",
      "Requirement already satisfied: charset-normalizer<4.0,>=2.0 in /opt/conda/lib/python3.10/site-packages (from aiohttp->datasets) (2.1.1)\r\n",
      "Requirement already satisfied: multidict<7.0,>=4.5 in /opt/conda/lib/python3.10/site-packages (from aiohttp->datasets) (6.0.4)\r\n",
      "Requirement already satisfied: async-timeout<5.0,>=4.0.0a3 in /opt/conda/lib/python3.10/site-packages (from aiohttp->datasets) (4.0.2)\r\n",
      "Requirement already satisfied: yarl<2.0,>=1.0 in /opt/conda/lib/python3.10/site-packages (from aiohttp->datasets) (1.9.1)\r\n",
      "Requirement already satisfied: frozenlist>=1.1.1 in /opt/conda/lib/python3.10/site-packages (from aiohttp->datasets) (1.3.3)\r\n",
      "Requirement already satisfied: aiosignal>=1.1.2 in /opt/conda/lib/python3.10/site-packages (from aiohttp->datasets) (1.3.1)\r\n",
      "Requirement already satisfied: typing-extensions>=3.7.4.3 in /opt/conda/lib/python3.10/site-packages (from huggingface-hub<1.0,>=0.11.0->transformers==4.28.0) (4.5.0)\r\n",
      "Requirement already satisfied: pyparsing!=3.0.5,>=2.0.2 in /opt/conda/lib/python3.10/site-packages (from packaging>=20.0->transformers==4.28.0) (3.0.9)\r\n",
      "Requirement already satisfied: idna<4,>=2.5 in /opt/conda/lib/python3.10/site-packages (from requests->transformers==4.28.0) (3.4)\r\n",
      "Requirement already satisfied: urllib3<1.27,>=1.21.1 in /opt/conda/lib/python3.10/site-packages (from requests->transformers==4.28.0) (1.26.15)\r\n",
      "Requirement already satisfied: certifi>=2017.4.17 in /opt/conda/lib/python3.10/site-packages (from requests->transformers==4.28.0) (2023.5.7)\r\n",
      "Requirement already satisfied: python-dateutil>=2.8.1 in /opt/conda/lib/python3.10/site-packages (from pandas->datasets) (2.8.2)\r\n",
      "Requirement already satisfied: pytz>=2020.1 in /opt/conda/lib/python3.10/site-packages (from pandas->datasets) (2023.3)\r\n",
      "Building wheels for collected packages: sacremoses\r\n",
      "  Building wheel for sacremoses (setup.py) ... \u001b[?25l-\b \b\\\b \b|\b \bdone\r\n",
      "\u001b[?25h  Created wheel for sacremoses: filename=sacremoses-0.0.53-py3-none-any.whl size=895260 sha256=7c951d65011b107e663469ac633723486fbb0b03a5c36a91090354f0811a00ab\r\n",
      "  Stored in directory: /root/.cache/pip/wheels/00/24/97/a2ea5324f36bc626e1ea0267f33db6aa80d157ee977e9e42fb\r\n",
      "Successfully built sacremoses\r\n",
      "Installing collected packages: sacremoses, transformers\r\n",
      "  Attempting uninstall: transformers\r\n",
      "    Found existing installation: transformers 4.29.2\r\n",
      "    Uninstalling transformers-4.29.2:\r\n",
      "      Successfully uninstalled transformers-4.29.2\r\n",
      "Successfully installed sacremoses-0.0.53 transformers-4.28.0\r\n",
      "\u001b[33mWARNING: Running pip as the 'root' user can result in broken permissions and conflicting behaviour with the system package manager. It is recommended to use a virtual environment instead: https://pip.pypa.io/warnings/venv\u001b[0m\u001b[33m\r\n",
      "\u001b[0m"
     ]
    }
   ],
   "source": [
    "!pip install transformers==4.28.0 sentencepiece sacremoses datasets "
   ]
  },
  {
   "cell_type": "code",
   "execution_count": 2,
   "id": "4d9090b6",
   "metadata": {
    "execution": {
     "iopub.execute_input": "2023-06-18T20:49:15.228638Z",
     "iopub.status.busy": "2023-06-18T20:49:15.228238Z",
     "iopub.status.idle": "2023-06-18T20:49:18.951751Z",
     "shell.execute_reply": "2023-06-18T20:49:18.950858Z"
    },
    "papermill": {
     "duration": 3.732245,
     "end_time": "2023-06-18T20:49:18.953603",
     "exception": false,
     "start_time": "2023-06-18T20:49:15.221358",
     "status": "completed"
    },
    "tags": []
   },
   "outputs": [
    {
     "name": "stdout",
     "output_type": "stream",
     "text": [
      "Token will not been saved to git credential helper. Pass `add_to_git_credential=True` if you want to set the git credential as well.\n",
      "Token is valid.\n",
      "Your token has been saved to /root/.cache/huggingface/token\n",
      "Login successful\n"
     ]
    },
    {
     "name": "stderr",
     "output_type": "stream",
     "text": [
      "\u001b[34m\u001b[1mwandb\u001b[0m: W&B API key is configured. Use \u001b[1m`wandb login --relogin`\u001b[0m to force relogin\n",
      "\u001b[34m\u001b[1mwandb\u001b[0m: \u001b[33mWARNING\u001b[0m If you're specifying your api key in code, ensure this code is not shared publicly.\n",
      "\u001b[34m\u001b[1mwandb\u001b[0m: \u001b[33mWARNING\u001b[0m Consider setting the WANDB_API_KEY environment variable, or running `wandb login` from the command line.\n",
      "\u001b[34m\u001b[1mwandb\u001b[0m: Appending key for api.wandb.ai to your netrc file: /root/.netrc\n"
     ]
    },
    {
     "data": {
      "text/plain": [
       "True"
      ]
     },
     "execution_count": 2,
     "metadata": {},
     "output_type": "execute_result"
    }
   ],
   "source": [
    "from huggingface_hub import login\n",
    "from kaggle_secrets import UserSecretsClient\n",
    "import wandb\n",
    "user_secrets = UserSecretsClient()\n",
    "secret_value = user_secrets.get_secret(\"HF_KEY\")\n",
    "login(secret_value)\n",
    "secret_value1 = user_secrets.get_secret(\"WANDB_KEY\")\n",
    "wandb.login(key=secret_value1)"
   ]
  },
  {
   "cell_type": "code",
   "execution_count": 3,
   "id": "d73b657e",
   "metadata": {
    "execution": {
     "iopub.execute_input": "2023-06-18T20:49:18.966840Z",
     "iopub.status.busy": "2023-06-18T20:49:18.966498Z",
     "iopub.status.idle": "2023-06-18T20:49:27.988035Z",
     "shell.execute_reply": "2023-06-18T20:49:27.987356Z"
    },
    "papermill": {
     "duration": 9.030402,
     "end_time": "2023-06-18T20:49:27.989923",
     "exception": false,
     "start_time": "2023-06-18T20:49:18.959521",
     "status": "completed"
    },
    "tags": []
   },
   "outputs": [
    {
     "name": "stdout",
     "output_type": "stream",
     "text": [
      "Downloading and preparing dataset text/ethansimrm--wmt_16_19_22_biomed_train to /root/.cache/huggingface/datasets/text/ethansimrm--wmt_16_19_22_biomed_train-3dd4d6328c3dbab1/0.0.0/4b86d314f7236db91f0a0f5cda32d4375445e64c5eda2692655dd99c2dac68e8...\n"
     ]
    },
    {
     "data": {
      "application/vnd.jupyter.widget-view+json": {
       "model_id": "cb9272d83ca640e98655e6f5e11e5746",
       "version_major": 2,
       "version_minor": 0
      },
      "text/plain": [
       "Downloading data files:   0%|          | 0/1 [00:00<?, ?it/s]"
      ]
     },
     "metadata": {},
     "output_type": "display_data"
    },
    {
     "data": {
      "application/vnd.jupyter.widget-view+json": {
       "model_id": "e52fbf79f38d496096eed1f83d5ad217",
       "version_major": 2,
       "version_minor": 0
      },
      "text/plain": [
       "Downloading data:   0%|          | 0.00/48.7M [00:00<?, ?B/s]"
      ]
     },
     "metadata": {},
     "output_type": "display_data"
    },
    {
     "data": {
      "application/vnd.jupyter.widget-view+json": {
       "model_id": "7861c12506da45d785b7ae6d92cac617",
       "version_major": 2,
       "version_minor": 0
      },
      "text/plain": [
       "Extracting data files:   0%|          | 0/1 [00:00<?, ?it/s]"
      ]
     },
     "metadata": {},
     "output_type": "display_data"
    },
    {
     "name": "stdout",
     "output_type": "stream",
     "text": [
      "Dataset text downloaded and prepared to /root/.cache/huggingface/datasets/text/ethansimrm--wmt_16_19_22_biomed_train-3dd4d6328c3dbab1/0.0.0/4b86d314f7236db91f0a0f5cda32d4375445e64c5eda2692655dd99c2dac68e8. Subsequent calls will reuse this data.\n"
     ]
    }
   ],
   "source": [
    "from datasets import load_dataset\n",
    "training_data = load_dataset(\"ethansimrm/wmt_16_19_22_biomed_train\", split = \"train\", use_auth_token=True) "
   ]
  },
  {
   "cell_type": "code",
   "execution_count": 4,
   "id": "639fef66",
   "metadata": {
    "execution": {
     "iopub.execute_input": "2023-06-18T20:49:28.007222Z",
     "iopub.status.busy": "2023-06-18T20:49:28.006341Z",
     "iopub.status.idle": "2023-06-18T20:49:28.010401Z",
     "shell.execute_reply": "2023-06-18T20:49:28.009675Z"
    },
    "papermill": {
     "duration": 0.015537,
     "end_time": "2023-06-18T20:49:28.012072",
     "exception": false,
     "start_time": "2023-06-18T20:49:27.996535",
     "status": "completed"
    },
    "tags": []
   },
   "outputs": [],
   "source": [
    "#len(training_data) #741300 sentence pairs prior to pre-processing\n",
    "#training_data['text'][1:10] #Adopting the SOURCE \\t TARGET \\n format is convenient."
   ]
  },
  {
   "cell_type": "code",
   "execution_count": 5,
   "id": "da653bb8",
   "metadata": {
    "execution": {
     "iopub.execute_input": "2023-06-18T20:49:28.027676Z",
     "iopub.status.busy": "2023-06-18T20:49:28.026102Z",
     "iopub.status.idle": "2023-06-18T20:49:30.035286Z",
     "shell.execute_reply": "2023-06-18T20:49:30.033798Z"
    },
    "papermill": {
     "duration": 2.019325,
     "end_time": "2023-06-18T20:49:30.037867",
     "exception": false,
     "start_time": "2023-06-18T20:49:28.018542",
     "status": "completed"
    },
    "tags": []
   },
   "outputs": [],
   "source": [
    "from datasets import Dataset\n",
    "source = []\n",
    "target = []\n",
    "for example in training_data['text']:\n",
    "    example = example.strip()\n",
    "    sentences = example.split(\"\\t\")\n",
    "    source.append(sentences[0])\n",
    "    target.append(sentences[1])\n",
    "ready_data = Dataset.from_dict({\"en\":source, \"fr\":target})\n",
    "#This dataset can now be used for training or validation per early experiments"
   ]
  },
  {
   "cell_type": "code",
   "execution_count": 6,
   "id": "8953866e",
   "metadata": {
    "execution": {
     "iopub.execute_input": "2023-06-18T20:49:30.052471Z",
     "iopub.status.busy": "2023-06-18T20:49:30.052114Z",
     "iopub.status.idle": "2023-06-18T20:49:30.058369Z",
     "shell.execute_reply": "2023-06-18T20:49:30.056751Z"
    },
    "papermill": {
     "duration": 0.015837,
     "end_time": "2023-06-18T20:49:30.060427",
     "exception": false,
     "start_time": "2023-06-18T20:49:30.044590",
     "status": "completed"
    },
    "tags": []
   },
   "outputs": [
    {
     "data": {
      "text/plain": [
       "{'en': 'Global Health: Where Do Physiotherapy and Rehabilitation Research Fit?',\n",
       " 'fr': 'La place des cheveux et des poils dans les rituels et le sacré.'}"
      ]
     },
     "execution_count": 6,
     "metadata": {},
     "output_type": "execute_result"
    }
   ],
   "source": [
    "#Seems alright.\n",
    "ready_data[0]"
   ]
  },
  {
   "cell_type": "code",
   "execution_count": 7,
   "id": "f2a8457c",
   "metadata": {
    "execution": {
     "iopub.execute_input": "2023-06-18T20:49:30.075329Z",
     "iopub.status.busy": "2023-06-18T20:49:30.074997Z",
     "iopub.status.idle": "2023-06-18T20:49:57.976810Z",
     "shell.execute_reply": "2023-06-18T20:49:57.976039Z"
    },
    "papermill": {
     "duration": 27.912028,
     "end_time": "2023-06-18T20:49:57.979053",
     "exception": false,
     "start_time": "2023-06-18T20:49:30.067025",
     "status": "completed"
    },
    "tags": []
   },
   "outputs": [],
   "source": [
    "import pandas as pd\n",
    "#Let's start preprocessing according to Wu et al.(2022).\n",
    "#First, remove duplicate sentences. \n",
    "#We can't do this in datasets, so we must convert it to a pandas DataFrame.\n",
    "tempDataset = pd.DataFrame(ready_data)"
   ]
  },
  {
   "cell_type": "code",
   "execution_count": 8,
   "id": "607283fa",
   "metadata": {
    "execution": {
     "iopub.execute_input": "2023-06-18T20:49:57.995300Z",
     "iopub.status.busy": "2023-06-18T20:49:57.993830Z",
     "iopub.status.idle": "2023-06-18T20:49:58.000186Z",
     "shell.execute_reply": "2023-06-18T20:49:57.998723Z"
    },
    "papermill": {
     "duration": 0.016593,
     "end_time": "2023-06-18T20:49:58.002276",
     "exception": false,
     "start_time": "2023-06-18T20:49:57.985683",
     "status": "completed"
    },
    "tags": []
   },
   "outputs": [],
   "source": [
    "#tempDataset[tempDataset.duplicated()] \n",
    "#Wow, there are a lot of duplicate rows, 39540 in total."
   ]
  },
  {
   "cell_type": "code",
   "execution_count": 9,
   "id": "32f79785",
   "metadata": {
    "execution": {
     "iopub.execute_input": "2023-06-18T20:49:58.017625Z",
     "iopub.status.busy": "2023-06-18T20:49:58.016699Z",
     "iopub.status.idle": "2023-06-18T20:49:59.087585Z",
     "shell.execute_reply": "2023-06-18T20:49:59.086223Z"
    },
    "papermill": {
     "duration": 1.080911,
     "end_time": "2023-06-18T20:49:59.089897",
     "exception": false,
     "start_time": "2023-06-18T20:49:58.008986",
     "status": "completed"
    },
    "tags": []
   },
   "outputs": [],
   "source": [
    "tempDataset_dedup = tempDataset.drop_duplicates()"
   ]
  },
  {
   "cell_type": "code",
   "execution_count": 10,
   "id": "c61a825a",
   "metadata": {
    "execution": {
     "iopub.execute_input": "2023-06-18T20:49:59.104667Z",
     "iopub.status.busy": "2023-06-18T20:49:59.104308Z",
     "iopub.status.idle": "2023-06-18T20:50:01.081566Z",
     "shell.execute_reply": "2023-06-18T20:50:01.079522Z"
    },
    "papermill": {
     "duration": 1.988218,
     "end_time": "2023-06-18T20:50:01.084995",
     "exception": false,
     "start_time": "2023-06-18T20:49:59.096777",
     "status": "completed"
    },
    "tags": []
   },
   "outputs": [],
   "source": [
    "#Declaring helper functions separately\n",
    "import langid, string\n",
    "from tqdm import tqdm\n",
    "langid.set_languages([\"en\", \"fr\"]) #Constrain language set\n",
    "tqdm.pandas() #So I can see progress\n",
    "count = lambda l1,l2: sum([1 for x in l1 if x in l2])"
   ]
  },
  {
   "cell_type": "code",
   "execution_count": 11,
   "id": "4536a82e",
   "metadata": {
    "execution": {
     "iopub.execute_input": "2023-06-18T20:50:01.101108Z",
     "iopub.status.busy": "2023-06-18T20:50:01.100728Z",
     "iopub.status.idle": "2023-06-18T20:50:01.113451Z",
     "shell.execute_reply": "2023-06-18T20:50:01.111832Z"
    },
    "papermill": {
     "duration": 0.024805,
     "end_time": "2023-06-18T20:50:01.116511",
     "exception": false,
     "start_time": "2023-06-18T20:50:01.091706",
     "status": "completed"
    },
    "tags": []
   },
   "outputs": [
    {
     "name": "stdout",
     "output_type": "stream",
     "text": [
      "\n"
     ]
    }
   ],
   "source": [
    "#Having verified that we can convert this back into a Dataset object, we'll just \n",
    "#do everything else in a pandas DataFrame. There are seven per-sentence checks\n",
    "#we can do.\n",
    "\n",
    "def retain_sentence(row): #This defines a good sentence we wish to retain\n",
    "    word_counts = []\n",
    "    #Exclude repeats and empty source or target sentences\n",
    "    if ((row[\"en\"] == row[\"fr\"]) or (row[\"en\"] == \"\") or (row[\"fr\"] == \"\")):\n",
    "        return False\n",
    "    for sentence in (row[\"en\"], row[\"fr\"]):\n",
    "        #Exclude sentences with mismatched () or '' or \"\"\n",
    "        if ((sentence.count(\"(\") != sentence.count(\")\")) or \n",
    "            (sentence.count(\"'\") % 2 != 0) or\n",
    "            (sentence.count('\"') % 2 != 0)):\n",
    "            return False\n",
    "        sent_length = len(sentence)\n",
    "        #Exclude sentences with punctuation percentage > 0.4\n",
    "        if (count(sentence,set(string.punctuation)) > 0.4 * sent_length):\n",
    "            return False\n",
    "        #Exclude sentences with > 150 words\n",
    "        num_words = len(sentence.split(\" \"))\n",
    "        if (num_words > 150):\n",
    "            return False\n",
    "        word_counts.append(num_words)\n",
    "        #Exclude sentences with char-to-word ratio > 12 or < 1.5\n",
    "        c2w_ratio = sent_length / num_words\n",
    "        if ((c2w_ratio > 12) or (c2w_ratio < 1.5)):\n",
    "            return False\n",
    "    #Heuristic \"alignment\" filtering\n",
    "    word_ratio = word_counts[0] / word_counts[1]\n",
    "    if((word_ratio >= 9) or (1/word_ratio >= 9)):\n",
    "        return False\n",
    "    #Expensive language-determining step\n",
    "    if ((langid.classify(row['en'])[0] != \"en\") or \n",
    "    (langid.classify(row['fr'])[0] != \"fr\")):\n",
    "        return False\n",
    "    return True\n",
    "\"\"\"\n",
    "We will skip full alignment-checking, due to infeasibility and time constraints.\n",
    "SOTA-used options such as fast-align and eflomal require a large parallel training \n",
    "corpus, which we lack. AWESOME-align cannot run, even from the command line, \n",
    "due to an issue with the multiprocessing module and pickling. We can take another\n",
    "crack at this in the future.\n",
    "\n",
    "However, we can filter out obviously bad alignments by looking at word ratio;\n",
    "we filter out word ratios greater than 9 or smaller than 1/9.\n",
    "This (heuristic) method comes from Del et al. (2021).\n",
    "\"\"\"\n",
    "print()"
   ]
  },
  {
   "cell_type": "code",
   "execution_count": 12,
   "id": "2f941b9e",
   "metadata": {
    "execution": {
     "iopub.execute_input": "2023-06-18T20:50:01.133296Z",
     "iopub.status.busy": "2023-06-18T20:50:01.132957Z",
     "iopub.status.idle": "2023-06-18T20:52:46.142022Z",
     "shell.execute_reply": "2023-06-18T20:52:46.140977Z"
    },
    "papermill": {
     "duration": 165.01953,
     "end_time": "2023-06-18T20:52:46.143871",
     "exception": false,
     "start_time": "2023-06-18T20:50:01.124341",
     "status": "completed"
    },
    "tags": []
   },
   "outputs": [
    {
     "name": "stderr",
     "output_type": "stream",
     "text": [
      "100%|██████████| 701760/701760 [02:44<00:00, 4253.13it/s]\n"
     ]
    }
   ],
   "source": [
    "tempDataset_nearlyAligned = tempDataset_dedup.progress_apply(retain_sentence, axis=1)"
   ]
  },
  {
   "cell_type": "code",
   "execution_count": 13,
   "id": "a7cc74c2",
   "metadata": {
    "execution": {
     "iopub.execute_input": "2023-06-18T20:52:46.334303Z",
     "iopub.status.busy": "2023-06-18T20:52:46.333974Z",
     "iopub.status.idle": "2023-06-18T20:52:46.369836Z",
     "shell.execute_reply": "2023-06-18T20:52:46.368831Z"
    },
    "papermill": {
     "duration": 0.134249,
     "end_time": "2023-06-18T20:52:46.372295",
     "exception": false,
     "start_time": "2023-06-18T20:52:46.238046",
     "status": "completed"
    },
    "tags": []
   },
   "outputs": [],
   "source": [
    "filtered_set = tempDataset_dedup[tempDataset_nearlyAligned]"
   ]
  },
  {
   "cell_type": "code",
   "execution_count": 14,
   "id": "4e43e338",
   "metadata": {
    "execution": {
     "iopub.execute_input": "2023-06-18T20:52:46.565932Z",
     "iopub.status.busy": "2023-06-18T20:52:46.565600Z",
     "iopub.status.idle": "2023-06-18T20:52:46.588759Z",
     "shell.execute_reply": "2023-06-18T20:52:46.587474Z"
    },
    "papermill": {
     "duration": 0.122062,
     "end_time": "2023-06-18T20:52:46.591034",
     "exception": false,
     "start_time": "2023-06-18T20:52:46.468972",
     "status": "completed"
    },
    "tags": []
   },
   "outputs": [],
   "source": [
    "filtered_set = filtered_set.reset_index(drop=True)"
   ]
  },
  {
   "cell_type": "code",
   "execution_count": 15,
   "id": "78d5f0ed",
   "metadata": {
    "execution": {
     "iopub.execute_input": "2023-06-18T20:52:46.782400Z",
     "iopub.status.busy": "2023-06-18T20:52:46.781777Z",
     "iopub.status.idle": "2023-06-18T20:52:46.806778Z",
     "shell.execute_reply": "2023-06-18T20:52:46.805001Z"
    },
    "papermill": {
     "duration": 0.124526,
     "end_time": "2023-06-18T20:52:46.809268",
     "exception": false,
     "start_time": "2023-06-18T20:52:46.684742",
     "status": "completed"
    },
    "tags": []
   },
   "outputs": [
    {
     "data": {
      "text/html": [
       "<div>\n",
       "<style scoped>\n",
       "    .dataframe tbody tr th:only-of-type {\n",
       "        vertical-align: middle;\n",
       "    }\n",
       "\n",
       "    .dataframe tbody tr th {\n",
       "        vertical-align: top;\n",
       "    }\n",
       "\n",
       "    .dataframe thead th {\n",
       "        text-align: right;\n",
       "    }\n",
       "</style>\n",
       "<table border=\"1\" class=\"dataframe\">\n",
       "  <thead>\n",
       "    <tr style=\"text-align: right;\">\n",
       "      <th></th>\n",
       "      <th>en</th>\n",
       "      <th>fr</th>\n",
       "    </tr>\n",
       "  </thead>\n",
       "  <tbody>\n",
       "    <tr>\n",
       "      <th>0</th>\n",
       "      <td>Global Health: Where Do Physiotherapy and Reha...</td>\n",
       "      <td>La place des cheveux et des poils dans les rit...</td>\n",
       "    </tr>\n",
       "    <tr>\n",
       "      <th>1</th>\n",
       "      <td>Carabin.</td>\n",
       "      <td>Les Carabins.</td>\n",
       "    </tr>\n",
       "    <tr>\n",
       "      <th>2</th>\n",
       "      <td>Anti-aging medicine, a science-based, essentia...</td>\n",
       "      <td>La médecine anti-âge, une médecine scientifiqu...</td>\n",
       "    </tr>\n",
       "    <tr>\n",
       "      <th>3</th>\n",
       "      <td>Doping, sport and addiction--any links?</td>\n",
       "      <td>Dopage, pratique sportive et addiction--quels ...</td>\n",
       "    </tr>\n",
       "    <tr>\n",
       "      <th>4</th>\n",
       "      <td>Fibromatosis colli or congenital torticollis: ...</td>\n",
       "      <td>Le fibromatosis colli ou torticolis congénital...</td>\n",
       "    </tr>\n",
       "    <tr>\n",
       "      <th>...</th>\n",
       "      <td>...</td>\n",
       "      <td>...</td>\n",
       "    </tr>\n",
       "    <tr>\n",
       "      <th>411662</th>\n",
       "      <td>Microbiota in affected pasterns appeared to ha...</td>\n",
       "      <td>Le microbiote des paturons affectés semble avo...</td>\n",
       "    </tr>\n",
       "    <tr>\n",
       "      <th>411663</th>\n",
       "      <td>Beta diversity analyses demonstrated that bact...</td>\n",
       "      <td>Les analyses de diversité bêta ont démontré qu...</td>\n",
       "    </tr>\n",
       "    <tr>\n",
       "      <th>411664</th>\n",
       "      <td>Meteorological factors also had considerable i...</td>\n",
       "      <td>Les facteurs météorologiques ont également eu ...</td>\n",
       "    </tr>\n",
       "    <tr>\n",
       "      <th>411665</th>\n",
       "      <td>Our study provides preliminary observations of...</td>\n",
       "      <td>Notre étude fournit des observations prélimina...</td>\n",
       "    </tr>\n",
       "    <tr>\n",
       "      <th>411666</th>\n",
       "      <td>The population was too small to draw firm conc...</td>\n",
       "      <td>La population était trop petite pour tirer des...</td>\n",
       "    </tr>\n",
       "  </tbody>\n",
       "</table>\n",
       "<p>411667 rows × 2 columns</p>\n",
       "</div>"
      ],
      "text/plain": [
       "                                                       en  \\\n",
       "0       Global Health: Where Do Physiotherapy and Reha...   \n",
       "1                                                Carabin.   \n",
       "2       Anti-aging medicine, a science-based, essentia...   \n",
       "3                 Doping, sport and addiction--any links?   \n",
       "4       Fibromatosis colli or congenital torticollis: ...   \n",
       "...                                                   ...   \n",
       "411662  Microbiota in affected pasterns appeared to ha...   \n",
       "411663  Beta diversity analyses demonstrated that bact...   \n",
       "411664  Meteorological factors also had considerable i...   \n",
       "411665  Our study provides preliminary observations of...   \n",
       "411666  The population was too small to draw firm conc...   \n",
       "\n",
       "                                                       fr  \n",
       "0       La place des cheveux et des poils dans les rit...  \n",
       "1                                           Les Carabins.  \n",
       "2       La médecine anti-âge, une médecine scientifiqu...  \n",
       "3       Dopage, pratique sportive et addiction--quels ...  \n",
       "4       Le fibromatosis colli ou torticolis congénital...  \n",
       "...                                                   ...  \n",
       "411662  Le microbiote des paturons affectés semble avo...  \n",
       "411663  Les analyses de diversité bêta ont démontré qu...  \n",
       "411664  Les facteurs météorologiques ont également eu ...  \n",
       "411665  Notre étude fournit des observations prélimina...  \n",
       "411666  La population était trop petite pour tirer des...  \n",
       "\n",
       "[411667 rows x 2 columns]"
      ]
     },
     "execution_count": 15,
     "metadata": {},
     "output_type": "execute_result"
    }
   ],
   "source": [
    "filtered_set"
   ]
  },
  {
   "cell_type": "code",
   "execution_count": 16,
   "id": "bedacba1",
   "metadata": {
    "execution": {
     "iopub.execute_input": "2023-06-18T20:52:46.999538Z",
     "iopub.status.busy": "2023-06-18T20:52:46.998240Z",
     "iopub.status.idle": "2023-06-18T20:52:50.109165Z",
     "shell.execute_reply": "2023-06-18T20:52:50.108145Z"
    },
    "papermill": {
     "duration": 3.207238,
     "end_time": "2023-06-18T20:52:50.111481",
     "exception": false,
     "start_time": "2023-06-18T20:52:46.904243",
     "status": "completed"
    },
    "tags": []
   },
   "outputs": [],
   "source": [
    "f = open(\"wmt_train_filtered.txt\", \"w\", encoding = \"utf-8\")\n",
    "source = filtered_set[\"en\"]\n",
    "target = filtered_set[\"fr\"]\n",
    "for i in range(len(filtered_set)):\n",
    "    f.write(source[i] + \"\\t\" + target[i] + \"\\n\")\n",
    "f.close()"
   ]
  }
 ],
 "metadata": {
  "kernelspec": {
   "display_name": "Python 3",
   "language": "python",
   "name": "python3"
  },
  "language_info": {
   "codemirror_mode": {
    "name": "ipython",
    "version": 3
   },
   "file_extension": ".py",
   "mimetype": "text/x-python",
   "name": "python",
   "nbconvert_exporter": "python",
   "pygments_lexer": "ipython3",
   "version": "3.10.10"
  },
  "papermill": {
   "default_parameters": {},
   "duration": 249.084086,
   "end_time": "2023-06-18T20:52:51.730072",
   "environment_variables": {},
   "exception": null,
   "input_path": "__notebook__.ipynb",
   "output_path": "__notebook__.ipynb",
   "parameters": {},
   "start_time": "2023-06-18T20:48:42.645986",
   "version": "2.4.0"
  },
  "widgets": {
   "application/vnd.jupyter.widget-state+json": {
    "state": {
     "044f4581a26747398f328ea2795d5748": {
      "model_module": "@jupyter-widgets/controls",
      "model_module_version": "1.5.0",
      "model_name": "ProgressStyleModel",
      "state": {
       "_model_module": "@jupyter-widgets/controls",
       "_model_module_version": "1.5.0",
       "_model_name": "ProgressStyleModel",
       "_view_count": null,
       "_view_module": "@jupyter-widgets/base",
       "_view_module_version": "1.2.0",
       "_view_name": "StyleView",
       "bar_color": null,
       "description_width": ""
      }
     },
     "0aef951fb1254426ad91114368615d36": {
      "model_module": "@jupyter-widgets/base",
      "model_module_version": "1.2.0",
      "model_name": "LayoutModel",
      "state": {
       "_model_module": "@jupyter-widgets/base",
       "_model_module_version": "1.2.0",
       "_model_name": "LayoutModel",
       "_view_count": null,
       "_view_module": "@jupyter-widgets/base",
       "_view_module_version": "1.2.0",
       "_view_name": "LayoutView",
       "align_content": null,
       "align_items": null,
       "align_self": null,
       "border": null,
       "bottom": null,
       "display": null,
       "flex": null,
       "flex_flow": null,
       "grid_area": null,
       "grid_auto_columns": null,
       "grid_auto_flow": null,
       "grid_auto_rows": null,
       "grid_column": null,
       "grid_gap": null,
       "grid_row": null,
       "grid_template_areas": null,
       "grid_template_columns": null,
       "grid_template_rows": null,
       "height": null,
       "justify_content": null,
       "justify_items": null,
       "left": null,
       "margin": null,
       "max_height": null,
       "max_width": null,
       "min_height": null,
       "min_width": null,
       "object_fit": null,
       "object_position": null,
       "order": null,
       "overflow": null,
       "overflow_x": null,
       "overflow_y": null,
       "padding": null,
       "right": null,
       "top": null,
       "visibility": null,
       "width": null
      }
     },
     "0f05d3bf6bc943089b85ab05f13d8f10": {
      "model_module": "@jupyter-widgets/base",
      "model_module_version": "1.2.0",
      "model_name": "LayoutModel",
      "state": {
       "_model_module": "@jupyter-widgets/base",
       "_model_module_version": "1.2.0",
       "_model_name": "LayoutModel",
       "_view_count": null,
       "_view_module": "@jupyter-widgets/base",
       "_view_module_version": "1.2.0",
       "_view_name": "LayoutView",
       "align_content": null,
       "align_items": null,
       "align_self": null,
       "border": null,
       "bottom": null,
       "display": null,
       "flex": null,
       "flex_flow": null,
       "grid_area": null,
       "grid_auto_columns": null,
       "grid_auto_flow": null,
       "grid_auto_rows": null,
       "grid_column": null,
       "grid_gap": null,
       "grid_row": null,
       "grid_template_areas": null,
       "grid_template_columns": null,
       "grid_template_rows": null,
       "height": null,
       "justify_content": null,
       "justify_items": null,
       "left": null,
       "margin": null,
       "max_height": null,
       "max_width": null,
       "min_height": null,
       "min_width": null,
       "object_fit": null,
       "object_position": null,
       "order": null,
       "overflow": null,
       "overflow_x": null,
       "overflow_y": null,
       "padding": null,
       "right": null,
       "top": null,
       "visibility": null,
       "width": null
      }
     },
     "10a8dd3af06343aa8cf2681697de3227": {
      "model_module": "@jupyter-widgets/base",
      "model_module_version": "1.2.0",
      "model_name": "LayoutModel",
      "state": {
       "_model_module": "@jupyter-widgets/base",
       "_model_module_version": "1.2.0",
       "_model_name": "LayoutModel",
       "_view_count": null,
       "_view_module": "@jupyter-widgets/base",
       "_view_module_version": "1.2.0",
       "_view_name": "LayoutView",
       "align_content": null,
       "align_items": null,
       "align_self": null,
       "border": null,
       "bottom": null,
       "display": null,
       "flex": null,
       "flex_flow": null,
       "grid_area": null,
       "grid_auto_columns": null,
       "grid_auto_flow": null,
       "grid_auto_rows": null,
       "grid_column": null,
       "grid_gap": null,
       "grid_row": null,
       "grid_template_areas": null,
       "grid_template_columns": null,
       "grid_template_rows": null,
       "height": null,
       "justify_content": null,
       "justify_items": null,
       "left": null,
       "margin": null,
       "max_height": null,
       "max_width": null,
       "min_height": null,
       "min_width": null,
       "object_fit": null,
       "object_position": null,
       "order": null,
       "overflow": null,
       "overflow_x": null,
       "overflow_y": null,
       "padding": null,
       "right": null,
       "top": null,
       "visibility": null,
       "width": null
      }
     },
     "118f63285c4a4ca1bd9d991e2b208d9a": {
      "model_module": "@jupyter-widgets/controls",
      "model_module_version": "1.5.0",
      "model_name": "ProgressStyleModel",
      "state": {
       "_model_module": "@jupyter-widgets/controls",
       "_model_module_version": "1.5.0",
       "_model_name": "ProgressStyleModel",
       "_view_count": null,
       "_view_module": "@jupyter-widgets/base",
       "_view_module_version": "1.2.0",
       "_view_name": "StyleView",
       "bar_color": null,
       "description_width": ""
      }
     },
     "182e24250d204964b6da63e939553b2c": {
      "model_module": "@jupyter-widgets/controls",
      "model_module_version": "1.5.0",
      "model_name": "FloatProgressModel",
      "state": {
       "_dom_classes": [],
       "_model_module": "@jupyter-widgets/controls",
       "_model_module_version": "1.5.0",
       "_model_name": "FloatProgressModel",
       "_view_count": null,
       "_view_module": "@jupyter-widgets/controls",
       "_view_module_version": "1.5.0",
       "_view_name": "ProgressView",
       "bar_style": "success",
       "description": "",
       "description_tooltip": null,
       "layout": "IPY_MODEL_2bc6c6d5c4af4c1f95cab395a08241db",
       "max": 48737921.0,
       "min": 0.0,
       "orientation": "horizontal",
       "style": "IPY_MODEL_3a54f03b3de4443c9eb5dd5ca30aa680",
       "value": 48737921.0
      }
     },
     "195f13e35f0648609e7ab02263c5d89b": {
      "model_module": "@jupyter-widgets/controls",
      "model_module_version": "1.5.0",
      "model_name": "FloatProgressModel",
      "state": {
       "_dom_classes": [],
       "_model_module": "@jupyter-widgets/controls",
       "_model_module_version": "1.5.0",
       "_model_name": "FloatProgressModel",
       "_view_count": null,
       "_view_module": "@jupyter-widgets/controls",
       "_view_module_version": "1.5.0",
       "_view_name": "ProgressView",
       "bar_style": "success",
       "description": "",
       "description_tooltip": null,
       "layout": "IPY_MODEL_e82affdff8544966b33d820f960a9fe6",
       "max": 1.0,
       "min": 0.0,
       "orientation": "horizontal",
       "style": "IPY_MODEL_044f4581a26747398f328ea2795d5748",
       "value": 1.0
      }
     },
     "1f395329e1bd46369f77342f75be3fae": {
      "model_module": "@jupyter-widgets/controls",
      "model_module_version": "1.5.0",
      "model_name": "HTMLModel",
      "state": {
       "_dom_classes": [],
       "_model_module": "@jupyter-widgets/controls",
       "_model_module_version": "1.5.0",
       "_model_name": "HTMLModel",
       "_view_count": null,
       "_view_module": "@jupyter-widgets/controls",
       "_view_module_version": "1.5.0",
       "_view_name": "HTMLView",
       "description": "",
       "description_tooltip": null,
       "layout": "IPY_MODEL_8a96a4d4cac841cbb63000d53bca23ce",
       "placeholder": "​",
       "style": "IPY_MODEL_2708965c70ee4de4a51f150ea883e890",
       "value": "Downloading data: 100%"
      }
     },
     "2708965c70ee4de4a51f150ea883e890": {
      "model_module": "@jupyter-widgets/controls",
      "model_module_version": "1.5.0",
      "model_name": "DescriptionStyleModel",
      "state": {
       "_model_module": "@jupyter-widgets/controls",
       "_model_module_version": "1.5.0",
       "_model_name": "DescriptionStyleModel",
       "_view_count": null,
       "_view_module": "@jupyter-widgets/base",
       "_view_module_version": "1.2.0",
       "_view_name": "StyleView",
       "description_width": ""
      }
     },
     "2b1e9bfbf4824f9ca8efdbf0a696c5bc": {
      "model_module": "@jupyter-widgets/base",
      "model_module_version": "1.2.0",
      "model_name": "LayoutModel",
      "state": {
       "_model_module": "@jupyter-widgets/base",
       "_model_module_version": "1.2.0",
       "_model_name": "LayoutModel",
       "_view_count": null,
       "_view_module": "@jupyter-widgets/base",
       "_view_module_version": "1.2.0",
       "_view_name": "LayoutView",
       "align_content": null,
       "align_items": null,
       "align_self": null,
       "border": null,
       "bottom": null,
       "display": null,
       "flex": null,
       "flex_flow": null,
       "grid_area": null,
       "grid_auto_columns": null,
       "grid_auto_flow": null,
       "grid_auto_rows": null,
       "grid_column": null,
       "grid_gap": null,
       "grid_row": null,
       "grid_template_areas": null,
       "grid_template_columns": null,
       "grid_template_rows": null,
       "height": null,
       "justify_content": null,
       "justify_items": null,
       "left": null,
       "margin": null,
       "max_height": null,
       "max_width": null,
       "min_height": null,
       "min_width": null,
       "object_fit": null,
       "object_position": null,
       "order": null,
       "overflow": null,
       "overflow_x": null,
       "overflow_y": null,
       "padding": null,
       "right": null,
       "top": null,
       "visibility": null,
       "width": null
      }
     },
     "2bc6c6d5c4af4c1f95cab395a08241db": {
      "model_module": "@jupyter-widgets/base",
      "model_module_version": "1.2.0",
      "model_name": "LayoutModel",
      "state": {
       "_model_module": "@jupyter-widgets/base",
       "_model_module_version": "1.2.0",
       "_model_name": "LayoutModel",
       "_view_count": null,
       "_view_module": "@jupyter-widgets/base",
       "_view_module_version": "1.2.0",
       "_view_name": "LayoutView",
       "align_content": null,
       "align_items": null,
       "align_self": null,
       "border": null,
       "bottom": null,
       "display": null,
       "flex": null,
       "flex_flow": null,
       "grid_area": null,
       "grid_auto_columns": null,
       "grid_auto_flow": null,
       "grid_auto_rows": null,
       "grid_column": null,
       "grid_gap": null,
       "grid_row": null,
       "grid_template_areas": null,
       "grid_template_columns": null,
       "grid_template_rows": null,
       "height": null,
       "justify_content": null,
       "justify_items": null,
       "left": null,
       "margin": null,
       "max_height": null,
       "max_width": null,
       "min_height": null,
       "min_width": null,
       "object_fit": null,
       "object_position": null,
       "order": null,
       "overflow": null,
       "overflow_x": null,
       "overflow_y": null,
       "padding": null,
       "right": null,
       "top": null,
       "visibility": null,
       "width": null
      }
     },
     "2bee64970c3141c9a3340a3a3e606a5d": {
      "model_module": "@jupyter-widgets/controls",
      "model_module_version": "1.5.0",
      "model_name": "FloatProgressModel",
      "state": {
       "_dom_classes": [],
       "_model_module": "@jupyter-widgets/controls",
       "_model_module_version": "1.5.0",
       "_model_name": "FloatProgressModel",
       "_view_count": null,
       "_view_module": "@jupyter-widgets/controls",
       "_view_module_version": "1.5.0",
       "_view_name": "ProgressView",
       "bar_style": "success",
       "description": "",
       "description_tooltip": null,
       "layout": "IPY_MODEL_10a8dd3af06343aa8cf2681697de3227",
       "max": 1.0,
       "min": 0.0,
       "orientation": "horizontal",
       "style": "IPY_MODEL_118f63285c4a4ca1bd9d991e2b208d9a",
       "value": 1.0
      }
     },
     "36fabb2308704c9f8221e6d3f72fc92c": {
      "model_module": "@jupyter-widgets/controls",
      "model_module_version": "1.5.0",
      "model_name": "HTMLModel",
      "state": {
       "_dom_classes": [],
       "_model_module": "@jupyter-widgets/controls",
       "_model_module_version": "1.5.0",
       "_model_name": "HTMLModel",
       "_view_count": null,
       "_view_module": "@jupyter-widgets/controls",
       "_view_module_version": "1.5.0",
       "_view_name": "HTMLView",
       "description": "",
       "description_tooltip": null,
       "layout": "IPY_MODEL_8e2f7d8d2cef4ab6a30497645787fd26",
       "placeholder": "​",
       "style": "IPY_MODEL_65b859e0fadb45b9b7c4bb1a3ab5b3ac",
       "value": " 48.7M/48.7M [00:01&lt;00:00, 42.0MB/s]"
      }
     },
     "3a54f03b3de4443c9eb5dd5ca30aa680": {
      "model_module": "@jupyter-widgets/controls",
      "model_module_version": "1.5.0",
      "model_name": "ProgressStyleModel",
      "state": {
       "_model_module": "@jupyter-widgets/controls",
       "_model_module_version": "1.5.0",
       "_model_name": "ProgressStyleModel",
       "_view_count": null,
       "_view_module": "@jupyter-widgets/base",
       "_view_module_version": "1.2.0",
       "_view_name": "StyleView",
       "bar_color": null,
       "description_width": ""
      }
     },
     "3b383d033be84aed98abd3beb06f8dff": {
      "model_module": "@jupyter-widgets/base",
      "model_module_version": "1.2.0",
      "model_name": "LayoutModel",
      "state": {
       "_model_module": "@jupyter-widgets/base",
       "_model_module_version": "1.2.0",
       "_model_name": "LayoutModel",
       "_view_count": null,
       "_view_module": "@jupyter-widgets/base",
       "_view_module_version": "1.2.0",
       "_view_name": "LayoutView",
       "align_content": null,
       "align_items": null,
       "align_self": null,
       "border": null,
       "bottom": null,
       "display": null,
       "flex": null,
       "flex_flow": null,
       "grid_area": null,
       "grid_auto_columns": null,
       "grid_auto_flow": null,
       "grid_auto_rows": null,
       "grid_column": null,
       "grid_gap": null,
       "grid_row": null,
       "grid_template_areas": null,
       "grid_template_columns": null,
       "grid_template_rows": null,
       "height": null,
       "justify_content": null,
       "justify_items": null,
       "left": null,
       "margin": null,
       "max_height": null,
       "max_width": null,
       "min_height": null,
       "min_width": null,
       "object_fit": null,
       "object_position": null,
       "order": null,
       "overflow": null,
       "overflow_x": null,
       "overflow_y": null,
       "padding": null,
       "right": null,
       "top": null,
       "visibility": null,
       "width": null
      }
     },
     "5b900913b9b44f6daeea1ac93e0c922c": {
      "model_module": "@jupyter-widgets/controls",
      "model_module_version": "1.5.0",
      "model_name": "DescriptionStyleModel",
      "state": {
       "_model_module": "@jupyter-widgets/controls",
       "_model_module_version": "1.5.0",
       "_model_name": "DescriptionStyleModel",
       "_view_count": null,
       "_view_module": "@jupyter-widgets/base",
       "_view_module_version": "1.2.0",
       "_view_name": "StyleView",
       "description_width": ""
      }
     },
     "65b859e0fadb45b9b7c4bb1a3ab5b3ac": {
      "model_module": "@jupyter-widgets/controls",
      "model_module_version": "1.5.0",
      "model_name": "DescriptionStyleModel",
      "state": {
       "_model_module": "@jupyter-widgets/controls",
       "_model_module_version": "1.5.0",
       "_model_name": "DescriptionStyleModel",
       "_view_count": null,
       "_view_module": "@jupyter-widgets/base",
       "_view_module_version": "1.2.0",
       "_view_name": "StyleView",
       "description_width": ""
      }
     },
     "6d2d24cae42c4407b1f48580f824a326": {
      "model_module": "@jupyter-widgets/controls",
      "model_module_version": "1.5.0",
      "model_name": "DescriptionStyleModel",
      "state": {
       "_model_module": "@jupyter-widgets/controls",
       "_model_module_version": "1.5.0",
       "_model_name": "DescriptionStyleModel",
       "_view_count": null,
       "_view_module": "@jupyter-widgets/base",
       "_view_module_version": "1.2.0",
       "_view_name": "StyleView",
       "description_width": ""
      }
     },
     "7861c12506da45d785b7ae6d92cac617": {
      "model_module": "@jupyter-widgets/controls",
      "model_module_version": "1.5.0",
      "model_name": "HBoxModel",
      "state": {
       "_dom_classes": [],
       "_model_module": "@jupyter-widgets/controls",
       "_model_module_version": "1.5.0",
       "_model_name": "HBoxModel",
       "_view_count": null,
       "_view_module": "@jupyter-widgets/controls",
       "_view_module_version": "1.5.0",
       "_view_name": "HBoxView",
       "box_style": "",
       "children": [
        "IPY_MODEL_7b3d5d83b0d2478695958f8f933c5a17",
        "IPY_MODEL_195f13e35f0648609e7ab02263c5d89b",
        "IPY_MODEL_ea358ab0ca8d4d4990db7c21e212822f"
       ],
       "layout": "IPY_MODEL_0aef951fb1254426ad91114368615d36"
      }
     },
     "7b3d5d83b0d2478695958f8f933c5a17": {
      "model_module": "@jupyter-widgets/controls",
      "model_module_version": "1.5.0",
      "model_name": "HTMLModel",
      "state": {
       "_dom_classes": [],
       "_model_module": "@jupyter-widgets/controls",
       "_model_module_version": "1.5.0",
       "_model_name": "HTMLModel",
       "_view_count": null,
       "_view_module": "@jupyter-widgets/controls",
       "_view_module_version": "1.5.0",
       "_view_name": "HTMLView",
       "description": "",
       "description_tooltip": null,
       "layout": "IPY_MODEL_3b383d033be84aed98abd3beb06f8dff",
       "placeholder": "​",
       "style": "IPY_MODEL_5b900913b9b44f6daeea1ac93e0c922c",
       "value": "Extracting data files: 100%"
      }
     },
     "8a96a4d4cac841cbb63000d53bca23ce": {
      "model_module": "@jupyter-widgets/base",
      "model_module_version": "1.2.0",
      "model_name": "LayoutModel",
      "state": {
       "_model_module": "@jupyter-widgets/base",
       "_model_module_version": "1.2.0",
       "_model_name": "LayoutModel",
       "_view_count": null,
       "_view_module": "@jupyter-widgets/base",
       "_view_module_version": "1.2.0",
       "_view_name": "LayoutView",
       "align_content": null,
       "align_items": null,
       "align_self": null,
       "border": null,
       "bottom": null,
       "display": null,
       "flex": null,
       "flex_flow": null,
       "grid_area": null,
       "grid_auto_columns": null,
       "grid_auto_flow": null,
       "grid_auto_rows": null,
       "grid_column": null,
       "grid_gap": null,
       "grid_row": null,
       "grid_template_areas": null,
       "grid_template_columns": null,
       "grid_template_rows": null,
       "height": null,
       "justify_content": null,
       "justify_items": null,
       "left": null,
       "margin": null,
       "max_height": null,
       "max_width": null,
       "min_height": null,
       "min_width": null,
       "object_fit": null,
       "object_position": null,
       "order": null,
       "overflow": null,
       "overflow_x": null,
       "overflow_y": null,
       "padding": null,
       "right": null,
       "top": null,
       "visibility": null,
       "width": null
      }
     },
     "8cae69df93eb4637b71775623edc4ea5": {
      "model_module": "@jupyter-widgets/base",
      "model_module_version": "1.2.0",
      "model_name": "LayoutModel",
      "state": {
       "_model_module": "@jupyter-widgets/base",
       "_model_module_version": "1.2.0",
       "_model_name": "LayoutModel",
       "_view_count": null,
       "_view_module": "@jupyter-widgets/base",
       "_view_module_version": "1.2.0",
       "_view_name": "LayoutView",
       "align_content": null,
       "align_items": null,
       "align_self": null,
       "border": null,
       "bottom": null,
       "display": null,
       "flex": null,
       "flex_flow": null,
       "grid_area": null,
       "grid_auto_columns": null,
       "grid_auto_flow": null,
       "grid_auto_rows": null,
       "grid_column": null,
       "grid_gap": null,
       "grid_row": null,
       "grid_template_areas": null,
       "grid_template_columns": null,
       "grid_template_rows": null,
       "height": null,
       "justify_content": null,
       "justify_items": null,
       "left": null,
       "margin": null,
       "max_height": null,
       "max_width": null,
       "min_height": null,
       "min_width": null,
       "object_fit": null,
       "object_position": null,
       "order": null,
       "overflow": null,
       "overflow_x": null,
       "overflow_y": null,
       "padding": null,
       "right": null,
       "top": null,
       "visibility": null,
       "width": null
      }
     },
     "8e2f7d8d2cef4ab6a30497645787fd26": {
      "model_module": "@jupyter-widgets/base",
      "model_module_version": "1.2.0",
      "model_name": "LayoutModel",
      "state": {
       "_model_module": "@jupyter-widgets/base",
       "_model_module_version": "1.2.0",
       "_model_name": "LayoutModel",
       "_view_count": null,
       "_view_module": "@jupyter-widgets/base",
       "_view_module_version": "1.2.0",
       "_view_name": "LayoutView",
       "align_content": null,
       "align_items": null,
       "align_self": null,
       "border": null,
       "bottom": null,
       "display": null,
       "flex": null,
       "flex_flow": null,
       "grid_area": null,
       "grid_auto_columns": null,
       "grid_auto_flow": null,
       "grid_auto_rows": null,
       "grid_column": null,
       "grid_gap": null,
       "grid_row": null,
       "grid_template_areas": null,
       "grid_template_columns": null,
       "grid_template_rows": null,
       "height": null,
       "justify_content": null,
       "justify_items": null,
       "left": null,
       "margin": null,
       "max_height": null,
       "max_width": null,
       "min_height": null,
       "min_width": null,
       "object_fit": null,
       "object_position": null,
       "order": null,
       "overflow": null,
       "overflow_x": null,
       "overflow_y": null,
       "padding": null,
       "right": null,
       "top": null,
       "visibility": null,
       "width": null
      }
     },
     "c056c1336d1c4a908a9e46cde3cb6e7f": {
      "model_module": "@jupyter-widgets/base",
      "model_module_version": "1.2.0",
      "model_name": "LayoutModel",
      "state": {
       "_model_module": "@jupyter-widgets/base",
       "_model_module_version": "1.2.0",
       "_model_name": "LayoutModel",
       "_view_count": null,
       "_view_module": "@jupyter-widgets/base",
       "_view_module_version": "1.2.0",
       "_view_name": "LayoutView",
       "align_content": null,
       "align_items": null,
       "align_self": null,
       "border": null,
       "bottom": null,
       "display": null,
       "flex": null,
       "flex_flow": null,
       "grid_area": null,
       "grid_auto_columns": null,
       "grid_auto_flow": null,
       "grid_auto_rows": null,
       "grid_column": null,
       "grid_gap": null,
       "grid_row": null,
       "grid_template_areas": null,
       "grid_template_columns": null,
       "grid_template_rows": null,
       "height": null,
       "justify_content": null,
       "justify_items": null,
       "left": null,
       "margin": null,
       "max_height": null,
       "max_width": null,
       "min_height": null,
       "min_width": null,
       "object_fit": null,
       "object_position": null,
       "order": null,
       "overflow": null,
       "overflow_x": null,
       "overflow_y": null,
       "padding": null,
       "right": null,
       "top": null,
       "visibility": null,
       "width": null
      }
     },
     "c89221b6a3d74c29ab65edc4fd40ce51": {
      "model_module": "@jupyter-widgets/controls",
      "model_module_version": "1.5.0",
      "model_name": "HTMLModel",
      "state": {
       "_dom_classes": [],
       "_model_module": "@jupyter-widgets/controls",
       "_model_module_version": "1.5.0",
       "_model_name": "HTMLModel",
       "_view_count": null,
       "_view_module": "@jupyter-widgets/controls",
       "_view_module_version": "1.5.0",
       "_view_name": "HTMLView",
       "description": "",
       "description_tooltip": null,
       "layout": "IPY_MODEL_2b1e9bfbf4824f9ca8efdbf0a696c5bc",
       "placeholder": "​",
       "style": "IPY_MODEL_6d2d24cae42c4407b1f48580f824a326",
       "value": " 1/1 [00:02&lt;00:00,  2.67s/it]"
      }
     },
     "c908563f2c774daf9a9f5dc6eded3df1": {
      "model_module": "@jupyter-widgets/controls",
      "model_module_version": "1.5.0",
      "model_name": "DescriptionStyleModel",
      "state": {
       "_model_module": "@jupyter-widgets/controls",
       "_model_module_version": "1.5.0",
       "_model_name": "DescriptionStyleModel",
       "_view_count": null,
       "_view_module": "@jupyter-widgets/base",
       "_view_module_version": "1.2.0",
       "_view_name": "StyleView",
       "description_width": ""
      }
     },
     "cb6d7e14ae0e4468a9b9f9e96a318616": {
      "model_module": "@jupyter-widgets/controls",
      "model_module_version": "1.5.0",
      "model_name": "DescriptionStyleModel",
      "state": {
       "_model_module": "@jupyter-widgets/controls",
       "_model_module_version": "1.5.0",
       "_model_name": "DescriptionStyleModel",
       "_view_count": null,
       "_view_module": "@jupyter-widgets/base",
       "_view_module_version": "1.2.0",
       "_view_name": "StyleView",
       "description_width": ""
      }
     },
     "cb9272d83ca640e98655e6f5e11e5746": {
      "model_module": "@jupyter-widgets/controls",
      "model_module_version": "1.5.0",
      "model_name": "HBoxModel",
      "state": {
       "_dom_classes": [],
       "_model_module": "@jupyter-widgets/controls",
       "_model_module_version": "1.5.0",
       "_model_name": "HBoxModel",
       "_view_count": null,
       "_view_module": "@jupyter-widgets/controls",
       "_view_module_version": "1.5.0",
       "_view_name": "HBoxView",
       "box_style": "",
       "children": [
        "IPY_MODEL_d182d3a541724c198abc43a5dba9c3ac",
        "IPY_MODEL_2bee64970c3141c9a3340a3a3e606a5d",
        "IPY_MODEL_c89221b6a3d74c29ab65edc4fd40ce51"
       ],
       "layout": "IPY_MODEL_0f05d3bf6bc943089b85ab05f13d8f10"
      }
     },
     "d182d3a541724c198abc43a5dba9c3ac": {
      "model_module": "@jupyter-widgets/controls",
      "model_module_version": "1.5.0",
      "model_name": "HTMLModel",
      "state": {
       "_dom_classes": [],
       "_model_module": "@jupyter-widgets/controls",
       "_model_module_version": "1.5.0",
       "_model_name": "HTMLModel",
       "_view_count": null,
       "_view_module": "@jupyter-widgets/controls",
       "_view_module_version": "1.5.0",
       "_view_name": "HTMLView",
       "description": "",
       "description_tooltip": null,
       "layout": "IPY_MODEL_c056c1336d1c4a908a9e46cde3cb6e7f",
       "placeholder": "​",
       "style": "IPY_MODEL_cb6d7e14ae0e4468a9b9f9e96a318616",
       "value": "Downloading data files: 100%"
      }
     },
     "e513b0d4e23348669b8cdb3a720aaee4": {
      "model_module": "@jupyter-widgets/base",
      "model_module_version": "1.2.0",
      "model_name": "LayoutModel",
      "state": {
       "_model_module": "@jupyter-widgets/base",
       "_model_module_version": "1.2.0",
       "_model_name": "LayoutModel",
       "_view_count": null,
       "_view_module": "@jupyter-widgets/base",
       "_view_module_version": "1.2.0",
       "_view_name": "LayoutView",
       "align_content": null,
       "align_items": null,
       "align_self": null,
       "border": null,
       "bottom": null,
       "display": null,
       "flex": null,
       "flex_flow": null,
       "grid_area": null,
       "grid_auto_columns": null,
       "grid_auto_flow": null,
       "grid_auto_rows": null,
       "grid_column": null,
       "grid_gap": null,
       "grid_row": null,
       "grid_template_areas": null,
       "grid_template_columns": null,
       "grid_template_rows": null,
       "height": null,
       "justify_content": null,
       "justify_items": null,
       "left": null,
       "margin": null,
       "max_height": null,
       "max_width": null,
       "min_height": null,
       "min_width": null,
       "object_fit": null,
       "object_position": null,
       "order": null,
       "overflow": null,
       "overflow_x": null,
       "overflow_y": null,
       "padding": null,
       "right": null,
       "top": null,
       "visibility": null,
       "width": null
      }
     },
     "e52fbf79f38d496096eed1f83d5ad217": {
      "model_module": "@jupyter-widgets/controls",
      "model_module_version": "1.5.0",
      "model_name": "HBoxModel",
      "state": {
       "_dom_classes": [],
       "_model_module": "@jupyter-widgets/controls",
       "_model_module_version": "1.5.0",
       "_model_name": "HBoxModel",
       "_view_count": null,
       "_view_module": "@jupyter-widgets/controls",
       "_view_module_version": "1.5.0",
       "_view_name": "HBoxView",
       "box_style": "",
       "children": [
        "IPY_MODEL_1f395329e1bd46369f77342f75be3fae",
        "IPY_MODEL_182e24250d204964b6da63e939553b2c",
        "IPY_MODEL_36fabb2308704c9f8221e6d3f72fc92c"
       ],
       "layout": "IPY_MODEL_8cae69df93eb4637b71775623edc4ea5"
      }
     },
     "e82affdff8544966b33d820f960a9fe6": {
      "model_module": "@jupyter-widgets/base",
      "model_module_version": "1.2.0",
      "model_name": "LayoutModel",
      "state": {
       "_model_module": "@jupyter-widgets/base",
       "_model_module_version": "1.2.0",
       "_model_name": "LayoutModel",
       "_view_count": null,
       "_view_module": "@jupyter-widgets/base",
       "_view_module_version": "1.2.0",
       "_view_name": "LayoutView",
       "align_content": null,
       "align_items": null,
       "align_self": null,
       "border": null,
       "bottom": null,
       "display": null,
       "flex": null,
       "flex_flow": null,
       "grid_area": null,
       "grid_auto_columns": null,
       "grid_auto_flow": null,
       "grid_auto_rows": null,
       "grid_column": null,
       "grid_gap": null,
       "grid_row": null,
       "grid_template_areas": null,
       "grid_template_columns": null,
       "grid_template_rows": null,
       "height": null,
       "justify_content": null,
       "justify_items": null,
       "left": null,
       "margin": null,
       "max_height": null,
       "max_width": null,
       "min_height": null,
       "min_width": null,
       "object_fit": null,
       "object_position": null,
       "order": null,
       "overflow": null,
       "overflow_x": null,
       "overflow_y": null,
       "padding": null,
       "right": null,
       "top": null,
       "visibility": null,
       "width": null
      }
     },
     "ea358ab0ca8d4d4990db7c21e212822f": {
      "model_module": "@jupyter-widgets/controls",
      "model_module_version": "1.5.0",
      "model_name": "HTMLModel",
      "state": {
       "_dom_classes": [],
       "_model_module": "@jupyter-widgets/controls",
       "_model_module_version": "1.5.0",
       "_model_name": "HTMLModel",
       "_view_count": null,
       "_view_module": "@jupyter-widgets/controls",
       "_view_module_version": "1.5.0",
       "_view_name": "HTMLView",
       "description": "",
       "description_tooltip": null,
       "layout": "IPY_MODEL_e513b0d4e23348669b8cdb3a720aaee4",
       "placeholder": "​",
       "style": "IPY_MODEL_c908563f2c774daf9a9f5dc6eded3df1",
       "value": " 1/1 [00:00&lt;00:00,  1.42it/s]"
      }
     }
    },
    "version_major": 2,
    "version_minor": 0
   }
  }
 },
 "nbformat": 4,
 "nbformat_minor": 5
}

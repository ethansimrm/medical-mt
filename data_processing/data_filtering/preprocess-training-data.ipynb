{
 "cells": [
  {
   "cell_type": "code",
   "execution_count": 1,
   "id": "8a42c166",
   "metadata": {
    "execution": {
     "iopub.execute_input": "2023-06-19T19:07:08.169676Z",
     "iopub.status.busy": "2023-06-19T19:07:08.169285Z",
     "iopub.status.idle": "2023-06-19T19:07:36.260063Z",
     "shell.execute_reply": "2023-06-19T19:07:36.258564Z"
    },
    "papermill": {
     "duration": 28.101937,
     "end_time": "2023-06-19T19:07:36.262858",
     "exception": false,
     "start_time": "2023-06-19T19:07:08.160921",
     "status": "completed"
    },
    "tags": []
   },
   "outputs": [
    {
     "name": "stdout",
     "output_type": "stream",
     "text": [
      "Collecting transformers==4.28.0\r\n",
      "  Downloading transformers-4.28.0-py3-none-any.whl (7.0 MB)\r\n",
      "\u001b[2K     \u001b[90m━━━━━━━━━━━━━━━━━━━━━━━━━━━━━━━━━━━━━━━━\u001b[0m \u001b[32m7.0/7.0 MB\u001b[0m \u001b[31m43.9 MB/s\u001b[0m eta \u001b[36m0:00:00\u001b[0m\r\n",
      "\u001b[?25hRequirement already satisfied: sentencepiece in /opt/conda/lib/python3.10/site-packages (0.1.99)\r\n",
      "Collecting sacremoses\r\n",
      "  Downloading sacremoses-0.0.53.tar.gz (880 kB)\r\n",
      "\u001b[2K     \u001b[90m━━━━━━━━━━━━━━━━━━━━━━━━━━━━━━━━━━━━━━\u001b[0m \u001b[32m880.6/880.6 kB\u001b[0m \u001b[31m47.7 MB/s\u001b[0m eta \u001b[36m0:00:00\u001b[0m\r\n",
      "\u001b[?25h  Preparing metadata (setup.py) ... \u001b[?25l-\b \b\\\b \bdone\r\n",
      "\u001b[?25hRequirement already satisfied: datasets in /opt/conda/lib/python3.10/site-packages (2.1.0)\r\n",
      "Requirement already satisfied: filelock in /opt/conda/lib/python3.10/site-packages (from transformers==4.28.0) (3.12.0)\r\n",
      "Requirement already satisfied: huggingface-hub<1.0,>=0.11.0 in /opt/conda/lib/python3.10/site-packages (from transformers==4.28.0) (0.14.1)\r\n",
      "Requirement already satisfied: numpy>=1.17 in /opt/conda/lib/python3.10/site-packages (from transformers==4.28.0) (1.23.5)\r\n",
      "Requirement already satisfied: packaging>=20.0 in /opt/conda/lib/python3.10/site-packages (from transformers==4.28.0) (21.3)\r\n",
      "Requirement already satisfied: pyyaml>=5.1 in /opt/conda/lib/python3.10/site-packages (from transformers==4.28.0) (5.4.1)\r\n",
      "Requirement already satisfied: regex!=2019.12.17 in /opt/conda/lib/python3.10/site-packages (from transformers==4.28.0) (2023.5.5)\r\n",
      "Requirement already satisfied: requests in /opt/conda/lib/python3.10/site-packages (from transformers==4.28.0) (2.28.2)\r\n",
      "Requirement already satisfied: tokenizers!=0.11.3,<0.14,>=0.11.1 in /opt/conda/lib/python3.10/site-packages (from transformers==4.28.0) (0.13.3)\r\n",
      "Requirement already satisfied: tqdm>=4.27 in /opt/conda/lib/python3.10/site-packages (from transformers==4.28.0) (4.64.1)\r\n",
      "Requirement already satisfied: six in /opt/conda/lib/python3.10/site-packages (from sacremoses) (1.16.0)\r\n",
      "Requirement already satisfied: click in /opt/conda/lib/python3.10/site-packages (from sacremoses) (8.1.3)\r\n",
      "Requirement already satisfied: joblib in /opt/conda/lib/python3.10/site-packages (from sacremoses) (1.2.0)\r\n",
      "Requirement already satisfied: pyarrow>=5.0.0 in /opt/conda/lib/python3.10/site-packages (from datasets) (9.0.0)\r\n",
      "Requirement already satisfied: dill in /opt/conda/lib/python3.10/site-packages (from datasets) (0.3.6)\r\n",
      "Requirement already satisfied: pandas in /opt/conda/lib/python3.10/site-packages (from datasets) (1.5.3)\r\n",
      "Requirement already satisfied: xxhash in /opt/conda/lib/python3.10/site-packages (from datasets) (3.2.0)\r\n",
      "Requirement already satisfied: multiprocess in /opt/conda/lib/python3.10/site-packages (from datasets) (0.70.14)\r\n",
      "Requirement already satisfied: fsspec[http]>=2021.05.0 in /opt/conda/lib/python3.10/site-packages (from datasets) (2023.5.0)\r\n",
      "Requirement already satisfied: aiohttp in /opt/conda/lib/python3.10/site-packages (from datasets) (3.8.4)\r\n",
      "Requirement already satisfied: responses<0.19 in /opt/conda/lib/python3.10/site-packages (from datasets) (0.18.0)\r\n",
      "Requirement already satisfied: attrs>=17.3.0 in /opt/conda/lib/python3.10/site-packages (from aiohttp->datasets) (23.1.0)\r\n",
      "Requirement already satisfied: charset-normalizer<4.0,>=2.0 in /opt/conda/lib/python3.10/site-packages (from aiohttp->datasets) (2.1.1)\r\n",
      "Requirement already satisfied: multidict<7.0,>=4.5 in /opt/conda/lib/python3.10/site-packages (from aiohttp->datasets) (6.0.4)\r\n",
      "Requirement already satisfied: async-timeout<5.0,>=4.0.0a3 in /opt/conda/lib/python3.10/site-packages (from aiohttp->datasets) (4.0.2)\r\n",
      "Requirement already satisfied: yarl<2.0,>=1.0 in /opt/conda/lib/python3.10/site-packages (from aiohttp->datasets) (1.9.1)\r\n",
      "Requirement already satisfied: frozenlist>=1.1.1 in /opt/conda/lib/python3.10/site-packages (from aiohttp->datasets) (1.3.3)\r\n",
      "Requirement already satisfied: aiosignal>=1.1.2 in /opt/conda/lib/python3.10/site-packages (from aiohttp->datasets) (1.3.1)\r\n",
      "Requirement already satisfied: typing-extensions>=3.7.4.3 in /opt/conda/lib/python3.10/site-packages (from huggingface-hub<1.0,>=0.11.0->transformers==4.28.0) (4.5.0)\r\n",
      "Requirement already satisfied: pyparsing!=3.0.5,>=2.0.2 in /opt/conda/lib/python3.10/site-packages (from packaging>=20.0->transformers==4.28.0) (3.0.9)\r\n",
      "Requirement already satisfied: idna<4,>=2.5 in /opt/conda/lib/python3.10/site-packages (from requests->transformers==4.28.0) (3.4)\r\n",
      "Requirement already satisfied: urllib3<1.27,>=1.21.1 in /opt/conda/lib/python3.10/site-packages (from requests->transformers==4.28.0) (1.26.15)\r\n",
      "Requirement already satisfied: certifi>=2017.4.17 in /opt/conda/lib/python3.10/site-packages (from requests->transformers==4.28.0) (2023.5.7)\r\n",
      "Requirement already satisfied: python-dateutil>=2.8.1 in /opt/conda/lib/python3.10/site-packages (from pandas->datasets) (2.8.2)\r\n",
      "Requirement already satisfied: pytz>=2020.1 in /opt/conda/lib/python3.10/site-packages (from pandas->datasets) (2023.3)\r\n",
      "Building wheels for collected packages: sacremoses\r\n",
      "  Building wheel for sacremoses (setup.py) ... \u001b[?25l-\b \b\\\b \b|\b \bdone\r\n",
      "\u001b[?25h  Created wheel for sacremoses: filename=sacremoses-0.0.53-py3-none-any.whl size=895260 sha256=14103f83c76bcbd392d9fe43b4963be95fff3910f474d1bfb94982f4dc4e0a01\r\n",
      "  Stored in directory: /root/.cache/pip/wheels/00/24/97/a2ea5324f36bc626e1ea0267f33db6aa80d157ee977e9e42fb\r\n",
      "Successfully built sacremoses\r\n",
      "Installing collected packages: sacremoses, transformers\r\n",
      "  Attempting uninstall: transformers\r\n",
      "    Found existing installation: transformers 4.29.2\r\n",
      "    Uninstalling transformers-4.29.2:\r\n",
      "      Successfully uninstalled transformers-4.29.2\r\n",
      "Successfully installed sacremoses-0.0.53 transformers-4.28.0\r\n",
      "\u001b[33mWARNING: Running pip as the 'root' user can result in broken permissions and conflicting behaviour with the system package manager. It is recommended to use a virtual environment instead: https://pip.pypa.io/warnings/venv\u001b[0m\u001b[33m\r\n",
      "\u001b[0m"
     ]
    }
   ],
   "source": [
    "!pip install transformers==4.28.0 sentencepiece sacremoses datasets "
   ]
  },
  {
   "cell_type": "code",
   "execution_count": 2,
   "id": "9629d03c",
   "metadata": {
    "execution": {
     "iopub.execute_input": "2023-06-19T19:07:36.283634Z",
     "iopub.status.busy": "2023-06-19T19:07:36.282654Z",
     "iopub.status.idle": "2023-06-19T19:07:40.741692Z",
     "shell.execute_reply": "2023-06-19T19:07:40.740543Z"
    },
    "papermill": {
     "duration": 4.471811,
     "end_time": "2023-06-19T19:07:40.744776",
     "exception": false,
     "start_time": "2023-06-19T19:07:36.272965",
     "status": "completed"
    },
    "tags": []
   },
   "outputs": [
    {
     "name": "stdout",
     "output_type": "stream",
     "text": [
      "Token will not been saved to git credential helper. Pass `add_to_git_credential=True` if you want to set the git credential as well.\n",
      "Token is valid.\n",
      "Your token has been saved to /root/.cache/huggingface/token\n",
      "Login successful\n"
     ]
    },
    {
     "name": "stderr",
     "output_type": "stream",
     "text": [
      "\u001b[34m\u001b[1mwandb\u001b[0m: W&B API key is configured. Use \u001b[1m`wandb login --relogin`\u001b[0m to force relogin\n",
      "\u001b[34m\u001b[1mwandb\u001b[0m: \u001b[33mWARNING\u001b[0m If you're specifying your api key in code, ensure this code is not shared publicly.\n",
      "\u001b[34m\u001b[1mwandb\u001b[0m: \u001b[33mWARNING\u001b[0m Consider setting the WANDB_API_KEY environment variable, or running `wandb login` from the command line.\n",
      "\u001b[34m\u001b[1mwandb\u001b[0m: Appending key for api.wandb.ai to your netrc file: /root/.netrc\n"
     ]
    },
    {
     "data": {
      "text/plain": [
       "True"
      ]
     },
     "execution_count": 2,
     "metadata": {},
     "output_type": "execute_result"
    }
   ],
   "source": [
    "from huggingface_hub import login\n",
    "from kaggle_secrets import UserSecretsClient\n",
    "import wandb\n",
    "user_secrets = UserSecretsClient()\n",
    "secret_value = user_secrets.get_secret(\"HF_KEY\")\n",
    "login(secret_value)\n",
    "secret_value1 = user_secrets.get_secret(\"WANDB_KEY\")\n",
    "wandb.login(key=secret_value1)"
   ]
  },
  {
   "cell_type": "code",
   "execution_count": 3,
   "id": "0bd56e24",
   "metadata": {
    "execution": {
     "iopub.execute_input": "2023-06-19T19:07:40.764325Z",
     "iopub.status.busy": "2023-06-19T19:07:40.763948Z",
     "iopub.status.idle": "2023-06-19T19:07:55.778927Z",
     "shell.execute_reply": "2023-06-19T19:07:55.777645Z"
    },
    "papermill": {
     "duration": 15.027553,
     "end_time": "2023-06-19T19:07:55.781368",
     "exception": false,
     "start_time": "2023-06-19T19:07:40.753815",
     "status": "completed"
    },
    "tags": []
   },
   "outputs": [
    {
     "name": "stdout",
     "output_type": "stream",
     "text": [
      "Downloading and preparing dataset text/ethansimrm--wmt_16_19_22_biomed_train to /root/.cache/huggingface/datasets/text/ethansimrm--wmt_16_19_22_biomed_train-3dd4d6328c3dbab1/0.0.0/4b86d314f7236db91f0a0f5cda32d4375445e64c5eda2692655dd99c2dac68e8...\n"
     ]
    },
    {
     "data": {
      "application/vnd.jupyter.widget-view+json": {
       "model_id": "079766fcdac94a0f86bc2b92c32499e6",
       "version_major": 2,
       "version_minor": 0
      },
      "text/plain": [
       "Downloading data files:   0%|          | 0/1 [00:00<?, ?it/s]"
      ]
     },
     "metadata": {},
     "output_type": "display_data"
    },
    {
     "data": {
      "application/vnd.jupyter.widget-view+json": {
       "model_id": "8ff0d8c5815c43be8dfa9b1955574cc0",
       "version_major": 2,
       "version_minor": 0
      },
      "text/plain": [
       "Downloading data:   0%|          | 0.00/48.7M [00:00<?, ?B/s]"
      ]
     },
     "metadata": {},
     "output_type": "display_data"
    },
    {
     "data": {
      "application/vnd.jupyter.widget-view+json": {
       "model_id": "cf6e55b11d4b4e7f94cd5c792e1725b5",
       "version_major": 2,
       "version_minor": 0
      },
      "text/plain": [
       "Extracting data files:   0%|          | 0/1 [00:00<?, ?it/s]"
      ]
     },
     "metadata": {},
     "output_type": "display_data"
    },
    {
     "name": "stdout",
     "output_type": "stream",
     "text": [
      "Dataset text downloaded and prepared to /root/.cache/huggingface/datasets/text/ethansimrm--wmt_16_19_22_biomed_train-3dd4d6328c3dbab1/0.0.0/4b86d314f7236db91f0a0f5cda32d4375445e64c5eda2692655dd99c2dac68e8. Subsequent calls will reuse this data.\n"
     ]
    }
   ],
   "source": [
    "from datasets import load_dataset\n",
    "training_data = load_dataset(\"ethansimrm/wmt_16_19_22_biomed_train\", split = \"train\", use_auth_token=True) "
   ]
  },
  {
   "cell_type": "code",
   "execution_count": 4,
   "id": "18ea573f",
   "metadata": {
    "execution": {
     "iopub.execute_input": "2023-06-19T19:07:55.804461Z",
     "iopub.status.busy": "2023-06-19T19:07:55.803793Z",
     "iopub.status.idle": "2023-06-19T19:07:55.808844Z",
     "shell.execute_reply": "2023-06-19T19:07:55.807700Z"
    },
    "papermill": {
     "duration": 0.020253,
     "end_time": "2023-06-19T19:07:55.811340",
     "exception": false,
     "start_time": "2023-06-19T19:07:55.791087",
     "status": "completed"
    },
    "tags": []
   },
   "outputs": [],
   "source": [
    "#len(training_data) #741300 sentence pairs prior to pre-processing\n",
    "#training_data['text'][1:10] #Adopting the SOURCE \\t TARGET \\n format is convenient."
   ]
  },
  {
   "cell_type": "code",
   "execution_count": 5,
   "id": "183eb8fe",
   "metadata": {
    "execution": {
     "iopub.execute_input": "2023-06-19T19:07:55.832955Z",
     "iopub.status.busy": "2023-06-19T19:07:55.832321Z",
     "iopub.status.idle": "2023-06-19T19:07:59.481978Z",
     "shell.execute_reply": "2023-06-19T19:07:59.481076Z"
    },
    "papermill": {
     "duration": 3.663178,
     "end_time": "2023-06-19T19:07:59.484504",
     "exception": false,
     "start_time": "2023-06-19T19:07:55.821326",
     "status": "completed"
    },
    "tags": []
   },
   "outputs": [],
   "source": [
    "from datasets import Dataset\n",
    "source = []\n",
    "target = []\n",
    "for example in training_data['text']:\n",
    "    example = example.strip()\n",
    "    sentences = example.split(\"\\t\")\n",
    "    source.append(sentences[0])\n",
    "    target.append(sentences[1])\n",
    "ready_data = Dataset.from_dict({\"en\":source, \"fr\":target})\n",
    "#This dataset can now be used for training or validation per early experiments"
   ]
  },
  {
   "cell_type": "code",
   "execution_count": 6,
   "id": "242c95bf",
   "metadata": {
    "execution": {
     "iopub.execute_input": "2023-06-19T19:07:59.506281Z",
     "iopub.status.busy": "2023-06-19T19:07:59.505697Z",
     "iopub.status.idle": "2023-06-19T19:07:59.511798Z",
     "shell.execute_reply": "2023-06-19T19:07:59.510865Z"
    },
    "papermill": {
     "duration": 0.019673,
     "end_time": "2023-06-19T19:07:59.514168",
     "exception": false,
     "start_time": "2023-06-19T19:07:59.494495",
     "status": "completed"
    },
    "tags": []
   },
   "outputs": [
    {
     "data": {
      "text/plain": [
       "{'en': 'Global Health: Where Do Physiotherapy and Rehabilitation Research Fit?',\n",
       " 'fr': 'La place des cheveux et des poils dans les rituels et le sacré.'}"
      ]
     },
     "execution_count": 6,
     "metadata": {},
     "output_type": "execute_result"
    }
   ],
   "source": [
    "#Seems alright.\n",
    "ready_data[0]"
   ]
  },
  {
   "cell_type": "code",
   "execution_count": 7,
   "id": "5884b502",
   "metadata": {
    "execution": {
     "iopub.execute_input": "2023-06-19T19:07:59.536474Z",
     "iopub.status.busy": "2023-06-19T19:07:59.535863Z",
     "iopub.status.idle": "2023-06-19T19:08:48.381023Z",
     "shell.execute_reply": "2023-06-19T19:08:48.379859Z"
    },
    "papermill": {
     "duration": 48.859747,
     "end_time": "2023-06-19T19:08:48.384267",
     "exception": false,
     "start_time": "2023-06-19T19:07:59.524520",
     "status": "completed"
    },
    "tags": []
   },
   "outputs": [],
   "source": [
    "import pandas as pd\n",
    "#Let's start preprocessing according to Wu et al.(2022).\n",
    "#First, remove duplicate sentences. \n",
    "#We can't do this in datasets, so we must convert it to a pandas DataFrame.\n",
    "tempDataset = pd.DataFrame(ready_data)"
   ]
  },
  {
   "cell_type": "code",
   "execution_count": 8,
   "id": "65aaad09",
   "metadata": {
    "execution": {
     "iopub.execute_input": "2023-06-19T19:08:48.409419Z",
     "iopub.status.busy": "2023-06-19T19:08:48.408649Z",
     "iopub.status.idle": "2023-06-19T19:08:48.413055Z",
     "shell.execute_reply": "2023-06-19T19:08:48.412110Z"
    },
    "papermill": {
     "duration": 0.018049,
     "end_time": "2023-06-19T19:08:48.415192",
     "exception": false,
     "start_time": "2023-06-19T19:08:48.397143",
     "status": "completed"
    },
    "tags": []
   },
   "outputs": [],
   "source": [
    "#tempDataset[tempDataset.duplicated()] \n",
    "#Wow, there are a lot of duplicate rows, 39540 in total."
   ]
  },
  {
   "cell_type": "code",
   "execution_count": 9,
   "id": "95ce23c8",
   "metadata": {
    "execution": {
     "iopub.execute_input": "2023-06-19T19:08:48.437568Z",
     "iopub.status.busy": "2023-06-19T19:08:48.436704Z",
     "iopub.status.idle": "2023-06-19T19:08:49.561826Z",
     "shell.execute_reply": "2023-06-19T19:08:49.560993Z"
    },
    "papermill": {
     "duration": 1.139196,
     "end_time": "2023-06-19T19:08:49.564324",
     "exception": false,
     "start_time": "2023-06-19T19:08:48.425128",
     "status": "completed"
    },
    "tags": []
   },
   "outputs": [],
   "source": [
    "tempDataset_dedup = tempDataset.drop_duplicates()"
   ]
  },
  {
   "cell_type": "code",
   "execution_count": 10,
   "id": "2d3f2d31",
   "metadata": {
    "execution": {
     "iopub.execute_input": "2023-06-19T19:08:49.587844Z",
     "iopub.status.busy": "2023-06-19T19:08:49.587428Z",
     "iopub.status.idle": "2023-06-19T19:08:52.176319Z",
     "shell.execute_reply": "2023-06-19T19:08:52.174917Z"
    },
    "papermill": {
     "duration": 2.604966,
     "end_time": "2023-06-19T19:08:52.179101",
     "exception": false,
     "start_time": "2023-06-19T19:08:49.574135",
     "status": "completed"
    },
    "tags": []
   },
   "outputs": [],
   "source": [
    "#Declaring helper functions separately\n",
    "import langid, string\n",
    "from tqdm import tqdm\n",
    "langid.set_languages([\"en\", \"fr\"]) #Constrain language set\n",
    "tqdm.pandas() #So I can see progress\n",
    "count = lambda l1,l2: sum([1 for x in l1 if x in l2])"
   ]
  },
  {
   "cell_type": "code",
   "execution_count": 11,
   "id": "40e91154",
   "metadata": {
    "execution": {
     "iopub.execute_input": "2023-06-19T19:08:52.201087Z",
     "iopub.status.busy": "2023-06-19T19:08:52.200398Z",
     "iopub.status.idle": "2023-06-19T19:08:52.214653Z",
     "shell.execute_reply": "2023-06-19T19:08:52.213331Z"
    },
    "papermill": {
     "duration": 0.027987,
     "end_time": "2023-06-19T19:08:52.217149",
     "exception": false,
     "start_time": "2023-06-19T19:08:52.189162",
     "status": "completed"
    },
    "tags": []
   },
   "outputs": [
    {
     "name": "stdout",
     "output_type": "stream",
     "text": [
      "\n"
     ]
    }
   ],
   "source": [
    "#Having verified that we can convert this back into a Dataset object, we'll just \n",
    "#do everything else in a pandas DataFrame. There are seven per-sentence checks\n",
    "#we can do.\n",
    "\n",
    "def retain_sentence(row): #This defines a good sentence we wish to retain\n",
    "    word_counts = []\n",
    "    #Exclude repeats and empty source or target sentences\n",
    "    if ((row[\"en\"] == row[\"fr\"]) or (row[\"en\"] == \"\") or (row[\"fr\"] == \"\")):\n",
    "        return False\n",
    "    for sentence in (row[\"en\"], row[\"fr\"]):\n",
    "        #Exclude sentences with mismatched () or '' or \"\"\n",
    "        if ((sentence.count(\"(\") != sentence.count(\")\")) or \n",
    "            (sentence.count(\"'\") % 2 != 0) or\n",
    "            (sentence.count('\"') % 2 != 0)):\n",
    "            return False\n",
    "        sent_length = len(sentence)\n",
    "        #Exclude sentences with punctuation percentage > 0.4\n",
    "        if (count(sentence,set(string.punctuation)) > 0.4 * sent_length):\n",
    "            return False\n",
    "        #Exclude sentences with > 150 words\n",
    "        num_words = len(sentence.split(\" \"))\n",
    "        if (num_words > 150):\n",
    "            return False\n",
    "        word_counts.append(num_words)\n",
    "        #Exclude sentences with char-to-word ratio > 12 or < 1.5\n",
    "        c2w_ratio = sent_length / num_words\n",
    "        if ((c2w_ratio > 12) or (c2w_ratio < 1.5)):\n",
    "            return False\n",
    "    #Heuristic \"alignment\" filtering\n",
    "    word_ratio = word_counts[0] / word_counts[1]\n",
    "    if((word_ratio >= 9) or (1/word_ratio >= 9)):\n",
    "        return False\n",
    "    #Expensive language-determining step\n",
    "    if ((langid.classify(row['en'])[0] != \"en\") or \n",
    "    (langid.classify(row['fr'])[0] != \"fr\")):\n",
    "        return False\n",
    "    return True\n",
    "\"\"\"\n",
    "We will skip full alignment-checking, due to infeasibility and time constraints.\n",
    "SOTA-used options such as fast-align and eflomal require a large parallel training \n",
    "corpus, which we lack. AWESOME-align cannot run, even from the command line, \n",
    "due to an issue with the multiprocessing module and pickling. We can take another\n",
    "crack at this in the future.\n",
    "\n",
    "However, we can filter out obviously bad alignments by looking at word ratio;\n",
    "we filter out word ratios greater than 9 or smaller than 1/9.\n",
    "This (heuristic) method comes from Del et al. (2021).\n",
    "\"\"\"\n",
    "print()"
   ]
  },
  {
   "cell_type": "code",
   "execution_count": 12,
   "id": "5da58d40",
   "metadata": {
    "execution": {
     "iopub.execute_input": "2023-06-19T19:08:52.239197Z",
     "iopub.status.busy": "2023-06-19T19:08:52.238599Z",
     "iopub.status.idle": "2023-06-19T19:13:30.202302Z",
     "shell.execute_reply": "2023-06-19T19:13:30.201168Z"
    },
    "papermill": {
     "duration": 277.980056,
     "end_time": "2023-06-19T19:13:30.207258",
     "exception": false,
     "start_time": "2023-06-19T19:08:52.227202",
     "status": "completed"
    },
    "tags": []
   },
   "outputs": [
    {
     "name": "stderr",
     "output_type": "stream",
     "text": [
      "100%|██████████| 701760/701760 [04:37<00:00, 2524.73it/s]\n"
     ]
    }
   ],
   "source": [
    "tempDataset_nearlyAligned = tempDataset_dedup.progress_apply(retain_sentence, axis=1)"
   ]
  },
  {
   "cell_type": "code",
   "execution_count": 13,
   "id": "1a45fa27",
   "metadata": {
    "execution": {
     "iopub.execute_input": "2023-06-19T19:13:30.703253Z",
     "iopub.status.busy": "2023-06-19T19:13:30.702888Z",
     "iopub.status.idle": "2023-06-19T19:13:30.739104Z",
     "shell.execute_reply": "2023-06-19T19:13:30.738237Z"
    },
    "papermill": {
     "duration": 0.285648,
     "end_time": "2023-06-19T19:13:30.742158",
     "exception": false,
     "start_time": "2023-06-19T19:13:30.456510",
     "status": "completed"
    },
    "tags": []
   },
   "outputs": [],
   "source": [
    "filtered_set = tempDataset_dedup[tempDataset_nearlyAligned]"
   ]
  },
  {
   "cell_type": "code",
   "execution_count": 14,
   "id": "fd6e1359",
   "metadata": {
    "execution": {
     "iopub.execute_input": "2023-06-19T19:13:31.299938Z",
     "iopub.status.busy": "2023-06-19T19:13:31.299547Z",
     "iopub.status.idle": "2023-06-19T19:13:31.329285Z",
     "shell.execute_reply": "2023-06-19T19:13:31.328272Z"
    },
    "papermill": {
     "duration": 0.343942,
     "end_time": "2023-06-19T19:13:31.331958",
     "exception": false,
     "start_time": "2023-06-19T19:13:30.988016",
     "status": "completed"
    },
    "tags": []
   },
   "outputs": [],
   "source": [
    "filtered_set = filtered_set.reset_index(drop=True)"
   ]
  },
  {
   "cell_type": "code",
   "execution_count": 15,
   "id": "5da17b81",
   "metadata": {
    "execution": {
     "iopub.execute_input": "2023-06-19T19:13:31.820345Z",
     "iopub.status.busy": "2023-06-19T19:13:31.819689Z",
     "iopub.status.idle": "2023-06-19T19:13:31.963965Z",
     "shell.execute_reply": "2023-06-19T19:13:31.962786Z"
    },
    "papermill": {
     "duration": 0.391658,
     "end_time": "2023-06-19T19:13:31.966783",
     "exception": false,
     "start_time": "2023-06-19T19:13:31.575125",
     "status": "completed"
    },
    "tags": []
   },
   "outputs": [],
   "source": [
    "filtered_set = filtered_set.sample(frac=1).reset_index(drop=True) #Shuffle to avoid overfitting "
   ]
  },
  {
   "cell_type": "code",
   "execution_count": 16,
   "id": "ad55ebc8",
   "metadata": {
    "execution": {
     "iopub.execute_input": "2023-06-19T19:13:32.451509Z",
     "iopub.status.busy": "2023-06-19T19:13:32.451131Z",
     "iopub.status.idle": "2023-06-19T19:13:37.940485Z",
     "shell.execute_reply": "2023-06-19T19:13:37.939389Z"
    },
    "papermill": {
     "duration": 5.73506,
     "end_time": "2023-06-19T19:13:37.943328",
     "exception": false,
     "start_time": "2023-06-19T19:13:32.208268",
     "status": "completed"
    },
    "tags": []
   },
   "outputs": [],
   "source": [
    "f = open(\"wmt_train_filtered.txt\", \"w\", encoding = \"utf-8\")\n",
    "source = filtered_set[\"en\"]\n",
    "target = filtered_set[\"fr\"]\n",
    "for i in range(len(filtered_set)):\n",
    "    f.write(source[i] + \"\\t\" + target[i] + \"\\n\")\n",
    "f.close()"
   ]
  }
 ],
 "metadata": {
  "kernelspec": {
   "display_name": "Python 3 (ipykernel)",
   "language": "python",
   "name": "python3"
  },
  "language_info": {
   "codemirror_mode": {
    "name": "ipython",
    "version": 3
   },
   "file_extension": ".py",
   "mimetype": "text/x-python",
   "name": "python",
   "nbconvert_exporter": "python",
   "pygments_lexer": "ipython3",
   "version": "3.10.11"
  },
  "papermill": {
   "default_parameters": {},
   "duration": 403.715022,
   "end_time": "2023-06-19T19:13:39.915657",
   "environment_variables": {},
   "exception": null,
   "input_path": "__notebook__.ipynb",
   "output_path": "__notebook__.ipynb",
   "parameters": {},
   "start_time": "2023-06-19T19:06:56.200635",
   "version": "2.4.0"
  },
  "widgets": {
   "application/vnd.jupyter.widget-state+json": {
    "state": {
     "037f80e2eecd4870a86fcc431c449a56": {
      "model_module": "@jupyter-widgets/controls",
      "model_module_version": "1.5.0",
      "model_name": "DescriptionStyleModel",
      "state": {
       "_model_module": "@jupyter-widgets/controls",
       "_model_module_version": "1.5.0",
       "_model_name": "DescriptionStyleModel",
       "_view_count": null,
       "_view_module": "@jupyter-widgets/base",
       "_view_module_version": "1.2.0",
       "_view_name": "StyleView",
       "description_width": ""
      }
     },
     "07877fdfb2ac4ab09905975b6b89f0de": {
      "model_module": "@jupyter-widgets/base",
      "model_module_version": "1.2.0",
      "model_name": "LayoutModel",
      "state": {
       "_model_module": "@jupyter-widgets/base",
       "_model_module_version": "1.2.0",
       "_model_name": "LayoutModel",
       "_view_count": null,
       "_view_module": "@jupyter-widgets/base",
       "_view_module_version": "1.2.0",
       "_view_name": "LayoutView",
       "align_content": null,
       "align_items": null,
       "align_self": null,
       "border": null,
       "bottom": null,
       "display": null,
       "flex": null,
       "flex_flow": null,
       "grid_area": null,
       "grid_auto_columns": null,
       "grid_auto_flow": null,
       "grid_auto_rows": null,
       "grid_column": null,
       "grid_gap": null,
       "grid_row": null,
       "grid_template_areas": null,
       "grid_template_columns": null,
       "grid_template_rows": null,
       "height": null,
       "justify_content": null,
       "justify_items": null,
       "left": null,
       "margin": null,
       "max_height": null,
       "max_width": null,
       "min_height": null,
       "min_width": null,
       "object_fit": null,
       "object_position": null,
       "order": null,
       "overflow": null,
       "overflow_x": null,
       "overflow_y": null,
       "padding": null,
       "right": null,
       "top": null,
       "visibility": null,
       "width": null
      }
     },
     "079766fcdac94a0f86bc2b92c32499e6": {
      "model_module": "@jupyter-widgets/controls",
      "model_module_version": "1.5.0",
      "model_name": "HBoxModel",
      "state": {
       "_dom_classes": [],
       "_model_module": "@jupyter-widgets/controls",
       "_model_module_version": "1.5.0",
       "_model_name": "HBoxModel",
       "_view_count": null,
       "_view_module": "@jupyter-widgets/controls",
       "_view_module_version": "1.5.0",
       "_view_name": "HBoxView",
       "box_style": "",
       "children": [
        "IPY_MODEL_e80e84cf17294f0fad57062abf901eef",
        "IPY_MODEL_6cb76a366b914cc48217f1849f668f73",
        "IPY_MODEL_6940afb0fd8c4d5a950db415a98d8a1d"
       ],
       "layout": "IPY_MODEL_c1e6ea5162534d1f9fd3463d418957d0"
      }
     },
     "0cf04f5306e04b02bf9386b256e3e0e9": {
      "model_module": "@jupyter-widgets/controls",
      "model_module_version": "1.5.0",
      "model_name": "HTMLModel",
      "state": {
       "_dom_classes": [],
       "_model_module": "@jupyter-widgets/controls",
       "_model_module_version": "1.5.0",
       "_model_name": "HTMLModel",
       "_view_count": null,
       "_view_module": "@jupyter-widgets/controls",
       "_view_module_version": "1.5.0",
       "_view_name": "HTMLView",
       "description": "",
       "description_tooltip": null,
       "layout": "IPY_MODEL_db36e37711344129b0f601828ba24afb",
       "placeholder": "​",
       "style": "IPY_MODEL_408374f5169a4df48d6fd378272cca77",
       "value": "Extracting data files: 100%"
      }
     },
     "10060f228c604dc2bdccaa979c16e598": {
      "model_module": "@jupyter-widgets/controls",
      "model_module_version": "1.5.0",
      "model_name": "DescriptionStyleModel",
      "state": {
       "_model_module": "@jupyter-widgets/controls",
       "_model_module_version": "1.5.0",
       "_model_name": "DescriptionStyleModel",
       "_view_count": null,
       "_view_module": "@jupyter-widgets/base",
       "_view_module_version": "1.2.0",
       "_view_name": "StyleView",
       "description_width": ""
      }
     },
     "2236b40c01a14448a8943aefa672cb4d": {
      "model_module": "@jupyter-widgets/base",
      "model_module_version": "1.2.0",
      "model_name": "LayoutModel",
      "state": {
       "_model_module": "@jupyter-widgets/base",
       "_model_module_version": "1.2.0",
       "_model_name": "LayoutModel",
       "_view_count": null,
       "_view_module": "@jupyter-widgets/base",
       "_view_module_version": "1.2.0",
       "_view_name": "LayoutView",
       "align_content": null,
       "align_items": null,
       "align_self": null,
       "border": null,
       "bottom": null,
       "display": null,
       "flex": null,
       "flex_flow": null,
       "grid_area": null,
       "grid_auto_columns": null,
       "grid_auto_flow": null,
       "grid_auto_rows": null,
       "grid_column": null,
       "grid_gap": null,
       "grid_row": null,
       "grid_template_areas": null,
       "grid_template_columns": null,
       "grid_template_rows": null,
       "height": null,
       "justify_content": null,
       "justify_items": null,
       "left": null,
       "margin": null,
       "max_height": null,
       "max_width": null,
       "min_height": null,
       "min_width": null,
       "object_fit": null,
       "object_position": null,
       "order": null,
       "overflow": null,
       "overflow_x": null,
       "overflow_y": null,
       "padding": null,
       "right": null,
       "top": null,
       "visibility": null,
       "width": null
      }
     },
     "39755916e89848cb8c7316393442b459": {
      "model_module": "@jupyter-widgets/controls",
      "model_module_version": "1.5.0",
      "model_name": "HTMLModel",
      "state": {
       "_dom_classes": [],
       "_model_module": "@jupyter-widgets/controls",
       "_model_module_version": "1.5.0",
       "_model_name": "HTMLModel",
       "_view_count": null,
       "_view_module": "@jupyter-widgets/controls",
       "_view_module_version": "1.5.0",
       "_view_name": "HTMLView",
       "description": "",
       "description_tooltip": null,
       "layout": "IPY_MODEL_8bcc1f16e88b4bc38adb50ebec2356ae",
       "placeholder": "​",
       "style": "IPY_MODEL_b22cdf3a40454a10848e0fb074a05331",
       "value": " 1/1 [00:01&lt;00:00,  1.09s/it]"
      }
     },
     "408374f5169a4df48d6fd378272cca77": {
      "model_module": "@jupyter-widgets/controls",
      "model_module_version": "1.5.0",
      "model_name": "DescriptionStyleModel",
      "state": {
       "_model_module": "@jupyter-widgets/controls",
       "_model_module_version": "1.5.0",
       "_model_name": "DescriptionStyleModel",
       "_view_count": null,
       "_view_module": "@jupyter-widgets/base",
       "_view_module_version": "1.2.0",
       "_view_name": "StyleView",
       "description_width": ""
      }
     },
     "50570e40df6848c19c508bc78c0f6ade": {
      "model_module": "@jupyter-widgets/base",
      "model_module_version": "1.2.0",
      "model_name": "LayoutModel",
      "state": {
       "_model_module": "@jupyter-widgets/base",
       "_model_module_version": "1.2.0",
       "_model_name": "LayoutModel",
       "_view_count": null,
       "_view_module": "@jupyter-widgets/base",
       "_view_module_version": "1.2.0",
       "_view_name": "LayoutView",
       "align_content": null,
       "align_items": null,
       "align_self": null,
       "border": null,
       "bottom": null,
       "display": null,
       "flex": null,
       "flex_flow": null,
       "grid_area": null,
       "grid_auto_columns": null,
       "grid_auto_flow": null,
       "grid_auto_rows": null,
       "grid_column": null,
       "grid_gap": null,
       "grid_row": null,
       "grid_template_areas": null,
       "grid_template_columns": null,
       "grid_template_rows": null,
       "height": null,
       "justify_content": null,
       "justify_items": null,
       "left": null,
       "margin": null,
       "max_height": null,
       "max_width": null,
       "min_height": null,
       "min_width": null,
       "object_fit": null,
       "object_position": null,
       "order": null,
       "overflow": null,
       "overflow_x": null,
       "overflow_y": null,
       "padding": null,
       "right": null,
       "top": null,
       "visibility": null,
       "width": null
      }
     },
     "610996b9a63b4d0eac72d68cb7b6c6f6": {
      "model_module": "@jupyter-widgets/controls",
      "model_module_version": "1.5.0",
      "model_name": "DescriptionStyleModel",
      "state": {
       "_model_module": "@jupyter-widgets/controls",
       "_model_module_version": "1.5.0",
       "_model_name": "DescriptionStyleModel",
       "_view_count": null,
       "_view_module": "@jupyter-widgets/base",
       "_view_module_version": "1.2.0",
       "_view_name": "StyleView",
       "description_width": ""
      }
     },
     "6940afb0fd8c4d5a950db415a98d8a1d": {
      "model_module": "@jupyter-widgets/controls",
      "model_module_version": "1.5.0",
      "model_name": "HTMLModel",
      "state": {
       "_dom_classes": [],
       "_model_module": "@jupyter-widgets/controls",
       "_model_module_version": "1.5.0",
       "_model_name": "HTMLModel",
       "_view_count": null,
       "_view_module": "@jupyter-widgets/controls",
       "_view_module_version": "1.5.0",
       "_view_name": "HTMLView",
       "description": "",
       "description_tooltip": null,
       "layout": "IPY_MODEL_dfaf0f195600474fb10776efb7e8d9e6",
       "placeholder": "​",
       "style": "IPY_MODEL_610996b9a63b4d0eac72d68cb7b6c6f6",
       "value": " 1/1 [00:02&lt;00:00,  2.58s/it]"
      }
     },
     "6a334629c7454930bd4642dafda79af8": {
      "model_module": "@jupyter-widgets/controls",
      "model_module_version": "1.5.0",
      "model_name": "HTMLModel",
      "state": {
       "_dom_classes": [],
       "_model_module": "@jupyter-widgets/controls",
       "_model_module_version": "1.5.0",
       "_model_name": "HTMLModel",
       "_view_count": null,
       "_view_module": "@jupyter-widgets/controls",
       "_view_module_version": "1.5.0",
       "_view_name": "HTMLView",
       "description": "",
       "description_tooltip": null,
       "layout": "IPY_MODEL_e4797c879e9a4f9880a56e2a43abbbb2",
       "placeholder": "​",
       "style": "IPY_MODEL_037f80e2eecd4870a86fcc431c449a56",
       "value": "Downloading data: 100%"
      }
     },
     "6cb76a366b914cc48217f1849f668f73": {
      "model_module": "@jupyter-widgets/controls",
      "model_module_version": "1.5.0",
      "model_name": "FloatProgressModel",
      "state": {
       "_dom_classes": [],
       "_model_module": "@jupyter-widgets/controls",
       "_model_module_version": "1.5.0",
       "_model_name": "FloatProgressModel",
       "_view_count": null,
       "_view_module": "@jupyter-widgets/controls",
       "_view_module_version": "1.5.0",
       "_view_name": "ProgressView",
       "bar_style": "success",
       "description": "",
       "description_tooltip": null,
       "layout": "IPY_MODEL_b8919ebd2aa04fceb137953740f0ad00",
       "max": 1,
       "min": 0,
       "orientation": "horizontal",
       "style": "IPY_MODEL_a83371d1a48e4d0a99e1a52e91c32b33",
       "value": 1
      }
     },
     "736a16173ab4478fb33f391d45c369f0": {
      "model_module": "@jupyter-widgets/base",
      "model_module_version": "1.2.0",
      "model_name": "LayoutModel",
      "state": {
       "_model_module": "@jupyter-widgets/base",
       "_model_module_version": "1.2.0",
       "_model_name": "LayoutModel",
       "_view_count": null,
       "_view_module": "@jupyter-widgets/base",
       "_view_module_version": "1.2.0",
       "_view_name": "LayoutView",
       "align_content": null,
       "align_items": null,
       "align_self": null,
       "border": null,
       "bottom": null,
       "display": null,
       "flex": null,
       "flex_flow": null,
       "grid_area": null,
       "grid_auto_columns": null,
       "grid_auto_flow": null,
       "grid_auto_rows": null,
       "grid_column": null,
       "grid_gap": null,
       "grid_row": null,
       "grid_template_areas": null,
       "grid_template_columns": null,
       "grid_template_rows": null,
       "height": null,
       "justify_content": null,
       "justify_items": null,
       "left": null,
       "margin": null,
       "max_height": null,
       "max_width": null,
       "min_height": null,
       "min_width": null,
       "object_fit": null,
       "object_position": null,
       "order": null,
       "overflow": null,
       "overflow_x": null,
       "overflow_y": null,
       "padding": null,
       "right": null,
       "top": null,
       "visibility": null,
       "width": null
      }
     },
     "8b548dfaa9ba4daabdfd8ba5333217da": {
      "model_module": "@jupyter-widgets/controls",
      "model_module_version": "1.5.0",
      "model_name": "ProgressStyleModel",
      "state": {
       "_model_module": "@jupyter-widgets/controls",
       "_model_module_version": "1.5.0",
       "_model_name": "ProgressStyleModel",
       "_view_count": null,
       "_view_module": "@jupyter-widgets/base",
       "_view_module_version": "1.2.0",
       "_view_name": "StyleView",
       "bar_color": null,
       "description_width": ""
      }
     },
     "8bcc1f16e88b4bc38adb50ebec2356ae": {
      "model_module": "@jupyter-widgets/base",
      "model_module_version": "1.2.0",
      "model_name": "LayoutModel",
      "state": {
       "_model_module": "@jupyter-widgets/base",
       "_model_module_version": "1.2.0",
       "_model_name": "LayoutModel",
       "_view_count": null,
       "_view_module": "@jupyter-widgets/base",
       "_view_module_version": "1.2.0",
       "_view_name": "LayoutView",
       "align_content": null,
       "align_items": null,
       "align_self": null,
       "border": null,
       "bottom": null,
       "display": null,
       "flex": null,
       "flex_flow": null,
       "grid_area": null,
       "grid_auto_columns": null,
       "grid_auto_flow": null,
       "grid_auto_rows": null,
       "grid_column": null,
       "grid_gap": null,
       "grid_row": null,
       "grid_template_areas": null,
       "grid_template_columns": null,
       "grid_template_rows": null,
       "height": null,
       "justify_content": null,
       "justify_items": null,
       "left": null,
       "margin": null,
       "max_height": null,
       "max_width": null,
       "min_height": null,
       "min_width": null,
       "object_fit": null,
       "object_position": null,
       "order": null,
       "overflow": null,
       "overflow_x": null,
       "overflow_y": null,
       "padding": null,
       "right": null,
       "top": null,
       "visibility": null,
       "width": null
      }
     },
     "8ff0d8c5815c43be8dfa9b1955574cc0": {
      "model_module": "@jupyter-widgets/controls",
      "model_module_version": "1.5.0",
      "model_name": "HBoxModel",
      "state": {
       "_dom_classes": [],
       "_model_module": "@jupyter-widgets/controls",
       "_model_module_version": "1.5.0",
       "_model_name": "HBoxModel",
       "_view_count": null,
       "_view_module": "@jupyter-widgets/controls",
       "_view_module_version": "1.5.0",
       "_view_name": "HBoxView",
       "box_style": "",
       "children": [
        "IPY_MODEL_6a334629c7454930bd4642dafda79af8",
        "IPY_MODEL_bf821ab74f864e75b9cc9028536ea311",
        "IPY_MODEL_bbbd98101fe24234930333655dfd7f03"
       ],
       "layout": "IPY_MODEL_a3c7c82ebebc4755951963a84a6355d4"
      }
     },
     "95bca8743c2f41a98f23a59413ce3596": {
      "model_module": "@jupyter-widgets/controls",
      "model_module_version": "1.5.0",
      "model_name": "DescriptionStyleModel",
      "state": {
       "_model_module": "@jupyter-widgets/controls",
       "_model_module_version": "1.5.0",
       "_model_name": "DescriptionStyleModel",
       "_view_count": null,
       "_view_module": "@jupyter-widgets/base",
       "_view_module_version": "1.2.0",
       "_view_name": "StyleView",
       "description_width": ""
      }
     },
     "a3c7c82ebebc4755951963a84a6355d4": {
      "model_module": "@jupyter-widgets/base",
      "model_module_version": "1.2.0",
      "model_name": "LayoutModel",
      "state": {
       "_model_module": "@jupyter-widgets/base",
       "_model_module_version": "1.2.0",
       "_model_name": "LayoutModel",
       "_view_count": null,
       "_view_module": "@jupyter-widgets/base",
       "_view_module_version": "1.2.0",
       "_view_name": "LayoutView",
       "align_content": null,
       "align_items": null,
       "align_self": null,
       "border": null,
       "bottom": null,
       "display": null,
       "flex": null,
       "flex_flow": null,
       "grid_area": null,
       "grid_auto_columns": null,
       "grid_auto_flow": null,
       "grid_auto_rows": null,
       "grid_column": null,
       "grid_gap": null,
       "grid_row": null,
       "grid_template_areas": null,
       "grid_template_columns": null,
       "grid_template_rows": null,
       "height": null,
       "justify_content": null,
       "justify_items": null,
       "left": null,
       "margin": null,
       "max_height": null,
       "max_width": null,
       "min_height": null,
       "min_width": null,
       "object_fit": null,
       "object_position": null,
       "order": null,
       "overflow": null,
       "overflow_x": null,
       "overflow_y": null,
       "padding": null,
       "right": null,
       "top": null,
       "visibility": null,
       "width": null
      }
     },
     "a83371d1a48e4d0a99e1a52e91c32b33": {
      "model_module": "@jupyter-widgets/controls",
      "model_module_version": "1.5.0",
      "model_name": "ProgressStyleModel",
      "state": {
       "_model_module": "@jupyter-widgets/controls",
       "_model_module_version": "1.5.0",
       "_model_name": "ProgressStyleModel",
       "_view_count": null,
       "_view_module": "@jupyter-widgets/base",
       "_view_module_version": "1.2.0",
       "_view_name": "StyleView",
       "bar_color": null,
       "description_width": ""
      }
     },
     "b22cdf3a40454a10848e0fb074a05331": {
      "model_module": "@jupyter-widgets/controls",
      "model_module_version": "1.5.0",
      "model_name": "DescriptionStyleModel",
      "state": {
       "_model_module": "@jupyter-widgets/controls",
       "_model_module_version": "1.5.0",
       "_model_name": "DescriptionStyleModel",
       "_view_count": null,
       "_view_module": "@jupyter-widgets/base",
       "_view_module_version": "1.2.0",
       "_view_name": "StyleView",
       "description_width": ""
      }
     },
     "b8919ebd2aa04fceb137953740f0ad00": {
      "model_module": "@jupyter-widgets/base",
      "model_module_version": "1.2.0",
      "model_name": "LayoutModel",
      "state": {
       "_model_module": "@jupyter-widgets/base",
       "_model_module_version": "1.2.0",
       "_model_name": "LayoutModel",
       "_view_count": null,
       "_view_module": "@jupyter-widgets/base",
       "_view_module_version": "1.2.0",
       "_view_name": "LayoutView",
       "align_content": null,
       "align_items": null,
       "align_self": null,
       "border": null,
       "bottom": null,
       "display": null,
       "flex": null,
       "flex_flow": null,
       "grid_area": null,
       "grid_auto_columns": null,
       "grid_auto_flow": null,
       "grid_auto_rows": null,
       "grid_column": null,
       "grid_gap": null,
       "grid_row": null,
       "grid_template_areas": null,
       "grid_template_columns": null,
       "grid_template_rows": null,
       "height": null,
       "justify_content": null,
       "justify_items": null,
       "left": null,
       "margin": null,
       "max_height": null,
       "max_width": null,
       "min_height": null,
       "min_width": null,
       "object_fit": null,
       "object_position": null,
       "order": null,
       "overflow": null,
       "overflow_x": null,
       "overflow_y": null,
       "padding": null,
       "right": null,
       "top": null,
       "visibility": null,
       "width": null
      }
     },
     "bbbd98101fe24234930333655dfd7f03": {
      "model_module": "@jupyter-widgets/controls",
      "model_module_version": "1.5.0",
      "model_name": "HTMLModel",
      "state": {
       "_dom_classes": [],
       "_model_module": "@jupyter-widgets/controls",
       "_model_module_version": "1.5.0",
       "_model_name": "HTMLModel",
       "_view_count": null,
       "_view_module": "@jupyter-widgets/controls",
       "_view_module_version": "1.5.0",
       "_view_name": "HTMLView",
       "description": "",
       "description_tooltip": null,
       "layout": "IPY_MODEL_07877fdfb2ac4ab09905975b6b89f0de",
       "placeholder": "​",
       "style": "IPY_MODEL_10060f228c604dc2bdccaa979c16e598",
       "value": " 48.7M/48.7M [00:00&lt;00:00, 55.8MB/s]"
      }
     },
     "bf821ab74f864e75b9cc9028536ea311": {
      "model_module": "@jupyter-widgets/controls",
      "model_module_version": "1.5.0",
      "model_name": "FloatProgressModel",
      "state": {
       "_dom_classes": [],
       "_model_module": "@jupyter-widgets/controls",
       "_model_module_version": "1.5.0",
       "_model_name": "FloatProgressModel",
       "_view_count": null,
       "_view_module": "@jupyter-widgets/controls",
       "_view_module_version": "1.5.0",
       "_view_name": "ProgressView",
       "bar_style": "success",
       "description": "",
       "description_tooltip": null,
       "layout": "IPY_MODEL_736a16173ab4478fb33f391d45c369f0",
       "max": 48737921,
       "min": 0,
       "orientation": "horizontal",
       "style": "IPY_MODEL_8b548dfaa9ba4daabdfd8ba5333217da",
       "value": 48737921
      }
     },
     "c075bbf78c40418681c700b2a335863e": {
      "model_module": "@jupyter-widgets/controls",
      "model_module_version": "1.5.0",
      "model_name": "FloatProgressModel",
      "state": {
       "_dom_classes": [],
       "_model_module": "@jupyter-widgets/controls",
       "_model_module_version": "1.5.0",
       "_model_name": "FloatProgressModel",
       "_view_count": null,
       "_view_module": "@jupyter-widgets/controls",
       "_view_module_version": "1.5.0",
       "_view_name": "ProgressView",
       "bar_style": "success",
       "description": "",
       "description_tooltip": null,
       "layout": "IPY_MODEL_f8d9bc379e27474db5f61db77a5af3ff",
       "max": 1,
       "min": 0,
       "orientation": "horizontal",
       "style": "IPY_MODEL_c768143d1dd042f4853ad43c3d8ba8c5",
       "value": 1
      }
     },
     "c1e6ea5162534d1f9fd3463d418957d0": {
      "model_module": "@jupyter-widgets/base",
      "model_module_version": "1.2.0",
      "model_name": "LayoutModel",
      "state": {
       "_model_module": "@jupyter-widgets/base",
       "_model_module_version": "1.2.0",
       "_model_name": "LayoutModel",
       "_view_count": null,
       "_view_module": "@jupyter-widgets/base",
       "_view_module_version": "1.2.0",
       "_view_name": "LayoutView",
       "align_content": null,
       "align_items": null,
       "align_self": null,
       "border": null,
       "bottom": null,
       "display": null,
       "flex": null,
       "flex_flow": null,
       "grid_area": null,
       "grid_auto_columns": null,
       "grid_auto_flow": null,
       "grid_auto_rows": null,
       "grid_column": null,
       "grid_gap": null,
       "grid_row": null,
       "grid_template_areas": null,
       "grid_template_columns": null,
       "grid_template_rows": null,
       "height": null,
       "justify_content": null,
       "justify_items": null,
       "left": null,
       "margin": null,
       "max_height": null,
       "max_width": null,
       "min_height": null,
       "min_width": null,
       "object_fit": null,
       "object_position": null,
       "order": null,
       "overflow": null,
       "overflow_x": null,
       "overflow_y": null,
       "padding": null,
       "right": null,
       "top": null,
       "visibility": null,
       "width": null
      }
     },
     "c768143d1dd042f4853ad43c3d8ba8c5": {
      "model_module": "@jupyter-widgets/controls",
      "model_module_version": "1.5.0",
      "model_name": "ProgressStyleModel",
      "state": {
       "_model_module": "@jupyter-widgets/controls",
       "_model_module_version": "1.5.0",
       "_model_name": "ProgressStyleModel",
       "_view_count": null,
       "_view_module": "@jupyter-widgets/base",
       "_view_module_version": "1.2.0",
       "_view_name": "StyleView",
       "bar_color": null,
       "description_width": ""
      }
     },
     "cf6e55b11d4b4e7f94cd5c792e1725b5": {
      "model_module": "@jupyter-widgets/controls",
      "model_module_version": "1.5.0",
      "model_name": "HBoxModel",
      "state": {
       "_dom_classes": [],
       "_model_module": "@jupyter-widgets/controls",
       "_model_module_version": "1.5.0",
       "_model_name": "HBoxModel",
       "_view_count": null,
       "_view_module": "@jupyter-widgets/controls",
       "_view_module_version": "1.5.0",
       "_view_name": "HBoxView",
       "box_style": "",
       "children": [
        "IPY_MODEL_0cf04f5306e04b02bf9386b256e3e0e9",
        "IPY_MODEL_c075bbf78c40418681c700b2a335863e",
        "IPY_MODEL_39755916e89848cb8c7316393442b459"
       ],
       "layout": "IPY_MODEL_50570e40df6848c19c508bc78c0f6ade"
      }
     },
     "db36e37711344129b0f601828ba24afb": {
      "model_module": "@jupyter-widgets/base",
      "model_module_version": "1.2.0",
      "model_name": "LayoutModel",
      "state": {
       "_model_module": "@jupyter-widgets/base",
       "_model_module_version": "1.2.0",
       "_model_name": "LayoutModel",
       "_view_count": null,
       "_view_module": "@jupyter-widgets/base",
       "_view_module_version": "1.2.0",
       "_view_name": "LayoutView",
       "align_content": null,
       "align_items": null,
       "align_self": null,
       "border": null,
       "bottom": null,
       "display": null,
       "flex": null,
       "flex_flow": null,
       "grid_area": null,
       "grid_auto_columns": null,
       "grid_auto_flow": null,
       "grid_auto_rows": null,
       "grid_column": null,
       "grid_gap": null,
       "grid_row": null,
       "grid_template_areas": null,
       "grid_template_columns": null,
       "grid_template_rows": null,
       "height": null,
       "justify_content": null,
       "justify_items": null,
       "left": null,
       "margin": null,
       "max_height": null,
       "max_width": null,
       "min_height": null,
       "min_width": null,
       "object_fit": null,
       "object_position": null,
       "order": null,
       "overflow": null,
       "overflow_x": null,
       "overflow_y": null,
       "padding": null,
       "right": null,
       "top": null,
       "visibility": null,
       "width": null
      }
     },
     "dfaf0f195600474fb10776efb7e8d9e6": {
      "model_module": "@jupyter-widgets/base",
      "model_module_version": "1.2.0",
      "model_name": "LayoutModel",
      "state": {
       "_model_module": "@jupyter-widgets/base",
       "_model_module_version": "1.2.0",
       "_model_name": "LayoutModel",
       "_view_count": null,
       "_view_module": "@jupyter-widgets/base",
       "_view_module_version": "1.2.0",
       "_view_name": "LayoutView",
       "align_content": null,
       "align_items": null,
       "align_self": null,
       "border": null,
       "bottom": null,
       "display": null,
       "flex": null,
       "flex_flow": null,
       "grid_area": null,
       "grid_auto_columns": null,
       "grid_auto_flow": null,
       "grid_auto_rows": null,
       "grid_column": null,
       "grid_gap": null,
       "grid_row": null,
       "grid_template_areas": null,
       "grid_template_columns": null,
       "grid_template_rows": null,
       "height": null,
       "justify_content": null,
       "justify_items": null,
       "left": null,
       "margin": null,
       "max_height": null,
       "max_width": null,
       "min_height": null,
       "min_width": null,
       "object_fit": null,
       "object_position": null,
       "order": null,
       "overflow": null,
       "overflow_x": null,
       "overflow_y": null,
       "padding": null,
       "right": null,
       "top": null,
       "visibility": null,
       "width": null
      }
     },
     "e4797c879e9a4f9880a56e2a43abbbb2": {
      "model_module": "@jupyter-widgets/base",
      "model_module_version": "1.2.0",
      "model_name": "LayoutModel",
      "state": {
       "_model_module": "@jupyter-widgets/base",
       "_model_module_version": "1.2.0",
       "_model_name": "LayoutModel",
       "_view_count": null,
       "_view_module": "@jupyter-widgets/base",
       "_view_module_version": "1.2.0",
       "_view_name": "LayoutView",
       "align_content": null,
       "align_items": null,
       "align_self": null,
       "border": null,
       "bottom": null,
       "display": null,
       "flex": null,
       "flex_flow": null,
       "grid_area": null,
       "grid_auto_columns": null,
       "grid_auto_flow": null,
       "grid_auto_rows": null,
       "grid_column": null,
       "grid_gap": null,
       "grid_row": null,
       "grid_template_areas": null,
       "grid_template_columns": null,
       "grid_template_rows": null,
       "height": null,
       "justify_content": null,
       "justify_items": null,
       "left": null,
       "margin": null,
       "max_height": null,
       "max_width": null,
       "min_height": null,
       "min_width": null,
       "object_fit": null,
       "object_position": null,
       "order": null,
       "overflow": null,
       "overflow_x": null,
       "overflow_y": null,
       "padding": null,
       "right": null,
       "top": null,
       "visibility": null,
       "width": null
      }
     },
     "e80e84cf17294f0fad57062abf901eef": {
      "model_module": "@jupyter-widgets/controls",
      "model_module_version": "1.5.0",
      "model_name": "HTMLModel",
      "state": {
       "_dom_classes": [],
       "_model_module": "@jupyter-widgets/controls",
       "_model_module_version": "1.5.0",
       "_model_name": "HTMLModel",
       "_view_count": null,
       "_view_module": "@jupyter-widgets/controls",
       "_view_module_version": "1.5.0",
       "_view_name": "HTMLView",
       "description": "",
       "description_tooltip": null,
       "layout": "IPY_MODEL_2236b40c01a14448a8943aefa672cb4d",
       "placeholder": "​",
       "style": "IPY_MODEL_95bca8743c2f41a98f23a59413ce3596",
       "value": "Downloading data files: 100%"
      }
     },
     "f8d9bc379e27474db5f61db77a5af3ff": {
      "model_module": "@jupyter-widgets/base",
      "model_module_version": "1.2.0",
      "model_name": "LayoutModel",
      "state": {
       "_model_module": "@jupyter-widgets/base",
       "_model_module_version": "1.2.0",
       "_model_name": "LayoutModel",
       "_view_count": null,
       "_view_module": "@jupyter-widgets/base",
       "_view_module_version": "1.2.0",
       "_view_name": "LayoutView",
       "align_content": null,
       "align_items": null,
       "align_self": null,
       "border": null,
       "bottom": null,
       "display": null,
       "flex": null,
       "flex_flow": null,
       "grid_area": null,
       "grid_auto_columns": null,
       "grid_auto_flow": null,
       "grid_auto_rows": null,
       "grid_column": null,
       "grid_gap": null,
       "grid_row": null,
       "grid_template_areas": null,
       "grid_template_columns": null,
       "grid_template_rows": null,
       "height": null,
       "justify_content": null,
       "justify_items": null,
       "left": null,
       "margin": null,
       "max_height": null,
       "max_width": null,
       "min_height": null,
       "min_width": null,
       "object_fit": null,
       "object_position": null,
       "order": null,
       "overflow": null,
       "overflow_x": null,
       "overflow_y": null,
       "padding": null,
       "right": null,
       "top": null,
       "visibility": null,
       "width": null
      }
     }
    },
    "version_major": 2,
    "version_minor": 0
   }
  }
 },
 "nbformat": 4,
 "nbformat_minor": 5
}

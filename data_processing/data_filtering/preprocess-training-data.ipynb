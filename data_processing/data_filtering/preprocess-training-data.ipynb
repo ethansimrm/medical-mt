{
 "cells": [
  {
   "cell_type": "code",
   "execution_count": 1,
   "id": "f656677e",
   "metadata": {
    "execution": {
     "iopub.execute_input": "2023-06-20T20:19:21.064144Z",
     "iopub.status.busy": "2023-06-20T20:19:21.063746Z",
     "iopub.status.idle": "2023-06-20T20:19:50.870289Z",
     "shell.execute_reply": "2023-06-20T20:19:50.869101Z"
    },
    "papermill": {
     "duration": 29.817385,
     "end_time": "2023-06-20T20:19:50.872965",
     "exception": false,
     "start_time": "2023-06-20T20:19:21.055580",
     "status": "completed"
    },
    "tags": []
   },
   "outputs": [
    {
     "name": "stdout",
     "output_type": "stream",
     "text": [
      "Collecting transformers==4.28.0\r\n",
      "  Downloading transformers-4.28.0-py3-none-any.whl (7.0 MB)\r\n",
      "\u001b[2K     \u001b[90m━━━━━━━━━━━━━━━━━━━━━━━━━━━━━━━━━━━━━━━━\u001b[0m \u001b[32m7.0/7.0 MB\u001b[0m \u001b[31m26.6 MB/s\u001b[0m eta \u001b[36m0:00:00\u001b[0m\r\n",
      "\u001b[?25hRequirement already satisfied: sentencepiece in /opt/conda/lib/python3.10/site-packages (0.1.99)\r\n",
      "Collecting sacremoses\r\n",
      "  Downloading sacremoses-0.0.53.tar.gz (880 kB)\r\n",
      "\u001b[2K     \u001b[90m━━━━━━━━━━━━━━━━━━━━━━━━━━━━━━━━━━━━━━\u001b[0m \u001b[32m880.6/880.6 kB\u001b[0m \u001b[31m33.7 MB/s\u001b[0m eta \u001b[36m0:00:00\u001b[0m\r\n",
      "\u001b[?25h  Preparing metadata (setup.py) ... \u001b[?25l-\b \b\\\b \bdone\r\n",
      "\u001b[?25hRequirement already satisfied: datasets in /opt/conda/lib/python3.10/site-packages (2.1.0)\r\n",
      "Requirement already satisfied: filelock in /opt/conda/lib/python3.10/site-packages (from transformers==4.28.0) (3.12.0)\r\n",
      "Requirement already satisfied: huggingface-hub<1.0,>=0.11.0 in /opt/conda/lib/python3.10/site-packages (from transformers==4.28.0) (0.14.1)\r\n",
      "Requirement already satisfied: numpy>=1.17 in /opt/conda/lib/python3.10/site-packages (from transformers==4.28.0) (1.23.5)\r\n",
      "Requirement already satisfied: packaging>=20.0 in /opt/conda/lib/python3.10/site-packages (from transformers==4.28.0) (21.3)\r\n",
      "Requirement already satisfied: pyyaml>=5.1 in /opt/conda/lib/python3.10/site-packages (from transformers==4.28.0) (5.4.1)\r\n",
      "Requirement already satisfied: regex!=2019.12.17 in /opt/conda/lib/python3.10/site-packages (from transformers==4.28.0) (2023.5.5)\r\n",
      "Requirement already satisfied: requests in /opt/conda/lib/python3.10/site-packages (from transformers==4.28.0) (2.28.2)\r\n",
      "Requirement already satisfied: tokenizers!=0.11.3,<0.14,>=0.11.1 in /opt/conda/lib/python3.10/site-packages (from transformers==4.28.0) (0.13.3)\r\n",
      "Requirement already satisfied: tqdm>=4.27 in /opt/conda/lib/python3.10/site-packages (from transformers==4.28.0) (4.64.1)\r\n",
      "Requirement already satisfied: six in /opt/conda/lib/python3.10/site-packages (from sacremoses) (1.16.0)\r\n",
      "Requirement already satisfied: click in /opt/conda/lib/python3.10/site-packages (from sacremoses) (8.1.3)\r\n",
      "Requirement already satisfied: joblib in /opt/conda/lib/python3.10/site-packages (from sacremoses) (1.2.0)\r\n",
      "Requirement already satisfied: pyarrow>=5.0.0 in /opt/conda/lib/python3.10/site-packages (from datasets) (9.0.0)\r\n",
      "Requirement already satisfied: dill in /opt/conda/lib/python3.10/site-packages (from datasets) (0.3.6)\r\n",
      "Requirement already satisfied: pandas in /opt/conda/lib/python3.10/site-packages (from datasets) (1.5.3)\r\n",
      "Requirement already satisfied: xxhash in /opt/conda/lib/python3.10/site-packages (from datasets) (3.2.0)\r\n",
      "Requirement already satisfied: multiprocess in /opt/conda/lib/python3.10/site-packages (from datasets) (0.70.14)\r\n",
      "Requirement already satisfied: fsspec[http]>=2021.05.0 in /opt/conda/lib/python3.10/site-packages (from datasets) (2023.5.0)\r\n",
      "Requirement already satisfied: aiohttp in /opt/conda/lib/python3.10/site-packages (from datasets) (3.8.4)\r\n",
      "Requirement already satisfied: responses<0.19 in /opt/conda/lib/python3.10/site-packages (from datasets) (0.18.0)\r\n",
      "Requirement already satisfied: attrs>=17.3.0 in /opt/conda/lib/python3.10/site-packages (from aiohttp->datasets) (23.1.0)\r\n",
      "Requirement already satisfied: charset-normalizer<4.0,>=2.0 in /opt/conda/lib/python3.10/site-packages (from aiohttp->datasets) (2.1.1)\r\n",
      "Requirement already satisfied: multidict<7.0,>=4.5 in /opt/conda/lib/python3.10/site-packages (from aiohttp->datasets) (6.0.4)\r\n",
      "Requirement already satisfied: async-timeout<5.0,>=4.0.0a3 in /opt/conda/lib/python3.10/site-packages (from aiohttp->datasets) (4.0.2)\r\n",
      "Requirement already satisfied: yarl<2.0,>=1.0 in /opt/conda/lib/python3.10/site-packages (from aiohttp->datasets) (1.9.1)\r\n",
      "Requirement already satisfied: frozenlist>=1.1.1 in /opt/conda/lib/python3.10/site-packages (from aiohttp->datasets) (1.3.3)\r\n",
      "Requirement already satisfied: aiosignal>=1.1.2 in /opt/conda/lib/python3.10/site-packages (from aiohttp->datasets) (1.3.1)\r\n",
      "Requirement already satisfied: typing-extensions>=3.7.4.3 in /opt/conda/lib/python3.10/site-packages (from huggingface-hub<1.0,>=0.11.0->transformers==4.28.0) (4.5.0)\r\n",
      "Requirement already satisfied: pyparsing!=3.0.5,>=2.0.2 in /opt/conda/lib/python3.10/site-packages (from packaging>=20.0->transformers==4.28.0) (3.0.9)\r\n",
      "Requirement already satisfied: idna<4,>=2.5 in /opt/conda/lib/python3.10/site-packages (from requests->transformers==4.28.0) (3.4)\r\n",
      "Requirement already satisfied: urllib3<1.27,>=1.21.1 in /opt/conda/lib/python3.10/site-packages (from requests->transformers==4.28.0) (1.26.15)\r\n",
      "Requirement already satisfied: certifi>=2017.4.17 in /opt/conda/lib/python3.10/site-packages (from requests->transformers==4.28.0) (2023.5.7)\r\n",
      "Requirement already satisfied: python-dateutil>=2.8.1 in /opt/conda/lib/python3.10/site-packages (from pandas->datasets) (2.8.2)\r\n",
      "Requirement already satisfied: pytz>=2020.1 in /opt/conda/lib/python3.10/site-packages (from pandas->datasets) (2023.3)\r\n",
      "Building wheels for collected packages: sacremoses\r\n",
      "  Building wheel for sacremoses (setup.py) ... \u001b[?25l-\b \b\\\b \b|\b \bdone\r\n",
      "\u001b[?25h  Created wheel for sacremoses: filename=sacremoses-0.0.53-py3-none-any.whl size=895260 sha256=61a50e8405226e9a7efcdacf57ed4f82c4ec200b36d2ab0a48c13ef93746ff78\r\n",
      "  Stored in directory: /root/.cache/pip/wheels/00/24/97/a2ea5324f36bc626e1ea0267f33db6aa80d157ee977e9e42fb\r\n",
      "Successfully built sacremoses\r\n",
      "Installing collected packages: sacremoses, transformers\r\n",
      "  Attempting uninstall: transformers\r\n",
      "    Found existing installation: transformers 4.29.2\r\n",
      "    Uninstalling transformers-4.29.2:\r\n",
      "      Successfully uninstalled transformers-4.29.2\r\n",
      "Successfully installed sacremoses-0.0.53 transformers-4.28.0\r\n",
      "\u001b[33mWARNING: Running pip as the 'root' user can result in broken permissions and conflicting behaviour with the system package manager. It is recommended to use a virtual environment instead: https://pip.pypa.io/warnings/venv\u001b[0m\u001b[33m\r\n",
      "\u001b[0m"
     ]
    }
   ],
   "source": [
    "!pip install transformers==4.28.0 sentencepiece sacremoses datasets "
   ]
  },
  {
   "cell_type": "code",
   "execution_count": 2,
   "id": "1a4cbc32",
   "metadata": {
    "execution": {
     "iopub.execute_input": "2023-06-20T20:19:50.893298Z",
     "iopub.status.busy": "2023-06-20T20:19:50.892888Z",
     "iopub.status.idle": "2023-06-20T20:19:54.850205Z",
     "shell.execute_reply": "2023-06-20T20:19:54.848931Z"
    },
    "papermill": {
     "duration": 3.97067,
     "end_time": "2023-06-20T20:19:54.852820",
     "exception": false,
     "start_time": "2023-06-20T20:19:50.882150",
     "status": "completed"
    },
    "tags": []
   },
   "outputs": [
    {
     "name": "stdout",
     "output_type": "stream",
     "text": [
      "Token will not been saved to git credential helper. Pass `add_to_git_credential=True` if you want to set the git credential as well.\n",
      "Token is valid.\n",
      "Your token has been saved to /root/.cache/huggingface/token\n",
      "Login successful\n"
     ]
    },
    {
     "name": "stderr",
     "output_type": "stream",
     "text": [
      "\u001b[34m\u001b[1mwandb\u001b[0m: W&B API key is configured. Use \u001b[1m`wandb login --relogin`\u001b[0m to force relogin\n",
      "\u001b[34m\u001b[1mwandb\u001b[0m: \u001b[33mWARNING\u001b[0m If you're specifying your api key in code, ensure this code is not shared publicly.\n",
      "\u001b[34m\u001b[1mwandb\u001b[0m: \u001b[33mWARNING\u001b[0m Consider setting the WANDB_API_KEY environment variable, or running `wandb login` from the command line.\n",
      "\u001b[34m\u001b[1mwandb\u001b[0m: Appending key for api.wandb.ai to your netrc file: /root/.netrc\n"
     ]
    },
    {
     "data": {
      "text/plain": [
       "True"
      ]
     },
     "execution_count": 2,
     "metadata": {},
     "output_type": "execute_result"
    }
   ],
   "source": [
    "from huggingface_hub import login\n",
    "from kaggle_secrets import UserSecretsClient\n",
    "import wandb\n",
    "user_secrets = UserSecretsClient()\n",
    "secret_value = user_secrets.get_secret(\"HF_KEY\")\n",
    "login(secret_value)\n",
    "secret_value1 = user_secrets.get_secret(\"WANDB_KEY\")\n",
    "wandb.login(key=secret_value1)"
   ]
  },
  {
   "cell_type": "code",
   "execution_count": 3,
   "id": "46c39bfb",
   "metadata": {
    "execution": {
     "iopub.execute_input": "2023-06-20T20:19:54.873802Z",
     "iopub.status.busy": "2023-06-20T20:19:54.873375Z",
     "iopub.status.idle": "2023-06-20T20:20:04.765049Z",
     "shell.execute_reply": "2023-06-20T20:20:04.763525Z"
    },
    "papermill": {
     "duration": 9.905279,
     "end_time": "2023-06-20T20:20:04.767647",
     "exception": false,
     "start_time": "2023-06-20T20:19:54.862368",
     "status": "completed"
    },
    "tags": []
   },
   "outputs": [
    {
     "name": "stdout",
     "output_type": "stream",
     "text": [
      "Downloading and preparing dataset text/ethansimrm--wmt_16_19_22_biomed_train to /root/.cache/huggingface/datasets/text/ethansimrm--wmt_16_19_22_biomed_train-3dd4d6328c3dbab1/0.0.0/4b86d314f7236db91f0a0f5cda32d4375445e64c5eda2692655dd99c2dac68e8...\n"
     ]
    },
    {
     "data": {
      "application/vnd.jupyter.widget-view+json": {
       "model_id": "f4455ed4597e491da75bc0b264821bc7",
       "version_major": 2,
       "version_minor": 0
      },
      "text/plain": [
       "Downloading data files:   0%|          | 0/1 [00:00<?, ?it/s]"
      ]
     },
     "metadata": {},
     "output_type": "display_data"
    },
    {
     "data": {
      "application/vnd.jupyter.widget-view+json": {
       "model_id": "f611aa3b2c6a49c480ff56305ebbe198",
       "version_major": 2,
       "version_minor": 0
      },
      "text/plain": [
       "Downloading data:   0%|          | 0.00/48.7M [00:00<?, ?B/s]"
      ]
     },
     "metadata": {},
     "output_type": "display_data"
    },
    {
     "data": {
      "application/vnd.jupyter.widget-view+json": {
       "model_id": "83cde41e3bbd4c9ea88314ea1dfe28ad",
       "version_major": 2,
       "version_minor": 0
      },
      "text/plain": [
       "Extracting data files:   0%|          | 0/1 [00:00<?, ?it/s]"
      ]
     },
     "metadata": {},
     "output_type": "display_data"
    },
    {
     "name": "stdout",
     "output_type": "stream",
     "text": [
      "Dataset text downloaded and prepared to /root/.cache/huggingface/datasets/text/ethansimrm--wmt_16_19_22_biomed_train-3dd4d6328c3dbab1/0.0.0/4b86d314f7236db91f0a0f5cda32d4375445e64c5eda2692655dd99c2dac68e8. Subsequent calls will reuse this data.\n"
     ]
    }
   ],
   "source": [
    "from datasets import load_dataset\n",
    "training_data = load_dataset(\"ethansimrm/wmt_16_19_22_biomed_train\", split = \"train\", use_auth_token=True) "
   ]
  },
  {
   "cell_type": "code",
   "execution_count": 4,
   "id": "e2286d48",
   "metadata": {
    "execution": {
     "iopub.execute_input": "2023-06-20T20:20:04.791192Z",
     "iopub.status.busy": "2023-06-20T20:20:04.790461Z",
     "iopub.status.idle": "2023-06-20T20:20:04.795156Z",
     "shell.execute_reply": "2023-06-20T20:20:04.794107Z"
    },
    "papermill": {
     "duration": 0.019976,
     "end_time": "2023-06-20T20:20:04.797620",
     "exception": false,
     "start_time": "2023-06-20T20:20:04.777644",
     "status": "completed"
    },
    "tags": []
   },
   "outputs": [],
   "source": [
    "#len(training_data) #741300 sentence pairs prior to pre-processing\n",
    "#training_data['text'][1:10] #Adopting the SOURCE \\t TARGET \\n format is convenient."
   ]
  },
  {
   "cell_type": "code",
   "execution_count": 5,
   "id": "6455c951",
   "metadata": {
    "execution": {
     "iopub.execute_input": "2023-06-20T20:20:04.819848Z",
     "iopub.status.busy": "2023-06-20T20:20:04.819414Z",
     "iopub.status.idle": "2023-06-20T20:20:08.678125Z",
     "shell.execute_reply": "2023-06-20T20:20:08.677292Z"
    },
    "papermill": {
     "duration": 3.872817,
     "end_time": "2023-06-20T20:20:08.680719",
     "exception": false,
     "start_time": "2023-06-20T20:20:04.807902",
     "status": "completed"
    },
    "tags": []
   },
   "outputs": [],
   "source": [
    "from datasets import Dataset\n",
    "source = []\n",
    "target = []\n",
    "for example in training_data['text']:\n",
    "    example = example.strip()\n",
    "    sentences = example.split(\"\\t\")\n",
    "    source.append(sentences[0])\n",
    "    target.append(sentences[1])\n",
    "ready_data = Dataset.from_dict({\"en\":source, \"fr\":target})\n",
    "#This dataset can now be used for training or validation per early experiments"
   ]
  },
  {
   "cell_type": "code",
   "execution_count": 6,
   "id": "c5c6df91",
   "metadata": {
    "execution": {
     "iopub.execute_input": "2023-06-20T20:20:08.704917Z",
     "iopub.status.busy": "2023-06-20T20:20:08.703769Z",
     "iopub.status.idle": "2023-06-20T20:20:08.711142Z",
     "shell.execute_reply": "2023-06-20T20:20:08.710066Z"
    },
    "papermill": {
     "duration": 0.022438,
     "end_time": "2023-06-20T20:20:08.713790",
     "exception": false,
     "start_time": "2023-06-20T20:20:08.691352",
     "status": "completed"
    },
    "tags": []
   },
   "outputs": [
    {
     "data": {
      "text/plain": [
       "{'en': 'Global Health: Where Do Physiotherapy and Rehabilitation Research Fit?',\n",
       " 'fr': 'La place des cheveux et des poils dans les rituels et le sacré.'}"
      ]
     },
     "execution_count": 6,
     "metadata": {},
     "output_type": "execute_result"
    }
   ],
   "source": [
    "#Seems alright.\n",
    "ready_data[0]"
   ]
  },
  {
   "cell_type": "code",
   "execution_count": 7,
   "id": "e490e647",
   "metadata": {
    "execution": {
     "iopub.execute_input": "2023-06-20T20:20:08.736588Z",
     "iopub.status.busy": "2023-06-20T20:20:08.736172Z",
     "iopub.status.idle": "2023-06-20T20:20:59.364404Z",
     "shell.execute_reply": "2023-06-20T20:20:59.363116Z"
    },
    "papermill": {
     "duration": 50.642949,
     "end_time": "2023-06-20T20:20:59.367285",
     "exception": false,
     "start_time": "2023-06-20T20:20:08.724336",
     "status": "completed"
    },
    "tags": []
   },
   "outputs": [],
   "source": [
    "import pandas as pd\n",
    "#Let's start preprocessing according to Wu et al.(2022).\n",
    "#First, remove duplicate sentences. \n",
    "#We can't do this in datasets, so we must convert it to a pandas DataFrame.\n",
    "tempDataset = pd.DataFrame(ready_data)"
   ]
  },
  {
   "cell_type": "code",
   "execution_count": 8,
   "id": "283c37ba",
   "metadata": {
    "execution": {
     "iopub.execute_input": "2023-06-20T20:20:59.389663Z",
     "iopub.status.busy": "2023-06-20T20:20:59.389168Z",
     "iopub.status.idle": "2023-06-20T20:20:59.394058Z",
     "shell.execute_reply": "2023-06-20T20:20:59.392875Z"
    },
    "papermill": {
     "duration": 0.018872,
     "end_time": "2023-06-20T20:20:59.396414",
     "exception": false,
     "start_time": "2023-06-20T20:20:59.377542",
     "status": "completed"
    },
    "tags": []
   },
   "outputs": [],
   "source": [
    "#tempDataset[tempDataset.duplicated()] \n",
    "#Wow, there are a lot of duplicate rows, 39540 in total."
   ]
  },
  {
   "cell_type": "code",
   "execution_count": 9,
   "id": "0e456d91",
   "metadata": {
    "execution": {
     "iopub.execute_input": "2023-06-20T20:20:59.419261Z",
     "iopub.status.busy": "2023-06-20T20:20:59.418848Z",
     "iopub.status.idle": "2023-06-20T20:21:00.580816Z",
     "shell.execute_reply": "2023-06-20T20:21:00.579540Z"
    },
    "papermill": {
     "duration": 1.176894,
     "end_time": "2023-06-20T20:21:00.583677",
     "exception": false,
     "start_time": "2023-06-20T20:20:59.406783",
     "status": "completed"
    },
    "tags": []
   },
   "outputs": [],
   "source": [
    "tempDataset_dedup = tempDataset.drop_duplicates()"
   ]
  },
  {
   "cell_type": "code",
   "execution_count": 10,
   "id": "c2530412",
   "metadata": {
    "execution": {
     "iopub.execute_input": "2023-06-20T20:21:00.605549Z",
     "iopub.status.busy": "2023-06-20T20:21:00.605143Z",
     "iopub.status.idle": "2023-06-20T20:21:03.583611Z",
     "shell.execute_reply": "2023-06-20T20:21:03.582267Z"
    },
    "papermill": {
     "duration": 2.992669,
     "end_time": "2023-06-20T20:21:03.586444",
     "exception": false,
     "start_time": "2023-06-20T20:21:00.593775",
     "status": "completed"
    },
    "tags": []
   },
   "outputs": [],
   "source": [
    "#Declaring helper functions separately\n",
    "import langid, string\n",
    "from tqdm import tqdm\n",
    "langid.set_languages([\"en\", \"fr\"]) #Constrain language set\n",
    "tqdm.pandas() #So I can see progress\n",
    "count = lambda l1,l2: sum([1 for x in l1 if x in l2])"
   ]
  },
  {
   "cell_type": "code",
   "execution_count": 11,
   "id": "3ede425c",
   "metadata": {
    "execution": {
     "iopub.execute_input": "2023-06-20T20:21:03.608478Z",
     "iopub.status.busy": "2023-06-20T20:21:03.608062Z",
     "iopub.status.idle": "2023-06-20T20:21:03.623562Z",
     "shell.execute_reply": "2023-06-20T20:21:03.621941Z"
    },
    "papermill": {
     "duration": 0.029416,
     "end_time": "2023-06-20T20:21:03.626068",
     "exception": false,
     "start_time": "2023-06-20T20:21:03.596652",
     "status": "completed"
    },
    "tags": []
   },
   "outputs": [
    {
     "name": "stdout",
     "output_type": "stream",
     "text": [
      "\n"
     ]
    }
   ],
   "source": [
    "#Having verified that we can convert this back into a Dataset object, we'll just \n",
    "#do everything else in a pandas DataFrame. There are seven per-sentence checks\n",
    "#we can do.\n",
    "\n",
    "def retain_sentence(row): #This defines a good sentence we wish to retain\n",
    "    word_counts = []\n",
    "    #Exclude repeats and empty source or target sentences\n",
    "    if ((row[\"en\"] == row[\"fr\"]) or (row[\"en\"] == \"\") or (row[\"fr\"] == \"\")):\n",
    "        return False\n",
    "    for sentence in (row[\"en\"], row[\"fr\"]):\n",
    "        #Exclude sentences with mismatched () or \"\"\n",
    "        if ((sentence.count(\"(\") != sentence.count(\")\")) or \n",
    "            (sentence.count('\"') % 2 != 0)):\n",
    "            return False\n",
    "        sent_length = len(sentence)\n",
    "        #Exclude sentences with punctuation percentage > 0.4\n",
    "        if (count(sentence,set(string.punctuation)) > 0.4 * sent_length):\n",
    "            return False\n",
    "        #Exclude sentences with > 150 words\n",
    "        num_words = len(sentence.split(\" \"))\n",
    "        if (num_words > 150):\n",
    "            return False\n",
    "        word_counts.append(num_words)\n",
    "        #Exclude sentences with char-to-word ratio > 12 or < 1.5\n",
    "        c2w_ratio = sent_length / num_words\n",
    "        if ((c2w_ratio > 12) or (c2w_ratio < 1.5)):\n",
    "            return False\n",
    "    #Heuristic \"alignment\" filtering\n",
    "    word_ratio = word_counts[0] / word_counts[1]\n",
    "    if((word_ratio >= 9) or (1/word_ratio >= 9)):\n",
    "        return False\n",
    "    #Expensive language-determining step\n",
    "    if ((langid.classify(row['en'])[0] != \"en\") or \n",
    "    (langid.classify(row['fr'])[0] != \"fr\")):\n",
    "        return False\n",
    "    return True\n",
    "\"\"\"\n",
    "We will skip full alignment-checking, due to infeasibility and time constraints.\n",
    "SOTA-used options such as fast-align and eflomal require a large parallel training \n",
    "corpus, which we lack. AWESOME-align cannot run, even from the command line, \n",
    "due to an issue with the multiprocessing module and pickling. We can take another\n",
    "crack at this in the future.\n",
    "\n",
    "However, we can filter out obviously bad alignments by looking at word ratio;\n",
    "we filter out word ratios greater than 9 or smaller than 1/9.\n",
    "This (heuristic) method comes from Del et al. (2021).\n",
    "\"\"\"\n",
    "print()"
   ]
  },
  {
   "cell_type": "code",
   "execution_count": 12,
   "id": "67bafaa1",
   "metadata": {
    "execution": {
     "iopub.execute_input": "2023-06-20T20:21:03.648292Z",
     "iopub.status.busy": "2023-06-20T20:21:03.647882Z",
     "iopub.status.idle": "2023-06-20T20:28:02.042954Z",
     "shell.execute_reply": "2023-06-20T20:28:02.041164Z"
    },
    "papermill": {
     "duration": 418.410085,
     "end_time": "2023-06-20T20:28:02.046537",
     "exception": false,
     "start_time": "2023-06-20T20:21:03.636452",
     "status": "completed"
    },
    "tags": []
   },
   "outputs": [
    {
     "name": "stderr",
     "output_type": "stream",
     "text": [
      "100%|██████████| 701760/701760 [06:58<00:00, 1677.31it/s]\n"
     ]
    }
   ],
   "source": [
    "tempDataset_nearlyAligned = tempDataset_dedup.progress_apply(retain_sentence, axis=1)"
   ]
  },
  {
   "cell_type": "code",
   "execution_count": 13,
   "id": "7d0083ae",
   "metadata": {
    "execution": {
     "iopub.execute_input": "2023-06-20T20:28:02.787356Z",
     "iopub.status.busy": "2023-06-20T20:28:02.786937Z",
     "iopub.status.idle": "2023-06-20T20:28:02.835145Z",
     "shell.execute_reply": "2023-06-20T20:28:02.834307Z"
    },
    "papermill": {
     "duration": 0.425516,
     "end_time": "2023-06-20T20:28:02.837660",
     "exception": false,
     "start_time": "2023-06-20T20:28:02.412144",
     "status": "completed"
    },
    "tags": []
   },
   "outputs": [],
   "source": [
    "filtered_set = tempDataset_dedup[tempDataset_nearlyAligned]"
   ]
  },
  {
   "cell_type": "code",
   "execution_count": 14,
   "id": "52c4ec0f",
   "metadata": {
    "execution": {
     "iopub.execute_input": "2023-06-20T20:28:03.580668Z",
     "iopub.status.busy": "2023-06-20T20:28:03.580217Z",
     "iopub.status.idle": "2023-06-20T20:28:03.623382Z",
     "shell.execute_reply": "2023-06-20T20:28:03.622142Z"
    },
    "papermill": {
     "duration": 0.416952,
     "end_time": "2023-06-20T20:28:03.626222",
     "exception": false,
     "start_time": "2023-06-20T20:28:03.209270",
     "status": "completed"
    },
    "tags": []
   },
   "outputs": [],
   "source": [
    "filtered_set = filtered_set.reset_index(drop=True)"
   ]
  },
  {
   "cell_type": "code",
   "execution_count": 15,
   "id": "f5f3c1ac",
   "metadata": {
    "execution": {
     "iopub.execute_input": "2023-06-20T20:28:04.364731Z",
     "iopub.status.busy": "2023-06-20T20:28:04.364017Z",
     "iopub.status.idle": "2023-06-20T20:28:04.616380Z",
     "shell.execute_reply": "2023-06-20T20:28:04.615084Z"
    },
    "papermill": {
     "duration": 0.621788,
     "end_time": "2023-06-20T20:28:04.619231",
     "exception": false,
     "start_time": "2023-06-20T20:28:03.997443",
     "status": "completed"
    },
    "tags": []
   },
   "outputs": [],
   "source": [
    "filtered_set = filtered_set.sample(frac=1).reset_index(drop=True) #Shuffle to avoid overfitting "
   ]
  },
  {
   "cell_type": "code",
   "execution_count": 16,
   "id": "3c28416b",
   "metadata": {
    "execution": {
     "iopub.execute_input": "2023-06-20T20:28:05.445960Z",
     "iopub.status.busy": "2023-06-20T20:28:05.445237Z",
     "iopub.status.idle": "2023-06-20T20:28:14.083006Z",
     "shell.execute_reply": "2023-06-20T20:28:14.081914Z"
    },
    "papermill": {
     "duration": 9.025443,
     "end_time": "2023-06-20T20:28:14.085831",
     "exception": false,
     "start_time": "2023-06-20T20:28:05.060388",
     "status": "completed"
    },
    "tags": []
   },
   "outputs": [],
   "source": [
    "f = open(\"wmt_train_filtered.txt\", \"w\", encoding = \"utf-8\")\n",
    "source = filtered_set[\"en\"]\n",
    "target = filtered_set[\"fr\"]\n",
    "for i in range(len(filtered_set)):\n",
    "    f.write(source[i] + \"\\t\" + target[i] + \"\\n\")\n",
    "f.close()"
   ]
  }
 ],
 "metadata": {
  "kernelspec": {
   "display_name": "Python 3",
   "language": "python",
   "name": "python3"
  },
  "language_info": {
   "codemirror_mode": {
    "name": "ipython",
    "version": 3
   },
   "file_extension": ".py",
   "mimetype": "text/x-python",
   "name": "python",
   "nbconvert_exporter": "python",
   "pygments_lexer": "ipython3",
   "version": "3.10.10"
  },
  "papermill": {
   "default_parameters": {},
   "duration": 548.607134,
   "end_time": "2023-06-20T20:28:16.177660",
   "environment_variables": {},
   "exception": null,
   "input_path": "__notebook__.ipynb",
   "output_path": "__notebook__.ipynb",
   "parameters": {},
   "start_time": "2023-06-20T20:19:07.570526",
   "version": "2.4.0"
  },
  "widgets": {
   "application/vnd.jupyter.widget-state+json": {
    "state": {
     "05eb0ca614924ed4b192a8a6a1354815": {
      "model_module": "@jupyter-widgets/controls",
      "model_module_version": "1.5.0",
      "model_name": "ProgressStyleModel",
      "state": {
       "_model_module": "@jupyter-widgets/controls",
       "_model_module_version": "1.5.0",
       "_model_name": "ProgressStyleModel",
       "_view_count": null,
       "_view_module": "@jupyter-widgets/base",
       "_view_module_version": "1.2.0",
       "_view_name": "StyleView",
       "bar_color": null,
       "description_width": ""
      }
     },
     "0c6c1dba50f64f7d92927f350bbf81c3": {
      "model_module": "@jupyter-widgets/controls",
      "model_module_version": "1.5.0",
      "model_name": "DescriptionStyleModel",
      "state": {
       "_model_module": "@jupyter-widgets/controls",
       "_model_module_version": "1.5.0",
       "_model_name": "DescriptionStyleModel",
       "_view_count": null,
       "_view_module": "@jupyter-widgets/base",
       "_view_module_version": "1.2.0",
       "_view_name": "StyleView",
       "description_width": ""
      }
     },
     "12b23b55dc9b478088939aecd4a7c14c": {
      "model_module": "@jupyter-widgets/controls",
      "model_module_version": "1.5.0",
      "model_name": "DescriptionStyleModel",
      "state": {
       "_model_module": "@jupyter-widgets/controls",
       "_model_module_version": "1.5.0",
       "_model_name": "DescriptionStyleModel",
       "_view_count": null,
       "_view_module": "@jupyter-widgets/base",
       "_view_module_version": "1.2.0",
       "_view_name": "StyleView",
       "description_width": ""
      }
     },
     "1418752760ec4c39935f0328cdba6f6a": {
      "model_module": "@jupyter-widgets/base",
      "model_module_version": "1.2.0",
      "model_name": "LayoutModel",
      "state": {
       "_model_module": "@jupyter-widgets/base",
       "_model_module_version": "1.2.0",
       "_model_name": "LayoutModel",
       "_view_count": null,
       "_view_module": "@jupyter-widgets/base",
       "_view_module_version": "1.2.0",
       "_view_name": "LayoutView",
       "align_content": null,
       "align_items": null,
       "align_self": null,
       "border": null,
       "bottom": null,
       "display": null,
       "flex": null,
       "flex_flow": null,
       "grid_area": null,
       "grid_auto_columns": null,
       "grid_auto_flow": null,
       "grid_auto_rows": null,
       "grid_column": null,
       "grid_gap": null,
       "grid_row": null,
       "grid_template_areas": null,
       "grid_template_columns": null,
       "grid_template_rows": null,
       "height": null,
       "justify_content": null,
       "justify_items": null,
       "left": null,
       "margin": null,
       "max_height": null,
       "max_width": null,
       "min_height": null,
       "min_width": null,
       "object_fit": null,
       "object_position": null,
       "order": null,
       "overflow": null,
       "overflow_x": null,
       "overflow_y": null,
       "padding": null,
       "right": null,
       "top": null,
       "visibility": null,
       "width": null
      }
     },
     "174e107a95224c1ca3dff6fda9a81f69": {
      "model_module": "@jupyter-widgets/base",
      "model_module_version": "1.2.0",
      "model_name": "LayoutModel",
      "state": {
       "_model_module": "@jupyter-widgets/base",
       "_model_module_version": "1.2.0",
       "_model_name": "LayoutModel",
       "_view_count": null,
       "_view_module": "@jupyter-widgets/base",
       "_view_module_version": "1.2.0",
       "_view_name": "LayoutView",
       "align_content": null,
       "align_items": null,
       "align_self": null,
       "border": null,
       "bottom": null,
       "display": null,
       "flex": null,
       "flex_flow": null,
       "grid_area": null,
       "grid_auto_columns": null,
       "grid_auto_flow": null,
       "grid_auto_rows": null,
       "grid_column": null,
       "grid_gap": null,
       "grid_row": null,
       "grid_template_areas": null,
       "grid_template_columns": null,
       "grid_template_rows": null,
       "height": null,
       "justify_content": null,
       "justify_items": null,
       "left": null,
       "margin": null,
       "max_height": null,
       "max_width": null,
       "min_height": null,
       "min_width": null,
       "object_fit": null,
       "object_position": null,
       "order": null,
       "overflow": null,
       "overflow_x": null,
       "overflow_y": null,
       "padding": null,
       "right": null,
       "top": null,
       "visibility": null,
       "width": null
      }
     },
     "2fcf597aa45b497ba2bb16c94bc32064": {
      "model_module": "@jupyter-widgets/base",
      "model_module_version": "1.2.0",
      "model_name": "LayoutModel",
      "state": {
       "_model_module": "@jupyter-widgets/base",
       "_model_module_version": "1.2.0",
       "_model_name": "LayoutModel",
       "_view_count": null,
       "_view_module": "@jupyter-widgets/base",
       "_view_module_version": "1.2.0",
       "_view_name": "LayoutView",
       "align_content": null,
       "align_items": null,
       "align_self": null,
       "border": null,
       "bottom": null,
       "display": null,
       "flex": null,
       "flex_flow": null,
       "grid_area": null,
       "grid_auto_columns": null,
       "grid_auto_flow": null,
       "grid_auto_rows": null,
       "grid_column": null,
       "grid_gap": null,
       "grid_row": null,
       "grid_template_areas": null,
       "grid_template_columns": null,
       "grid_template_rows": null,
       "height": null,
       "justify_content": null,
       "justify_items": null,
       "left": null,
       "margin": null,
       "max_height": null,
       "max_width": null,
       "min_height": null,
       "min_width": null,
       "object_fit": null,
       "object_position": null,
       "order": null,
       "overflow": null,
       "overflow_x": null,
       "overflow_y": null,
       "padding": null,
       "right": null,
       "top": null,
       "visibility": null,
       "width": null
      }
     },
     "313196315d354b8590951fef13ed211c": {
      "model_module": "@jupyter-widgets/controls",
      "model_module_version": "1.5.0",
      "model_name": "FloatProgressModel",
      "state": {
       "_dom_classes": [],
       "_model_module": "@jupyter-widgets/controls",
       "_model_module_version": "1.5.0",
       "_model_name": "FloatProgressModel",
       "_view_count": null,
       "_view_module": "@jupyter-widgets/controls",
       "_view_module_version": "1.5.0",
       "_view_name": "ProgressView",
       "bar_style": "success",
       "description": "",
       "description_tooltip": null,
       "layout": "IPY_MODEL_1418752760ec4c39935f0328cdba6f6a",
       "max": 48737921.0,
       "min": 0.0,
       "orientation": "horizontal",
       "style": "IPY_MODEL_caf3368dbfcd43918168bdd2448800f9",
       "value": 48737921.0
      }
     },
     "327e3ab0eefb4287928f1a1b79126db3": {
      "model_module": "@jupyter-widgets/controls",
      "model_module_version": "1.5.0",
      "model_name": "ProgressStyleModel",
      "state": {
       "_model_module": "@jupyter-widgets/controls",
       "_model_module_version": "1.5.0",
       "_model_name": "ProgressStyleModel",
       "_view_count": null,
       "_view_module": "@jupyter-widgets/base",
       "_view_module_version": "1.2.0",
       "_view_name": "StyleView",
       "bar_color": null,
       "description_width": ""
      }
     },
     "365826a27e9d463eaca7db28cc1fcdb4": {
      "model_module": "@jupyter-widgets/controls",
      "model_module_version": "1.5.0",
      "model_name": "HTMLModel",
      "state": {
       "_dom_classes": [],
       "_model_module": "@jupyter-widgets/controls",
       "_model_module_version": "1.5.0",
       "_model_name": "HTMLModel",
       "_view_count": null,
       "_view_module": "@jupyter-widgets/controls",
       "_view_module_version": "1.5.0",
       "_view_name": "HTMLView",
       "description": "",
       "description_tooltip": null,
       "layout": "IPY_MODEL_5451cb0d8f264cee9070011524afcea5",
       "placeholder": "​",
       "style": "IPY_MODEL_4c2d883fe46a45009b4dfe88c33b07b7",
       "value": "Downloading data files: 100%"
      }
     },
     "3d49b640c3194db4ab4704ebc62e3383": {
      "model_module": "@jupyter-widgets/controls",
      "model_module_version": "1.5.0",
      "model_name": "HTMLModel",
      "state": {
       "_dom_classes": [],
       "_model_module": "@jupyter-widgets/controls",
       "_model_module_version": "1.5.0",
       "_model_name": "HTMLModel",
       "_view_count": null,
       "_view_module": "@jupyter-widgets/controls",
       "_view_module_version": "1.5.0",
       "_view_name": "HTMLView",
       "description": "",
       "description_tooltip": null,
       "layout": "IPY_MODEL_ad59dc2ba835424f95b2ddbb566f57c0",
       "placeholder": "​",
       "style": "IPY_MODEL_0c6c1dba50f64f7d92927f350bbf81c3",
       "value": " 1/1 [00:02&lt;00:00,  2.46s/it]"
      }
     },
     "409304f36c98485daa08143e9cbf69d2": {
      "model_module": "@jupyter-widgets/base",
      "model_module_version": "1.2.0",
      "model_name": "LayoutModel",
      "state": {
       "_model_module": "@jupyter-widgets/base",
       "_model_module_version": "1.2.0",
       "_model_name": "LayoutModel",
       "_view_count": null,
       "_view_module": "@jupyter-widgets/base",
       "_view_module_version": "1.2.0",
       "_view_name": "LayoutView",
       "align_content": null,
       "align_items": null,
       "align_self": null,
       "border": null,
       "bottom": null,
       "display": null,
       "flex": null,
       "flex_flow": null,
       "grid_area": null,
       "grid_auto_columns": null,
       "grid_auto_flow": null,
       "grid_auto_rows": null,
       "grid_column": null,
       "grid_gap": null,
       "grid_row": null,
       "grid_template_areas": null,
       "grid_template_columns": null,
       "grid_template_rows": null,
       "height": null,
       "justify_content": null,
       "justify_items": null,
       "left": null,
       "margin": null,
       "max_height": null,
       "max_width": null,
       "min_height": null,
       "min_width": null,
       "object_fit": null,
       "object_position": null,
       "order": null,
       "overflow": null,
       "overflow_x": null,
       "overflow_y": null,
       "padding": null,
       "right": null,
       "top": null,
       "visibility": null,
       "width": null
      }
     },
     "4c2d883fe46a45009b4dfe88c33b07b7": {
      "model_module": "@jupyter-widgets/controls",
      "model_module_version": "1.5.0",
      "model_name": "DescriptionStyleModel",
      "state": {
       "_model_module": "@jupyter-widgets/controls",
       "_model_module_version": "1.5.0",
       "_model_name": "DescriptionStyleModel",
       "_view_count": null,
       "_view_module": "@jupyter-widgets/base",
       "_view_module_version": "1.2.0",
       "_view_name": "StyleView",
       "description_width": ""
      }
     },
     "516009a32cc34d3e946a37482f35a31a": {
      "model_module": "@jupyter-widgets/base",
      "model_module_version": "1.2.0",
      "model_name": "LayoutModel",
      "state": {
       "_model_module": "@jupyter-widgets/base",
       "_model_module_version": "1.2.0",
       "_model_name": "LayoutModel",
       "_view_count": null,
       "_view_module": "@jupyter-widgets/base",
       "_view_module_version": "1.2.0",
       "_view_name": "LayoutView",
       "align_content": null,
       "align_items": null,
       "align_self": null,
       "border": null,
       "bottom": null,
       "display": null,
       "flex": null,
       "flex_flow": null,
       "grid_area": null,
       "grid_auto_columns": null,
       "grid_auto_flow": null,
       "grid_auto_rows": null,
       "grid_column": null,
       "grid_gap": null,
       "grid_row": null,
       "grid_template_areas": null,
       "grid_template_columns": null,
       "grid_template_rows": null,
       "height": null,
       "justify_content": null,
       "justify_items": null,
       "left": null,
       "margin": null,
       "max_height": null,
       "max_width": null,
       "min_height": null,
       "min_width": null,
       "object_fit": null,
       "object_position": null,
       "order": null,
       "overflow": null,
       "overflow_x": null,
       "overflow_y": null,
       "padding": null,
       "right": null,
       "top": null,
       "visibility": null,
       "width": null
      }
     },
     "51c2952450ec48ee8138846922742ebb": {
      "model_module": "@jupyter-widgets/controls",
      "model_module_version": "1.5.0",
      "model_name": "HTMLModel",
      "state": {
       "_dom_classes": [],
       "_model_module": "@jupyter-widgets/controls",
       "_model_module_version": "1.5.0",
       "_model_name": "HTMLModel",
       "_view_count": null,
       "_view_module": "@jupyter-widgets/controls",
       "_view_module_version": "1.5.0",
       "_view_name": "HTMLView",
       "description": "",
       "description_tooltip": null,
       "layout": "IPY_MODEL_d7f476e74de0493e8eb7d3756e4e3b57",
       "placeholder": "​",
       "style": "IPY_MODEL_f5dd6a147bdf456faede085e9a81e9d0",
       "value": "Extracting data files: 100%"
      }
     },
     "5451cb0d8f264cee9070011524afcea5": {
      "model_module": "@jupyter-widgets/base",
      "model_module_version": "1.2.0",
      "model_name": "LayoutModel",
      "state": {
       "_model_module": "@jupyter-widgets/base",
       "_model_module_version": "1.2.0",
       "_model_name": "LayoutModel",
       "_view_count": null,
       "_view_module": "@jupyter-widgets/base",
       "_view_module_version": "1.2.0",
       "_view_name": "LayoutView",
       "align_content": null,
       "align_items": null,
       "align_self": null,
       "border": null,
       "bottom": null,
       "display": null,
       "flex": null,
       "flex_flow": null,
       "grid_area": null,
       "grid_auto_columns": null,
       "grid_auto_flow": null,
       "grid_auto_rows": null,
       "grid_column": null,
       "grid_gap": null,
       "grid_row": null,
       "grid_template_areas": null,
       "grid_template_columns": null,
       "grid_template_rows": null,
       "height": null,
       "justify_content": null,
       "justify_items": null,
       "left": null,
       "margin": null,
       "max_height": null,
       "max_width": null,
       "min_height": null,
       "min_width": null,
       "object_fit": null,
       "object_position": null,
       "order": null,
       "overflow": null,
       "overflow_x": null,
       "overflow_y": null,
       "padding": null,
       "right": null,
       "top": null,
       "visibility": null,
       "width": null
      }
     },
     "591b4e95470041b7aab2964f94fcc62e": {
      "model_module": "@jupyter-widgets/controls",
      "model_module_version": "1.5.0",
      "model_name": "DescriptionStyleModel",
      "state": {
       "_model_module": "@jupyter-widgets/controls",
       "_model_module_version": "1.5.0",
       "_model_name": "DescriptionStyleModel",
       "_view_count": null,
       "_view_module": "@jupyter-widgets/base",
       "_view_module_version": "1.2.0",
       "_view_name": "StyleView",
       "description_width": ""
      }
     },
     "5cf9cd3f0acf4110a0555332c501a901": {
      "model_module": "@jupyter-widgets/base",
      "model_module_version": "1.2.0",
      "model_name": "LayoutModel",
      "state": {
       "_model_module": "@jupyter-widgets/base",
       "_model_module_version": "1.2.0",
       "_model_name": "LayoutModel",
       "_view_count": null,
       "_view_module": "@jupyter-widgets/base",
       "_view_module_version": "1.2.0",
       "_view_name": "LayoutView",
       "align_content": null,
       "align_items": null,
       "align_self": null,
       "border": null,
       "bottom": null,
       "display": null,
       "flex": null,
       "flex_flow": null,
       "grid_area": null,
       "grid_auto_columns": null,
       "grid_auto_flow": null,
       "grid_auto_rows": null,
       "grid_column": null,
       "grid_gap": null,
       "grid_row": null,
       "grid_template_areas": null,
       "grid_template_columns": null,
       "grid_template_rows": null,
       "height": null,
       "justify_content": null,
       "justify_items": null,
       "left": null,
       "margin": null,
       "max_height": null,
       "max_width": null,
       "min_height": null,
       "min_width": null,
       "object_fit": null,
       "object_position": null,
       "order": null,
       "overflow": null,
       "overflow_x": null,
       "overflow_y": null,
       "padding": null,
       "right": null,
       "top": null,
       "visibility": null,
       "width": null
      }
     },
     "5eaa3ba4261c476599dcd0d5f2c173fd": {
      "model_module": "@jupyter-widgets/controls",
      "model_module_version": "1.5.0",
      "model_name": "FloatProgressModel",
      "state": {
       "_dom_classes": [],
       "_model_module": "@jupyter-widgets/controls",
       "_model_module_version": "1.5.0",
       "_model_name": "FloatProgressModel",
       "_view_count": null,
       "_view_module": "@jupyter-widgets/controls",
       "_view_module_version": "1.5.0",
       "_view_name": "ProgressView",
       "bar_style": "success",
       "description": "",
       "description_tooltip": null,
       "layout": "IPY_MODEL_74544d215aa840469e7304c099e30c6a",
       "max": 1.0,
       "min": 0.0,
       "orientation": "horizontal",
       "style": "IPY_MODEL_327e3ab0eefb4287928f1a1b79126db3",
       "value": 1.0
      }
     },
     "673d311cfb754b4e9389a2c387cce84f": {
      "model_module": "@jupyter-widgets/controls",
      "model_module_version": "1.5.0",
      "model_name": "FloatProgressModel",
      "state": {
       "_dom_classes": [],
       "_model_module": "@jupyter-widgets/controls",
       "_model_module_version": "1.5.0",
       "_model_name": "FloatProgressModel",
       "_view_count": null,
       "_view_module": "@jupyter-widgets/controls",
       "_view_module_version": "1.5.0",
       "_view_name": "ProgressView",
       "bar_style": "success",
       "description": "",
       "description_tooltip": null,
       "layout": "IPY_MODEL_ba8b853cec9d4996bb8b3695ad8b5892",
       "max": 1.0,
       "min": 0.0,
       "orientation": "horizontal",
       "style": "IPY_MODEL_05eb0ca614924ed4b192a8a6a1354815",
       "value": 1.0
      }
     },
     "74544d215aa840469e7304c099e30c6a": {
      "model_module": "@jupyter-widgets/base",
      "model_module_version": "1.2.0",
      "model_name": "LayoutModel",
      "state": {
       "_model_module": "@jupyter-widgets/base",
       "_model_module_version": "1.2.0",
       "_model_name": "LayoutModel",
       "_view_count": null,
       "_view_module": "@jupyter-widgets/base",
       "_view_module_version": "1.2.0",
       "_view_name": "LayoutView",
       "align_content": null,
       "align_items": null,
       "align_self": null,
       "border": null,
       "bottom": null,
       "display": null,
       "flex": null,
       "flex_flow": null,
       "grid_area": null,
       "grid_auto_columns": null,
       "grid_auto_flow": null,
       "grid_auto_rows": null,
       "grid_column": null,
       "grid_gap": null,
       "grid_row": null,
       "grid_template_areas": null,
       "grid_template_columns": null,
       "grid_template_rows": null,
       "height": null,
       "justify_content": null,
       "justify_items": null,
       "left": null,
       "margin": null,
       "max_height": null,
       "max_width": null,
       "min_height": null,
       "min_width": null,
       "object_fit": null,
       "object_position": null,
       "order": null,
       "overflow": null,
       "overflow_x": null,
       "overflow_y": null,
       "padding": null,
       "right": null,
       "top": null,
       "visibility": null,
       "width": null
      }
     },
     "83cde41e3bbd4c9ea88314ea1dfe28ad": {
      "model_module": "@jupyter-widgets/controls",
      "model_module_version": "1.5.0",
      "model_name": "HBoxModel",
      "state": {
       "_dom_classes": [],
       "_model_module": "@jupyter-widgets/controls",
       "_model_module_version": "1.5.0",
       "_model_name": "HBoxModel",
       "_view_count": null,
       "_view_module": "@jupyter-widgets/controls",
       "_view_module_version": "1.5.0",
       "_view_name": "HBoxView",
       "box_style": "",
       "children": [
        "IPY_MODEL_51c2952450ec48ee8138846922742ebb",
        "IPY_MODEL_5eaa3ba4261c476599dcd0d5f2c173fd",
        "IPY_MODEL_c55ceb5f803e429bba285a16e817641e"
       ],
       "layout": "IPY_MODEL_174e107a95224c1ca3dff6fda9a81f69"
      }
     },
     "ad59dc2ba835424f95b2ddbb566f57c0": {
      "model_module": "@jupyter-widgets/base",
      "model_module_version": "1.2.0",
      "model_name": "LayoutModel",
      "state": {
       "_model_module": "@jupyter-widgets/base",
       "_model_module_version": "1.2.0",
       "_model_name": "LayoutModel",
       "_view_count": null,
       "_view_module": "@jupyter-widgets/base",
       "_view_module_version": "1.2.0",
       "_view_name": "LayoutView",
       "align_content": null,
       "align_items": null,
       "align_self": null,
       "border": null,
       "bottom": null,
       "display": null,
       "flex": null,
       "flex_flow": null,
       "grid_area": null,
       "grid_auto_columns": null,
       "grid_auto_flow": null,
       "grid_auto_rows": null,
       "grid_column": null,
       "grid_gap": null,
       "grid_row": null,
       "grid_template_areas": null,
       "grid_template_columns": null,
       "grid_template_rows": null,
       "height": null,
       "justify_content": null,
       "justify_items": null,
       "left": null,
       "margin": null,
       "max_height": null,
       "max_width": null,
       "min_height": null,
       "min_width": null,
       "object_fit": null,
       "object_position": null,
       "order": null,
       "overflow": null,
       "overflow_x": null,
       "overflow_y": null,
       "padding": null,
       "right": null,
       "top": null,
       "visibility": null,
       "width": null
      }
     },
     "b420696c5e0d4e50a3f23f85911f6dea": {
      "model_module": "@jupyter-widgets/controls",
      "model_module_version": "1.5.0",
      "model_name": "DescriptionStyleModel",
      "state": {
       "_model_module": "@jupyter-widgets/controls",
       "_model_module_version": "1.5.0",
       "_model_name": "DescriptionStyleModel",
       "_view_count": null,
       "_view_module": "@jupyter-widgets/base",
       "_view_module_version": "1.2.0",
       "_view_name": "StyleView",
       "description_width": ""
      }
     },
     "ba8b853cec9d4996bb8b3695ad8b5892": {
      "model_module": "@jupyter-widgets/base",
      "model_module_version": "1.2.0",
      "model_name": "LayoutModel",
      "state": {
       "_model_module": "@jupyter-widgets/base",
       "_model_module_version": "1.2.0",
       "_model_name": "LayoutModel",
       "_view_count": null,
       "_view_module": "@jupyter-widgets/base",
       "_view_module_version": "1.2.0",
       "_view_name": "LayoutView",
       "align_content": null,
       "align_items": null,
       "align_self": null,
       "border": null,
       "bottom": null,
       "display": null,
       "flex": null,
       "flex_flow": null,
       "grid_area": null,
       "grid_auto_columns": null,
       "grid_auto_flow": null,
       "grid_auto_rows": null,
       "grid_column": null,
       "grid_gap": null,
       "grid_row": null,
       "grid_template_areas": null,
       "grid_template_columns": null,
       "grid_template_rows": null,
       "height": null,
       "justify_content": null,
       "justify_items": null,
       "left": null,
       "margin": null,
       "max_height": null,
       "max_width": null,
       "min_height": null,
       "min_width": null,
       "object_fit": null,
       "object_position": null,
       "order": null,
       "overflow": null,
       "overflow_x": null,
       "overflow_y": null,
       "padding": null,
       "right": null,
       "top": null,
       "visibility": null,
       "width": null
      }
     },
     "c55ceb5f803e429bba285a16e817641e": {
      "model_module": "@jupyter-widgets/controls",
      "model_module_version": "1.5.0",
      "model_name": "HTMLModel",
      "state": {
       "_dom_classes": [],
       "_model_module": "@jupyter-widgets/controls",
       "_model_module_version": "1.5.0",
       "_model_name": "HTMLModel",
       "_view_count": null,
       "_view_module": "@jupyter-widgets/controls",
       "_view_module_version": "1.5.0",
       "_view_name": "HTMLView",
       "description": "",
       "description_tooltip": null,
       "layout": "IPY_MODEL_516009a32cc34d3e946a37482f35a31a",
       "placeholder": "​",
       "style": "IPY_MODEL_12b23b55dc9b478088939aecd4a7c14c",
       "value": " 1/1 [00:01&lt;00:00,  1.14s/it]"
      }
     },
     "caf3368dbfcd43918168bdd2448800f9": {
      "model_module": "@jupyter-widgets/controls",
      "model_module_version": "1.5.0",
      "model_name": "ProgressStyleModel",
      "state": {
       "_model_module": "@jupyter-widgets/controls",
       "_model_module_version": "1.5.0",
       "_model_name": "ProgressStyleModel",
       "_view_count": null,
       "_view_module": "@jupyter-widgets/base",
       "_view_module_version": "1.2.0",
       "_view_name": "StyleView",
       "bar_color": null,
       "description_width": ""
      }
     },
     "d3a1bd3b2be7497dbd4806925fd88d52": {
      "model_module": "@jupyter-widgets/controls",
      "model_module_version": "1.5.0",
      "model_name": "HTMLModel",
      "state": {
       "_dom_classes": [],
       "_model_module": "@jupyter-widgets/controls",
       "_model_module_version": "1.5.0",
       "_model_name": "HTMLModel",
       "_view_count": null,
       "_view_module": "@jupyter-widgets/controls",
       "_view_module_version": "1.5.0",
       "_view_name": "HTMLView",
       "description": "",
       "description_tooltip": null,
       "layout": "IPY_MODEL_2fcf597aa45b497ba2bb16c94bc32064",
       "placeholder": "​",
       "style": "IPY_MODEL_b420696c5e0d4e50a3f23f85911f6dea",
       "value": " 48.7M/48.7M [00:01&lt;00:00, 49.1MB/s]"
      }
     },
     "d7f476e74de0493e8eb7d3756e4e3b57": {
      "model_module": "@jupyter-widgets/base",
      "model_module_version": "1.2.0",
      "model_name": "LayoutModel",
      "state": {
       "_model_module": "@jupyter-widgets/base",
       "_model_module_version": "1.2.0",
       "_model_name": "LayoutModel",
       "_view_count": null,
       "_view_module": "@jupyter-widgets/base",
       "_view_module_version": "1.2.0",
       "_view_name": "LayoutView",
       "align_content": null,
       "align_items": null,
       "align_self": null,
       "border": null,
       "bottom": null,
       "display": null,
       "flex": null,
       "flex_flow": null,
       "grid_area": null,
       "grid_auto_columns": null,
       "grid_auto_flow": null,
       "grid_auto_rows": null,
       "grid_column": null,
       "grid_gap": null,
       "grid_row": null,
       "grid_template_areas": null,
       "grid_template_columns": null,
       "grid_template_rows": null,
       "height": null,
       "justify_content": null,
       "justify_items": null,
       "left": null,
       "margin": null,
       "max_height": null,
       "max_width": null,
       "min_height": null,
       "min_width": null,
       "object_fit": null,
       "object_position": null,
       "order": null,
       "overflow": null,
       "overflow_x": null,
       "overflow_y": null,
       "padding": null,
       "right": null,
       "top": null,
       "visibility": null,
       "width": null
      }
     },
     "e0eefcb6b31648eea6de47c954dbecc5": {
      "model_module": "@jupyter-widgets/base",
      "model_module_version": "1.2.0",
      "model_name": "LayoutModel",
      "state": {
       "_model_module": "@jupyter-widgets/base",
       "_model_module_version": "1.2.0",
       "_model_name": "LayoutModel",
       "_view_count": null,
       "_view_module": "@jupyter-widgets/base",
       "_view_module_version": "1.2.0",
       "_view_name": "LayoutView",
       "align_content": null,
       "align_items": null,
       "align_self": null,
       "border": null,
       "bottom": null,
       "display": null,
       "flex": null,
       "flex_flow": null,
       "grid_area": null,
       "grid_auto_columns": null,
       "grid_auto_flow": null,
       "grid_auto_rows": null,
       "grid_column": null,
       "grid_gap": null,
       "grid_row": null,
       "grid_template_areas": null,
       "grid_template_columns": null,
       "grid_template_rows": null,
       "height": null,
       "justify_content": null,
       "justify_items": null,
       "left": null,
       "margin": null,
       "max_height": null,
       "max_width": null,
       "min_height": null,
       "min_width": null,
       "object_fit": null,
       "object_position": null,
       "order": null,
       "overflow": null,
       "overflow_x": null,
       "overflow_y": null,
       "padding": null,
       "right": null,
       "top": null,
       "visibility": null,
       "width": null
      }
     },
     "e64dda0f5b154d16bcb10228ed6b411c": {
      "model_module": "@jupyter-widgets/controls",
      "model_module_version": "1.5.0",
      "model_name": "HTMLModel",
      "state": {
       "_dom_classes": [],
       "_model_module": "@jupyter-widgets/controls",
       "_model_module_version": "1.5.0",
       "_model_name": "HTMLModel",
       "_view_count": null,
       "_view_module": "@jupyter-widgets/controls",
       "_view_module_version": "1.5.0",
       "_view_name": "HTMLView",
       "description": "",
       "description_tooltip": null,
       "layout": "IPY_MODEL_5cf9cd3f0acf4110a0555332c501a901",
       "placeholder": "​",
       "style": "IPY_MODEL_591b4e95470041b7aab2964f94fcc62e",
       "value": "Downloading data: 100%"
      }
     },
     "f4455ed4597e491da75bc0b264821bc7": {
      "model_module": "@jupyter-widgets/controls",
      "model_module_version": "1.5.0",
      "model_name": "HBoxModel",
      "state": {
       "_dom_classes": [],
       "_model_module": "@jupyter-widgets/controls",
       "_model_module_version": "1.5.0",
       "_model_name": "HBoxModel",
       "_view_count": null,
       "_view_module": "@jupyter-widgets/controls",
       "_view_module_version": "1.5.0",
       "_view_name": "HBoxView",
       "box_style": "",
       "children": [
        "IPY_MODEL_365826a27e9d463eaca7db28cc1fcdb4",
        "IPY_MODEL_673d311cfb754b4e9389a2c387cce84f",
        "IPY_MODEL_3d49b640c3194db4ab4704ebc62e3383"
       ],
       "layout": "IPY_MODEL_e0eefcb6b31648eea6de47c954dbecc5"
      }
     },
     "f5dd6a147bdf456faede085e9a81e9d0": {
      "model_module": "@jupyter-widgets/controls",
      "model_module_version": "1.5.0",
      "model_name": "DescriptionStyleModel",
      "state": {
       "_model_module": "@jupyter-widgets/controls",
       "_model_module_version": "1.5.0",
       "_model_name": "DescriptionStyleModel",
       "_view_count": null,
       "_view_module": "@jupyter-widgets/base",
       "_view_module_version": "1.2.0",
       "_view_name": "StyleView",
       "description_width": ""
      }
     },
     "f611aa3b2c6a49c480ff56305ebbe198": {
      "model_module": "@jupyter-widgets/controls",
      "model_module_version": "1.5.0",
      "model_name": "HBoxModel",
      "state": {
       "_dom_classes": [],
       "_model_module": "@jupyter-widgets/controls",
       "_model_module_version": "1.5.0",
       "_model_name": "HBoxModel",
       "_view_count": null,
       "_view_module": "@jupyter-widgets/controls",
       "_view_module_version": "1.5.0",
       "_view_name": "HBoxView",
       "box_style": "",
       "children": [
        "IPY_MODEL_e64dda0f5b154d16bcb10228ed6b411c",
        "IPY_MODEL_313196315d354b8590951fef13ed211c",
        "IPY_MODEL_d3a1bd3b2be7497dbd4806925fd88d52"
       ],
       "layout": "IPY_MODEL_409304f36c98485daa08143e9cbf69d2"
      }
     }
    },
    "version_major": 2,
    "version_minor": 0
   }
  }
 },
 "nbformat": 4,
 "nbformat_minor": 5
}

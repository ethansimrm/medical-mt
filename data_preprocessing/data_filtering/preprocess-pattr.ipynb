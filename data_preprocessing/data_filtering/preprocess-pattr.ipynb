{
 "cells": [
  {
   "cell_type": "code",
   "execution_count": 1,
   "id": "b7a44309",
   "metadata": {
    "_cell_guid": "b1076dfc-b9ad-4769-8c92-a6c4dae69d19",
    "_uuid": "8f2839f25d086af736a60e9eeb907d3b93b6e0e5",
    "execution": {
     "iopub.execute_input": "2023-06-19T20:22:31.244313Z",
     "iopub.status.busy": "2023-06-19T20:22:31.243576Z",
     "iopub.status.idle": "2023-06-19T20:22:43.099801Z",
     "shell.execute_reply": "2023-06-19T20:22:43.098400Z"
    },
    "papermill": {
     "duration": 11.865496,
     "end_time": "2023-06-19T20:22:43.102500",
     "exception": false,
     "start_time": "2023-06-19T20:22:31.237004",
     "status": "completed"
    },
    "tags": []
   },
   "outputs": [
    {
     "name": "stdout",
     "output_type": "stream",
     "text": [
      "Requirement already satisfied: datasets in /opt/conda/lib/python3.10/site-packages (2.1.0)\r\n",
      "Requirement already satisfied: numpy>=1.17 in /opt/conda/lib/python3.10/site-packages (from datasets) (1.23.5)\r\n",
      "Requirement already satisfied: pyarrow>=5.0.0 in /opt/conda/lib/python3.10/site-packages (from datasets) (9.0.0)\r\n",
      "Requirement already satisfied: dill in /opt/conda/lib/python3.10/site-packages (from datasets) (0.3.6)\r\n",
      "Requirement already satisfied: pandas in /opt/conda/lib/python3.10/site-packages (from datasets) (1.5.3)\r\n",
      "Requirement already satisfied: requests>=2.19.0 in /opt/conda/lib/python3.10/site-packages (from datasets) (2.28.2)\r\n",
      "Requirement already satisfied: tqdm>=4.62.1 in /opt/conda/lib/python3.10/site-packages (from datasets) (4.64.1)\r\n",
      "Requirement already satisfied: xxhash in /opt/conda/lib/python3.10/site-packages (from datasets) (3.2.0)\r\n",
      "Requirement already satisfied: multiprocess in /opt/conda/lib/python3.10/site-packages (from datasets) (0.70.14)\r\n",
      "Requirement already satisfied: fsspec[http]>=2021.05.0 in /opt/conda/lib/python3.10/site-packages (from datasets) (2023.6.0)\r\n",
      "Requirement already satisfied: aiohttp in /opt/conda/lib/python3.10/site-packages (from datasets) (3.8.4)\r\n",
      "Requirement already satisfied: huggingface-hub<1.0.0,>=0.1.0 in /opt/conda/lib/python3.10/site-packages (from datasets) (0.15.1)\r\n",
      "Requirement already satisfied: packaging in /opt/conda/lib/python3.10/site-packages (from datasets) (21.3)\r\n",
      "Requirement already satisfied: responses<0.19 in /opt/conda/lib/python3.10/site-packages (from datasets) (0.18.0)\r\n",
      "Requirement already satisfied: attrs>=17.3.0 in /opt/conda/lib/python3.10/site-packages (from aiohttp->datasets) (23.1.0)\r\n",
      "Requirement already satisfied: charset-normalizer<4.0,>=2.0 in /opt/conda/lib/python3.10/site-packages (from aiohttp->datasets) (2.1.1)\r\n",
      "Requirement already satisfied: multidict<7.0,>=4.5 in /opt/conda/lib/python3.10/site-packages (from aiohttp->datasets) (6.0.4)\r\n",
      "Requirement already satisfied: async-timeout<5.0,>=4.0.0a3 in /opt/conda/lib/python3.10/site-packages (from aiohttp->datasets) (4.0.2)\r\n",
      "Requirement already satisfied: yarl<2.0,>=1.0 in /opt/conda/lib/python3.10/site-packages (from aiohttp->datasets) (1.9.1)\r\n",
      "Requirement already satisfied: frozenlist>=1.1.1 in /opt/conda/lib/python3.10/site-packages (from aiohttp->datasets) (1.3.3)\r\n",
      "Requirement already satisfied: aiosignal>=1.1.2 in /opt/conda/lib/python3.10/site-packages (from aiohttp->datasets) (1.3.1)\r\n",
      "Requirement already satisfied: filelock in /opt/conda/lib/python3.10/site-packages (from huggingface-hub<1.0.0,>=0.1.0->datasets) (3.12.0)\r\n",
      "Requirement already satisfied: pyyaml>=5.1 in /opt/conda/lib/python3.10/site-packages (from huggingface-hub<1.0.0,>=0.1.0->datasets) (5.4.1)\r\n",
      "Requirement already satisfied: typing-extensions>=3.7.4.3 in /opt/conda/lib/python3.10/site-packages (from huggingface-hub<1.0.0,>=0.1.0->datasets) (4.5.0)\r\n",
      "Requirement already satisfied: pyparsing!=3.0.5,>=2.0.2 in /opt/conda/lib/python3.10/site-packages (from packaging->datasets) (3.0.9)\r\n",
      "Requirement already satisfied: idna<4,>=2.5 in /opt/conda/lib/python3.10/site-packages (from requests>=2.19.0->datasets) (3.4)\r\n",
      "Requirement already satisfied: urllib3<1.27,>=1.21.1 in /opt/conda/lib/python3.10/site-packages (from requests>=2.19.0->datasets) (1.26.15)\r\n",
      "Requirement already satisfied: certifi>=2017.4.17 in /opt/conda/lib/python3.10/site-packages (from requests>=2.19.0->datasets) (2023.5.7)\r\n",
      "Requirement already satisfied: python-dateutil>=2.8.1 in /opt/conda/lib/python3.10/site-packages (from pandas->datasets) (2.8.2)\r\n",
      "Requirement already satisfied: pytz>=2020.1 in /opt/conda/lib/python3.10/site-packages (from pandas->datasets) (2023.3)\r\n",
      "Requirement already satisfied: six>=1.5 in /opt/conda/lib/python3.10/site-packages (from python-dateutil>=2.8.1->pandas->datasets) (1.16.0)\r\n",
      "\u001b[33mWARNING: Running pip as the 'root' user can result in broken permissions and conflicting behaviour with the system package manager. It is recommended to use a virtual environment instead: https://pip.pypa.io/warnings/venv\u001b[0m\u001b[33m\r\n",
      "\u001b[0m"
     ]
    }
   ],
   "source": [
    "!pip install datasets"
   ]
  },
  {
   "cell_type": "code",
   "execution_count": 2,
   "id": "3ae8833a",
   "metadata": {
    "execution": {
     "iopub.execute_input": "2023-06-19T20:22:43.114511Z",
     "iopub.status.busy": "2023-06-19T20:22:43.114096Z",
     "iopub.status.idle": "2023-06-19T20:22:47.219692Z",
     "shell.execute_reply": "2023-06-19T20:22:47.218626Z"
    },
    "papermill": {
     "duration": 4.114133,
     "end_time": "2023-06-19T20:22:47.221771",
     "exception": false,
     "start_time": "2023-06-19T20:22:43.107638",
     "status": "completed"
    },
    "tags": []
   },
   "outputs": [
    {
     "name": "stdout",
     "output_type": "stream",
     "text": [
      "Token will not been saved to git credential helper. Pass `add_to_git_credential=True` if you want to set the git credential as well.\n",
      "Token is valid (permission: write).\n",
      "Your token has been saved to /root/.cache/huggingface/token\n",
      "Login successful\n"
     ]
    },
    {
     "name": "stderr",
     "output_type": "stream",
     "text": [
      "\u001b[34m\u001b[1mwandb\u001b[0m: W&B API key is configured. Use \u001b[1m`wandb login --relogin`\u001b[0m to force relogin\n",
      "\u001b[34m\u001b[1mwandb\u001b[0m: \u001b[33mWARNING\u001b[0m If you're specifying your api key in code, ensure this code is not shared publicly.\n",
      "\u001b[34m\u001b[1mwandb\u001b[0m: \u001b[33mWARNING\u001b[0m Consider setting the WANDB_API_KEY environment variable, or running `wandb login` from the command line.\n",
      "\u001b[34m\u001b[1mwandb\u001b[0m: Appending key for api.wandb.ai to your netrc file: /root/.netrc\n"
     ]
    },
    {
     "data": {
      "text/plain": [
       "True"
      ]
     },
     "execution_count": 2,
     "metadata": {},
     "output_type": "execute_result"
    }
   ],
   "source": [
    "from huggingface_hub import login\n",
    "from kaggle_secrets import UserSecretsClient\n",
    "import wandb\n",
    "user_secrets = UserSecretsClient()\n",
    "secret_value = user_secrets.get_secret(\"HF_KEY\")\n",
    "login(secret_value)\n",
    "secret_value1 = user_secrets.get_secret(\"WANDB_KEY\")\n",
    "wandb.login(key=secret_value1)"
   ]
  },
  {
   "cell_type": "code",
   "execution_count": 3,
   "id": "2a5b67f4",
   "metadata": {
    "execution": {
     "iopub.execute_input": "2023-06-19T20:22:47.233828Z",
     "iopub.status.busy": "2023-06-19T20:22:47.233445Z",
     "iopub.status.idle": "2023-06-19T20:23:47.544618Z",
     "shell.execute_reply": "2023-06-19T20:23:47.543351Z"
    },
    "papermill": {
     "duration": 60.319985,
     "end_time": "2023-06-19T20:23:47.547044",
     "exception": false,
     "start_time": "2023-06-19T20:22:47.227059",
     "status": "completed"
    },
    "tags": []
   },
   "outputs": [
    {
     "name": "stdout",
     "output_type": "stream",
     "text": [
      "Downloading and preparing dataset text/ethansimrm--patTR_biomed_raw to /root/.cache/huggingface/datasets/text/ethansimrm--patTR_biomed_raw-f054c0046b36a4dc/0.0.0/4b86d314f7236db91f0a0f5cda32d4375445e64c5eda2692655dd99c2dac68e8...\n"
     ]
    },
    {
     "data": {
      "application/vnd.jupyter.widget-view+json": {
       "model_id": "1934c87339ef4c259a26106dfda4b1c9",
       "version_major": 2,
       "version_minor": 0
      },
      "text/plain": [
       "Downloading data files:   0%|          | 0/1 [00:00<?, ?it/s]"
      ]
     },
     "metadata": {},
     "output_type": "display_data"
    },
    {
     "data": {
      "application/vnd.jupyter.widget-view+json": {
       "model_id": "9f0a69c79986451fbe347888ee5063ee",
       "version_major": 2,
       "version_minor": 0
      },
      "text/plain": [
       "Downloading data:   0%|          | 0.00/372M [00:00<?, ?B/s]"
      ]
     },
     "metadata": {},
     "output_type": "display_data"
    },
    {
     "data": {
      "application/vnd.jupyter.widget-view+json": {
       "model_id": "2ac3be298f31476b8646bb1410a58702",
       "version_major": 2,
       "version_minor": 0
      },
      "text/plain": [
       "Extracting data files:   0%|          | 0/1 [00:00<?, ?it/s]"
      ]
     },
     "metadata": {},
     "output_type": "display_data"
    },
    {
     "name": "stdout",
     "output_type": "stream",
     "text": [
      "Dataset text downloaded and prepared to /root/.cache/huggingface/datasets/text/ethansimrm--patTR_biomed_raw-f054c0046b36a4dc/0.0.0/4b86d314f7236db91f0a0f5cda32d4375445e64c5eda2692655dd99c2dac68e8. Subsequent calls will reuse this data.\n"
     ]
    }
   ],
   "source": [
    "from datasets import load_dataset\n",
    "training_data = load_dataset(\"ethansimrm/patTR_biomed_raw\", split = \"train\") "
   ]
  },
  {
   "cell_type": "code",
   "execution_count": 4,
   "id": "5a553559",
   "metadata": {
    "execution": {
     "iopub.execute_input": "2023-06-19T20:23:47.562322Z",
     "iopub.status.busy": "2023-06-19T20:23:47.561654Z",
     "iopub.status.idle": "2023-06-19T20:23:47.566530Z",
     "shell.execute_reply": "2023-06-19T20:23:47.565352Z"
    },
    "papermill": {
     "duration": 0.015814,
     "end_time": "2023-06-19T20:23:47.568670",
     "exception": false,
     "start_time": "2023-06-19T20:23:47.552856",
     "status": "completed"
    },
    "tags": []
   },
   "outputs": [],
   "source": [
    "#print(len(training_data)) #2191537 sentence pairs prior to pre-processing\n",
    "#training_data['text'][1:10] \n",
    "#This is formatted slightly differently, so let's account for that before preprocessing\n",
    "#Format is TGT [TAB] SRC [TAB] medical_corpus [TAB] PatTR_Medical"
   ]
  },
  {
   "cell_type": "code",
   "execution_count": 5,
   "id": "6b209f3f",
   "metadata": {
    "execution": {
     "iopub.execute_input": "2023-06-19T20:23:47.581829Z",
     "iopub.status.busy": "2023-06-19T20:23:47.581427Z",
     "iopub.status.idle": "2023-06-19T20:24:05.157236Z",
     "shell.execute_reply": "2023-06-19T20:24:05.156376Z"
    },
    "papermill": {
     "duration": 17.585136,
     "end_time": "2023-06-19T20:24:05.159627",
     "exception": false,
     "start_time": "2023-06-19T20:23:47.574491",
     "status": "completed"
    },
    "tags": []
   },
   "outputs": [],
   "source": [
    "from datasets import Dataset\n",
    "source = []\n",
    "target = []\n",
    "for example in training_data['text']:\n",
    "    example = example.strip()\n",
    "    sentences = example.split(\"\\t\")\n",
    "    source.append(sentences[1])\n",
    "    target.append(sentences[0])\n",
    "ready_data = Dataset.from_dict({\"en\":source, \"fr\":target})"
   ]
  },
  {
   "cell_type": "code",
   "execution_count": 6,
   "id": "2b363480",
   "metadata": {
    "execution": {
     "iopub.execute_input": "2023-06-19T20:24:05.174039Z",
     "iopub.status.busy": "2023-06-19T20:24:05.173025Z",
     "iopub.status.idle": "2023-06-19T20:24:05.179626Z",
     "shell.execute_reply": "2023-06-19T20:24:05.178810Z"
    },
    "papermill": {
     "duration": 0.015608,
     "end_time": "2023-06-19T20:24:05.181583",
     "exception": false,
     "start_time": "2023-06-19T20:24:05.165975",
     "status": "completed"
    },
    "tags": []
   },
   "outputs": [
    {
     "data": {
      "text/plain": [
       "{'en': 'SEQUENCES INVOLVED IN THE PHENOMENA OF TUMOUR SUPPRESSION, TUMOUR REVERSION, APOPTOSIS AND/OR RESISTANCE TO VIRUSES, AND THE USE OF THE SAME AS MEDICAMENTS',\n",
       " 'fr': 'SEQUENCES IMPLIQUEES DANS LES PHENOMENES DE SUPPRESSION TUMORALE, REVERSION TUMORALE, APOPTOSE ET/OU RESISTANCE AUX VIRUS ET LEUR UTILISATION COMME MEDICAMENTS'}"
      ]
     },
     "execution_count": 6,
     "metadata": {},
     "output_type": "execute_result"
    }
   ],
   "source": [
    "#Seems alright.\n",
    "ready_data[0]"
   ]
  },
  {
   "cell_type": "code",
   "execution_count": 7,
   "id": "8f0d332f",
   "metadata": {
    "execution": {
     "iopub.execute_input": "2023-06-19T20:24:05.195247Z",
     "iopub.status.busy": "2023-06-19T20:24:05.194650Z",
     "iopub.status.idle": "2023-06-19T20:26:00.334685Z",
     "shell.execute_reply": "2023-06-19T20:26:00.333575Z"
    },
    "papermill": {
     "duration": 115.149898,
     "end_time": "2023-06-19T20:26:00.337320",
     "exception": false,
     "start_time": "2023-06-19T20:24:05.187422",
     "status": "completed"
    },
    "tags": []
   },
   "outputs": [],
   "source": [
    "import pandas as pd\n",
    "#Let's start preprocessing according to Wu et al.(2022).\n",
    "#First, remove duplicate sentences. \n",
    "#We can't do this in datasets, so we must convert it to a pandas DataFrame.\n",
    "tempDataset = pd.DataFrame(ready_data)"
   ]
  },
  {
   "cell_type": "code",
   "execution_count": 8,
   "id": "4a0a20bc",
   "metadata": {
    "execution": {
     "iopub.execute_input": "2023-06-19T20:26:00.351474Z",
     "iopub.status.busy": "2023-06-19T20:26:00.350832Z",
     "iopub.status.idle": "2023-06-19T20:26:00.355183Z",
     "shell.execute_reply": "2023-06-19T20:26:00.354149Z"
    },
    "papermill": {
     "duration": 0.013515,
     "end_time": "2023-06-19T20:26:00.357227",
     "exception": false,
     "start_time": "2023-06-19T20:26:00.343712",
     "status": "completed"
    },
    "tags": []
   },
   "outputs": [],
   "source": [
    "#tempDataset[tempDataset.duplicated()] \n",
    "#Wow, there are a lot of duplicate rows, 46606 in total. "
   ]
  },
  {
   "cell_type": "code",
   "execution_count": 9,
   "id": "657f4848",
   "metadata": {
    "execution": {
     "iopub.execute_input": "2023-06-19T20:26:00.370862Z",
     "iopub.status.busy": "2023-06-19T20:26:00.370162Z",
     "iopub.status.idle": "2023-06-19T20:26:09.198704Z",
     "shell.execute_reply": "2023-06-19T20:26:09.197513Z"
    },
    "papermill": {
     "duration": 8.838376,
     "end_time": "2023-06-19T20:26:09.201420",
     "exception": false,
     "start_time": "2023-06-19T20:26:00.363044",
     "status": "completed"
    },
    "tags": []
   },
   "outputs": [],
   "source": [
    "tempDataset_dedup = tempDataset.drop_duplicates()"
   ]
  },
  {
   "cell_type": "code",
   "execution_count": 10,
   "id": "114c12f4",
   "metadata": {
    "execution": {
     "iopub.execute_input": "2023-06-19T20:26:09.214907Z",
     "iopub.status.busy": "2023-06-19T20:26:09.214528Z",
     "iopub.status.idle": "2023-06-19T20:26:11.432551Z",
     "shell.execute_reply": "2023-06-19T20:26:11.431444Z"
    },
    "papermill": {
     "duration": 2.227588,
     "end_time": "2023-06-19T20:26:11.435046",
     "exception": false,
     "start_time": "2023-06-19T20:26:09.207458",
     "status": "completed"
    },
    "tags": []
   },
   "outputs": [],
   "source": [
    "#Declaring helper functions separately\n",
    "import langid, string\n",
    "from tqdm import tqdm\n",
    "langid.set_languages([\"en\", \"fr\"]) #Constrain language set\n",
    "tqdm.pandas() #So I can see progress\n",
    "count = lambda l1,l2: sum([1 for x in l1 if x in l2])"
   ]
  },
  {
   "cell_type": "code",
   "execution_count": 11,
   "id": "5e400a0f",
   "metadata": {
    "execution": {
     "iopub.execute_input": "2023-06-19T20:26:11.448689Z",
     "iopub.status.busy": "2023-06-19T20:26:11.448311Z",
     "iopub.status.idle": "2023-06-19T20:26:11.460124Z",
     "shell.execute_reply": "2023-06-19T20:26:11.458381Z"
    },
    "papermill": {
     "duration": 0.021911,
     "end_time": "2023-06-19T20:26:11.463093",
     "exception": false,
     "start_time": "2023-06-19T20:26:11.441182",
     "status": "completed"
    },
    "tags": []
   },
   "outputs": [
    {
     "name": "stdout",
     "output_type": "stream",
     "text": [
      "\n"
     ]
    }
   ],
   "source": [
    "#Having verified that we can convert this back into a Dataset object, we'll just \n",
    "#do everything else in a pandas DataFrame. There are seven per-sentence checks\n",
    "#we can do.\n",
    "\n",
    "def retain_sentence(row): #This defines a good sentence we wish to retain\n",
    "    word_counts = []\n",
    "    #Exclude repeats and empty source or target sentences\n",
    "    if ((row[\"en\"] == row[\"fr\"]) or (row[\"en\"] == \"\") or (row[\"fr\"] == \"\")):\n",
    "        return False\n",
    "    for sentence in (row[\"en\"], row[\"fr\"]):\n",
    "        #Exclude sentences with mismatched () or '' or \"\"\n",
    "        if ((sentence.count(\"(\") != sentence.count(\")\")) or \n",
    "            (sentence.count(\"'\") % 2 != 0) or\n",
    "            (sentence.count('\"') % 2 != 0)):\n",
    "            return False\n",
    "        sent_length = len(sentence)\n",
    "        #Exclude sentences with punctuation percentage > 0.4\n",
    "        if (count(sentence,set(string.punctuation)) > 0.4 * sent_length):\n",
    "            return False\n",
    "        #Exclude sentences with > 150 words\n",
    "        num_words = len(sentence.split(\" \"))\n",
    "        if (num_words > 150):\n",
    "            return False\n",
    "        word_counts.append(num_words)\n",
    "        #Exclude sentences with char-to-word ratio > 12 or < 1.5\n",
    "        c2w_ratio = sent_length / num_words\n",
    "        if ((c2w_ratio > 12) or (c2w_ratio < 1.5)):\n",
    "            return False\n",
    "    #Heuristic \"alignment\" filtering\n",
    "    word_ratio = word_counts[0] / word_counts[1]\n",
    "    if((word_ratio >= 9) or (1/word_ratio >= 9)):\n",
    "        return False\n",
    "    #Expensive language-determining step\n",
    "    if ((langid.classify(row['en'])[0] != \"en\") or \n",
    "    (langid.classify(row['fr'])[0] != \"fr\")):\n",
    "        return False\n",
    "    return True\n",
    "\"\"\"\n",
    "We will skip full alignment-checking, due to infeasibility and time constraints.\n",
    "SOTA-used options such as fast-align and eflomal require a large parallel training \n",
    "corpus, which we lack. AWESOME-align cannot run, even from the command line, \n",
    "due to an issue with the multiprocessing module and pickling. We can take another\n",
    "crack at this in the future.\n",
    "\n",
    "However, we can filter out obviously bad alignments by looking at word ratio;\n",
    "we filter out word ratios greater than 9 or smaller than 1/9.\n",
    "This (heuristic) method comes from Del et al. (2021).\n",
    "\"\"\"\n",
    "print()"
   ]
  },
  {
   "cell_type": "code",
   "execution_count": 12,
   "id": "461660bf",
   "metadata": {
    "execution": {
     "iopub.execute_input": "2023-06-19T20:26:11.478605Z",
     "iopub.status.busy": "2023-06-19T20:26:11.478224Z",
     "iopub.status.idle": "2023-06-19T20:39:17.490704Z",
     "shell.execute_reply": "2023-06-19T20:39:17.489473Z"
    },
    "papermill": {
     "duration": 786.023551,
     "end_time": "2023-06-19T20:39:17.493180",
     "exception": false,
     "start_time": "2023-06-19T20:26:11.469629",
     "status": "completed"
    },
    "tags": []
   },
   "outputs": [
    {
     "name": "stderr",
     "output_type": "stream",
     "text": [
      "100%|██████████| 2144931/2144931 [13:06<00:00, 2728.91it/s]\n"
     ]
    }
   ],
   "source": [
    "tempDataset_nearlyAligned = tempDataset_dedup.progress_apply(retain_sentence, axis=1)"
   ]
  },
  {
   "cell_type": "code",
   "execution_count": 13,
   "id": "05ee8844",
   "metadata": {
    "execution": {
     "iopub.execute_input": "2023-06-19T20:39:18.491341Z",
     "iopub.status.busy": "2023-06-19T20:39:18.490709Z",
     "iopub.status.idle": "2023-06-19T20:39:18.586820Z",
     "shell.execute_reply": "2023-06-19T20:39:18.585597Z"
    },
    "papermill": {
     "duration": 0.561353,
     "end_time": "2023-06-19T20:39:18.589235",
     "exception": false,
     "start_time": "2023-06-19T20:39:18.027882",
     "status": "completed"
    },
    "tags": []
   },
   "outputs": [],
   "source": [
    "filtered_set = tempDataset_dedup[tempDataset_nearlyAligned]"
   ]
  },
  {
   "cell_type": "code",
   "execution_count": 14,
   "id": "c87ad4be",
   "metadata": {
    "execution": {
     "iopub.execute_input": "2023-06-19T20:39:19.514656Z",
     "iopub.status.busy": "2023-06-19T20:39:19.514267Z",
     "iopub.status.idle": "2023-06-19T20:39:19.601405Z",
     "shell.execute_reply": "2023-06-19T20:39:19.600294Z"
    },
    "papermill": {
     "duration": 0.550193,
     "end_time": "2023-06-19T20:39:19.603748",
     "exception": false,
     "start_time": "2023-06-19T20:39:19.053555",
     "status": "completed"
    },
    "tags": []
   },
   "outputs": [],
   "source": [
    "filtered_set = filtered_set.reset_index(drop=True)"
   ]
  },
  {
   "cell_type": "code",
   "execution_count": 15,
   "id": "4e45fb24",
   "metadata": {
    "execution": {
     "iopub.execute_input": "2023-06-19T20:39:20.595998Z",
     "iopub.status.busy": "2023-06-19T20:39:20.595343Z",
     "iopub.status.idle": "2023-06-19T20:39:21.026551Z",
     "shell.execute_reply": "2023-06-19T20:39:21.025788Z"
    },
    "papermill": {
     "duration": 0.895849,
     "end_time": "2023-06-19T20:39:21.028737",
     "exception": false,
     "start_time": "2023-06-19T20:39:20.132888",
     "status": "completed"
    },
    "tags": []
   },
   "outputs": [],
   "source": [
    "filtered_set = filtered_set.sample(frac=1).reset_index(drop=True) #Shuffle to avoid overfitting "
   ]
  },
  {
   "cell_type": "code",
   "execution_count": 16,
   "id": "2d68e8d6",
   "metadata": {
    "execution": {
     "iopub.execute_input": "2023-06-19T20:39:22.039105Z",
     "iopub.status.busy": "2023-06-19T20:39:22.038431Z",
     "iopub.status.idle": "2023-06-19T20:39:33.234655Z",
     "shell.execute_reply": "2023-06-19T20:39:33.232927Z"
    },
    "papermill": {
     "duration": 11.74697,
     "end_time": "2023-06-19T20:39:33.239633",
     "exception": false,
     "start_time": "2023-06-19T20:39:21.492663",
     "status": "completed"
    },
    "tags": []
   },
   "outputs": [],
   "source": [
    "f = open(\"patTR_filtered.txt\", \"w\", encoding = \"utf-8\")\n",
    "source = filtered_set[\"en\"]\n",
    "target = filtered_set[\"fr\"]\n",
    "for i in range(len(filtered_set)):\n",
    "    f.write(source[i] + \"\\t\" + target[i] + \"\\n\")\n",
    "f.close()"
   ]
  }
 ],
 "metadata": {
  "kernelspec": {
   "display_name": "Python 3",
   "language": "python",
   "name": "python3"
  },
  "language_info": {
   "codemirror_mode": {
    "name": "ipython",
    "version": 3
   },
   "file_extension": ".py",
   "mimetype": "text/x-python",
   "name": "python",
   "nbconvert_exporter": "python",
   "pygments_lexer": "ipython3",
   "version": "3.10.10"
  },
  "papermill": {
   "default_parameters": {},
   "duration": 1035.488743,
   "end_time": "2023-06-19T20:39:36.950792",
   "environment_variables": {},
   "exception": null,
   "input_path": "__notebook__.ipynb",
   "output_path": "__notebook__.ipynb",
   "parameters": {},
   "start_time": "2023-06-19T20:22:21.462049",
   "version": "2.4.0"
  },
  "widgets": {
   "application/vnd.jupyter.widget-state+json": {
    "state": {
     "01675f303a154b8d8f05dab855d4cef8": {
      "model_module": "@jupyter-widgets/base",
      "model_module_version": "1.2.0",
      "model_name": "LayoutModel",
      "state": {
       "_model_module": "@jupyter-widgets/base",
       "_model_module_version": "1.2.0",
       "_model_name": "LayoutModel",
       "_view_count": null,
       "_view_module": "@jupyter-widgets/base",
       "_view_module_version": "1.2.0",
       "_view_name": "LayoutView",
       "align_content": null,
       "align_items": null,
       "align_self": null,
       "border": null,
       "bottom": null,
       "display": null,
       "flex": null,
       "flex_flow": null,
       "grid_area": null,
       "grid_auto_columns": null,
       "grid_auto_flow": null,
       "grid_auto_rows": null,
       "grid_column": null,
       "grid_gap": null,
       "grid_row": null,
       "grid_template_areas": null,
       "grid_template_columns": null,
       "grid_template_rows": null,
       "height": null,
       "justify_content": null,
       "justify_items": null,
       "left": null,
       "margin": null,
       "max_height": null,
       "max_width": null,
       "min_height": null,
       "min_width": null,
       "object_fit": null,
       "object_position": null,
       "order": null,
       "overflow": null,
       "overflow_x": null,
       "overflow_y": null,
       "padding": null,
       "right": null,
       "top": null,
       "visibility": null,
       "width": null
      }
     },
     "11f7bc2f96ce4daaa0b01db922dff94c": {
      "model_module": "@jupyter-widgets/controls",
      "model_module_version": "1.5.0",
      "model_name": "HTMLModel",
      "state": {
       "_dom_classes": [],
       "_model_module": "@jupyter-widgets/controls",
       "_model_module_version": "1.5.0",
       "_model_name": "HTMLModel",
       "_view_count": null,
       "_view_module": "@jupyter-widgets/controls",
       "_view_module_version": "1.5.0",
       "_view_name": "HTMLView",
       "description": "",
       "description_tooltip": null,
       "layout": "IPY_MODEL_ddee6b8ea9634947ae9874a1451dcbcb",
       "placeholder": "​",
       "style": "IPY_MODEL_32ee510585e14565892c78aaf070e730",
       "value": "Downloading data files: 100%"
      }
     },
     "1934c87339ef4c259a26106dfda4b1c9": {
      "model_module": "@jupyter-widgets/controls",
      "model_module_version": "1.5.0",
      "model_name": "HBoxModel",
      "state": {
       "_dom_classes": [],
       "_model_module": "@jupyter-widgets/controls",
       "_model_module_version": "1.5.0",
       "_model_name": "HBoxModel",
       "_view_count": null,
       "_view_module": "@jupyter-widgets/controls",
       "_view_module_version": "1.5.0",
       "_view_name": "HBoxView",
       "box_style": "",
       "children": [
        "IPY_MODEL_11f7bc2f96ce4daaa0b01db922dff94c",
        "IPY_MODEL_e9e2a0b252f74fac9da2746db775e64e",
        "IPY_MODEL_69c3de9b8aae4173b357b076899d724c"
       ],
       "layout": "IPY_MODEL_d99cbaaae9364146830327beac56318d"
      }
     },
     "2ac3be298f31476b8646bb1410a58702": {
      "model_module": "@jupyter-widgets/controls",
      "model_module_version": "1.5.0",
      "model_name": "HBoxModel",
      "state": {
       "_dom_classes": [],
       "_model_module": "@jupyter-widgets/controls",
       "_model_module_version": "1.5.0",
       "_model_name": "HBoxModel",
       "_view_count": null,
       "_view_module": "@jupyter-widgets/controls",
       "_view_module_version": "1.5.0",
       "_view_name": "HBoxView",
       "box_style": "",
       "children": [
        "IPY_MODEL_8e7ccba4a94a44dcaca63940718b2134",
        "IPY_MODEL_9cfc0d5884e141ee84287175e6f4f2fe",
        "IPY_MODEL_8a5f82501f3047b8b6acf3c09e9bf414"
       ],
       "layout": "IPY_MODEL_33650b0b586d4fd9a2550bcf77590a64"
      }
     },
     "2f445bd0bb37438abbd4d735c7cc63f5": {
      "model_module": "@jupyter-widgets/base",
      "model_module_version": "1.2.0",
      "model_name": "LayoutModel",
      "state": {
       "_model_module": "@jupyter-widgets/base",
       "_model_module_version": "1.2.0",
       "_model_name": "LayoutModel",
       "_view_count": null,
       "_view_module": "@jupyter-widgets/base",
       "_view_module_version": "1.2.0",
       "_view_name": "LayoutView",
       "align_content": null,
       "align_items": null,
       "align_self": null,
       "border": null,
       "bottom": null,
       "display": null,
       "flex": null,
       "flex_flow": null,
       "grid_area": null,
       "grid_auto_columns": null,
       "grid_auto_flow": null,
       "grid_auto_rows": null,
       "grid_column": null,
       "grid_gap": null,
       "grid_row": null,
       "grid_template_areas": null,
       "grid_template_columns": null,
       "grid_template_rows": null,
       "height": null,
       "justify_content": null,
       "justify_items": null,
       "left": null,
       "margin": null,
       "max_height": null,
       "max_width": null,
       "min_height": null,
       "min_width": null,
       "object_fit": null,
       "object_position": null,
       "order": null,
       "overflow": null,
       "overflow_x": null,
       "overflow_y": null,
       "padding": null,
       "right": null,
       "top": null,
       "visibility": null,
       "width": null
      }
     },
     "32ee510585e14565892c78aaf070e730": {
      "model_module": "@jupyter-widgets/controls",
      "model_module_version": "1.5.0",
      "model_name": "DescriptionStyleModel",
      "state": {
       "_model_module": "@jupyter-widgets/controls",
       "_model_module_version": "1.5.0",
       "_model_name": "DescriptionStyleModel",
       "_view_count": null,
       "_view_module": "@jupyter-widgets/base",
       "_view_module_version": "1.2.0",
       "_view_name": "StyleView",
       "description_width": ""
      }
     },
     "33650b0b586d4fd9a2550bcf77590a64": {
      "model_module": "@jupyter-widgets/base",
      "model_module_version": "1.2.0",
      "model_name": "LayoutModel",
      "state": {
       "_model_module": "@jupyter-widgets/base",
       "_model_module_version": "1.2.0",
       "_model_name": "LayoutModel",
       "_view_count": null,
       "_view_module": "@jupyter-widgets/base",
       "_view_module_version": "1.2.0",
       "_view_name": "LayoutView",
       "align_content": null,
       "align_items": null,
       "align_self": null,
       "border": null,
       "bottom": null,
       "display": null,
       "flex": null,
       "flex_flow": null,
       "grid_area": null,
       "grid_auto_columns": null,
       "grid_auto_flow": null,
       "grid_auto_rows": null,
       "grid_column": null,
       "grid_gap": null,
       "grid_row": null,
       "grid_template_areas": null,
       "grid_template_columns": null,
       "grid_template_rows": null,
       "height": null,
       "justify_content": null,
       "justify_items": null,
       "left": null,
       "margin": null,
       "max_height": null,
       "max_width": null,
       "min_height": null,
       "min_width": null,
       "object_fit": null,
       "object_position": null,
       "order": null,
       "overflow": null,
       "overflow_x": null,
       "overflow_y": null,
       "padding": null,
       "right": null,
       "top": null,
       "visibility": null,
       "width": null
      }
     },
     "4564f4dbd7bd4db0b0ca996f4a61dae3": {
      "model_module": "@jupyter-widgets/controls",
      "model_module_version": "1.5.0",
      "model_name": "ProgressStyleModel",
      "state": {
       "_model_module": "@jupyter-widgets/controls",
       "_model_module_version": "1.5.0",
       "_model_name": "ProgressStyleModel",
       "_view_count": null,
       "_view_module": "@jupyter-widgets/base",
       "_view_module_version": "1.2.0",
       "_view_name": "StyleView",
       "bar_color": null,
       "description_width": ""
      }
     },
     "5bfaf137236a468a90db358f62984345": {
      "model_module": "@jupyter-widgets/base",
      "model_module_version": "1.2.0",
      "model_name": "LayoutModel",
      "state": {
       "_model_module": "@jupyter-widgets/base",
       "_model_module_version": "1.2.0",
       "_model_name": "LayoutModel",
       "_view_count": null,
       "_view_module": "@jupyter-widgets/base",
       "_view_module_version": "1.2.0",
       "_view_name": "LayoutView",
       "align_content": null,
       "align_items": null,
       "align_self": null,
       "border": null,
       "bottom": null,
       "display": null,
       "flex": null,
       "flex_flow": null,
       "grid_area": null,
       "grid_auto_columns": null,
       "grid_auto_flow": null,
       "grid_auto_rows": null,
       "grid_column": null,
       "grid_gap": null,
       "grid_row": null,
       "grid_template_areas": null,
       "grid_template_columns": null,
       "grid_template_rows": null,
       "height": null,
       "justify_content": null,
       "justify_items": null,
       "left": null,
       "margin": null,
       "max_height": null,
       "max_width": null,
       "min_height": null,
       "min_width": null,
       "object_fit": null,
       "object_position": null,
       "order": null,
       "overflow": null,
       "overflow_x": null,
       "overflow_y": null,
       "padding": null,
       "right": null,
       "top": null,
       "visibility": null,
       "width": null
      }
     },
     "69c3de9b8aae4173b357b076899d724c": {
      "model_module": "@jupyter-widgets/controls",
      "model_module_version": "1.5.0",
      "model_name": "HTMLModel",
      "state": {
       "_dom_classes": [],
       "_model_module": "@jupyter-widgets/controls",
       "_model_module_version": "1.5.0",
       "_model_name": "HTMLModel",
       "_view_count": null,
       "_view_module": "@jupyter-widgets/controls",
       "_view_module_version": "1.5.0",
       "_view_name": "HTMLView",
       "description": "",
       "description_tooltip": null,
       "layout": "IPY_MODEL_2f445bd0bb37438abbd4d735c7cc63f5",
       "placeholder": "​",
       "style": "IPY_MODEL_f877fc95468f43f1b618c5ee2338f171",
       "value": " 1/1 [00:19&lt;00:00, 19.88s/it]"
      }
     },
     "741975280423433fa4305fdd3521de2c": {
      "model_module": "@jupyter-widgets/base",
      "model_module_version": "1.2.0",
      "model_name": "LayoutModel",
      "state": {
       "_model_module": "@jupyter-widgets/base",
       "_model_module_version": "1.2.0",
       "_model_name": "LayoutModel",
       "_view_count": null,
       "_view_module": "@jupyter-widgets/base",
       "_view_module_version": "1.2.0",
       "_view_name": "LayoutView",
       "align_content": null,
       "align_items": null,
       "align_self": null,
       "border": null,
       "bottom": null,
       "display": null,
       "flex": null,
       "flex_flow": null,
       "grid_area": null,
       "grid_auto_columns": null,
       "grid_auto_flow": null,
       "grid_auto_rows": null,
       "grid_column": null,
       "grid_gap": null,
       "grid_row": null,
       "grid_template_areas": null,
       "grid_template_columns": null,
       "grid_template_rows": null,
       "height": null,
       "justify_content": null,
       "justify_items": null,
       "left": null,
       "margin": null,
       "max_height": null,
       "max_width": null,
       "min_height": null,
       "min_width": null,
       "object_fit": null,
       "object_position": null,
       "order": null,
       "overflow": null,
       "overflow_x": null,
       "overflow_y": null,
       "padding": null,
       "right": null,
       "top": null,
       "visibility": null,
       "width": null
      }
     },
     "87f1d82dee40436ea3c534e050eeb645": {
      "model_module": "@jupyter-widgets/controls",
      "model_module_version": "1.5.0",
      "model_name": "DescriptionStyleModel",
      "state": {
       "_model_module": "@jupyter-widgets/controls",
       "_model_module_version": "1.5.0",
       "_model_name": "DescriptionStyleModel",
       "_view_count": null,
       "_view_module": "@jupyter-widgets/base",
       "_view_module_version": "1.2.0",
       "_view_name": "StyleView",
       "description_width": ""
      }
     },
     "8a5f82501f3047b8b6acf3c09e9bf414": {
      "model_module": "@jupyter-widgets/controls",
      "model_module_version": "1.5.0",
      "model_name": "HTMLModel",
      "state": {
       "_dom_classes": [],
       "_model_module": "@jupyter-widgets/controls",
       "_model_module_version": "1.5.0",
       "_model_name": "HTMLModel",
       "_view_count": null,
       "_view_module": "@jupyter-widgets/controls",
       "_view_module_version": "1.5.0",
       "_view_name": "HTMLView",
       "description": "",
       "description_tooltip": null,
       "layout": "IPY_MODEL_9ce74b761cd841f3ad9faf6ae7d8aa9b",
       "placeholder": "​",
       "style": "IPY_MODEL_87f1d82dee40436ea3c534e050eeb645",
       "value": " 1/1 [00:08&lt;00:00,  8.65s/it]"
      }
     },
     "8d0affd4f4c0499a9ed7feb434a1e4bd": {
      "model_module": "@jupyter-widgets/controls",
      "model_module_version": "1.5.0",
      "model_name": "DescriptionStyleModel",
      "state": {
       "_model_module": "@jupyter-widgets/controls",
       "_model_module_version": "1.5.0",
       "_model_name": "DescriptionStyleModel",
       "_view_count": null,
       "_view_module": "@jupyter-widgets/base",
       "_view_module_version": "1.2.0",
       "_view_name": "StyleView",
       "description_width": ""
      }
     },
     "8e7ccba4a94a44dcaca63940718b2134": {
      "model_module": "@jupyter-widgets/controls",
      "model_module_version": "1.5.0",
      "model_name": "HTMLModel",
      "state": {
       "_dom_classes": [],
       "_model_module": "@jupyter-widgets/controls",
       "_model_module_version": "1.5.0",
       "_model_name": "HTMLModel",
       "_view_count": null,
       "_view_module": "@jupyter-widgets/controls",
       "_view_module_version": "1.5.0",
       "_view_name": "HTMLView",
       "description": "",
       "description_tooltip": null,
       "layout": "IPY_MODEL_a6e2fd44bbb64006a08fe3ff06ac638a",
       "placeholder": "​",
       "style": "IPY_MODEL_8d0affd4f4c0499a9ed7feb434a1e4bd",
       "value": "Extracting data files: 100%"
      }
     },
     "8ed3278d95ef45fbbb945dc903dd20d6": {
      "model_module": "@jupyter-widgets/controls",
      "model_module_version": "1.5.0",
      "model_name": "ProgressStyleModel",
      "state": {
       "_model_module": "@jupyter-widgets/controls",
       "_model_module_version": "1.5.0",
       "_model_name": "ProgressStyleModel",
       "_view_count": null,
       "_view_module": "@jupyter-widgets/base",
       "_view_module_version": "1.2.0",
       "_view_name": "StyleView",
       "bar_color": null,
       "description_width": ""
      }
     },
     "99f2eef498c64a08b3fb60bcedd948ac": {
      "model_module": "@jupyter-widgets/controls",
      "model_module_version": "1.5.0",
      "model_name": "FloatProgressModel",
      "state": {
       "_dom_classes": [],
       "_model_module": "@jupyter-widgets/controls",
       "_model_module_version": "1.5.0",
       "_model_name": "FloatProgressModel",
       "_view_count": null,
       "_view_module": "@jupyter-widgets/controls",
       "_view_module_version": "1.5.0",
       "_view_name": "ProgressView",
       "bar_style": "success",
       "description": "",
       "description_tooltip": null,
       "layout": "IPY_MODEL_741975280423433fa4305fdd3521de2c",
       "max": 371832225.0,
       "min": 0.0,
       "orientation": "horizontal",
       "style": "IPY_MODEL_8ed3278d95ef45fbbb945dc903dd20d6",
       "value": 371832225.0
      }
     },
     "9ce74b761cd841f3ad9faf6ae7d8aa9b": {
      "model_module": "@jupyter-widgets/base",
      "model_module_version": "1.2.0",
      "model_name": "LayoutModel",
      "state": {
       "_model_module": "@jupyter-widgets/base",
       "_model_module_version": "1.2.0",
       "_model_name": "LayoutModel",
       "_view_count": null,
       "_view_module": "@jupyter-widgets/base",
       "_view_module_version": "1.2.0",
       "_view_name": "LayoutView",
       "align_content": null,
       "align_items": null,
       "align_self": null,
       "border": null,
       "bottom": null,
       "display": null,
       "flex": null,
       "flex_flow": null,
       "grid_area": null,
       "grid_auto_columns": null,
       "grid_auto_flow": null,
       "grid_auto_rows": null,
       "grid_column": null,
       "grid_gap": null,
       "grid_row": null,
       "grid_template_areas": null,
       "grid_template_columns": null,
       "grid_template_rows": null,
       "height": null,
       "justify_content": null,
       "justify_items": null,
       "left": null,
       "margin": null,
       "max_height": null,
       "max_width": null,
       "min_height": null,
       "min_width": null,
       "object_fit": null,
       "object_position": null,
       "order": null,
       "overflow": null,
       "overflow_x": null,
       "overflow_y": null,
       "padding": null,
       "right": null,
       "top": null,
       "visibility": null,
       "width": null
      }
     },
     "9cfc0d5884e141ee84287175e6f4f2fe": {
      "model_module": "@jupyter-widgets/controls",
      "model_module_version": "1.5.0",
      "model_name": "FloatProgressModel",
      "state": {
       "_dom_classes": [],
       "_model_module": "@jupyter-widgets/controls",
       "_model_module_version": "1.5.0",
       "_model_name": "FloatProgressModel",
       "_view_count": null,
       "_view_module": "@jupyter-widgets/controls",
       "_view_module_version": "1.5.0",
       "_view_name": "ProgressView",
       "bar_style": "success",
       "description": "",
       "description_tooltip": null,
       "layout": "IPY_MODEL_01675f303a154b8d8f05dab855d4cef8",
       "max": 1.0,
       "min": 0.0,
       "orientation": "horizontal",
       "style": "IPY_MODEL_fbdca3362d3e44e5b8a1fcdcfba48d36",
       "value": 1.0
      }
     },
     "9f0a69c79986451fbe347888ee5063ee": {
      "model_module": "@jupyter-widgets/controls",
      "model_module_version": "1.5.0",
      "model_name": "HBoxModel",
      "state": {
       "_dom_classes": [],
       "_model_module": "@jupyter-widgets/controls",
       "_model_module_version": "1.5.0",
       "_model_name": "HBoxModel",
       "_view_count": null,
       "_view_module": "@jupyter-widgets/controls",
       "_view_module_version": "1.5.0",
       "_view_name": "HBoxView",
       "box_style": "",
       "children": [
        "IPY_MODEL_eb146d58eea24feabd8f5b11a5870f8a",
        "IPY_MODEL_99f2eef498c64a08b3fb60bcedd948ac",
        "IPY_MODEL_fc4e8f23302b46c1b412b7d94259a3ae"
       ],
       "layout": "IPY_MODEL_dea557f16740426d966f891b257a0c10"
      }
     },
     "a6e2fd44bbb64006a08fe3ff06ac638a": {
      "model_module": "@jupyter-widgets/base",
      "model_module_version": "1.2.0",
      "model_name": "LayoutModel",
      "state": {
       "_model_module": "@jupyter-widgets/base",
       "_model_module_version": "1.2.0",
       "_model_name": "LayoutModel",
       "_view_count": null,
       "_view_module": "@jupyter-widgets/base",
       "_view_module_version": "1.2.0",
       "_view_name": "LayoutView",
       "align_content": null,
       "align_items": null,
       "align_self": null,
       "border": null,
       "bottom": null,
       "display": null,
       "flex": null,
       "flex_flow": null,
       "grid_area": null,
       "grid_auto_columns": null,
       "grid_auto_flow": null,
       "grid_auto_rows": null,
       "grid_column": null,
       "grid_gap": null,
       "grid_row": null,
       "grid_template_areas": null,
       "grid_template_columns": null,
       "grid_template_rows": null,
       "height": null,
       "justify_content": null,
       "justify_items": null,
       "left": null,
       "margin": null,
       "max_height": null,
       "max_width": null,
       "min_height": null,
       "min_width": null,
       "object_fit": null,
       "object_position": null,
       "order": null,
       "overflow": null,
       "overflow_x": null,
       "overflow_y": null,
       "padding": null,
       "right": null,
       "top": null,
       "visibility": null,
       "width": null
      }
     },
     "a8b7a2668e9440bc952eefaf5d75773f": {
      "model_module": "@jupyter-widgets/controls",
      "model_module_version": "1.5.0",
      "model_name": "DescriptionStyleModel",
      "state": {
       "_model_module": "@jupyter-widgets/controls",
       "_model_module_version": "1.5.0",
       "_model_name": "DescriptionStyleModel",
       "_view_count": null,
       "_view_module": "@jupyter-widgets/base",
       "_view_module_version": "1.2.0",
       "_view_name": "StyleView",
       "description_width": ""
      }
     },
     "d605e65432654fcbaabeaa4ed6e000ea": {
      "model_module": "@jupyter-widgets/base",
      "model_module_version": "1.2.0",
      "model_name": "LayoutModel",
      "state": {
       "_model_module": "@jupyter-widgets/base",
       "_model_module_version": "1.2.0",
       "_model_name": "LayoutModel",
       "_view_count": null,
       "_view_module": "@jupyter-widgets/base",
       "_view_module_version": "1.2.0",
       "_view_name": "LayoutView",
       "align_content": null,
       "align_items": null,
       "align_self": null,
       "border": null,
       "bottom": null,
       "display": null,
       "flex": null,
       "flex_flow": null,
       "grid_area": null,
       "grid_auto_columns": null,
       "grid_auto_flow": null,
       "grid_auto_rows": null,
       "grid_column": null,
       "grid_gap": null,
       "grid_row": null,
       "grid_template_areas": null,
       "grid_template_columns": null,
       "grid_template_rows": null,
       "height": null,
       "justify_content": null,
       "justify_items": null,
       "left": null,
       "margin": null,
       "max_height": null,
       "max_width": null,
       "min_height": null,
       "min_width": null,
       "object_fit": null,
       "object_position": null,
       "order": null,
       "overflow": null,
       "overflow_x": null,
       "overflow_y": null,
       "padding": null,
       "right": null,
       "top": null,
       "visibility": null,
       "width": null
      }
     },
     "d99cbaaae9364146830327beac56318d": {
      "model_module": "@jupyter-widgets/base",
      "model_module_version": "1.2.0",
      "model_name": "LayoutModel",
      "state": {
       "_model_module": "@jupyter-widgets/base",
       "_model_module_version": "1.2.0",
       "_model_name": "LayoutModel",
       "_view_count": null,
       "_view_module": "@jupyter-widgets/base",
       "_view_module_version": "1.2.0",
       "_view_name": "LayoutView",
       "align_content": null,
       "align_items": null,
       "align_self": null,
       "border": null,
       "bottom": null,
       "display": null,
       "flex": null,
       "flex_flow": null,
       "grid_area": null,
       "grid_auto_columns": null,
       "grid_auto_flow": null,
       "grid_auto_rows": null,
       "grid_column": null,
       "grid_gap": null,
       "grid_row": null,
       "grid_template_areas": null,
       "grid_template_columns": null,
       "grid_template_rows": null,
       "height": null,
       "justify_content": null,
       "justify_items": null,
       "left": null,
       "margin": null,
       "max_height": null,
       "max_width": null,
       "min_height": null,
       "min_width": null,
       "object_fit": null,
       "object_position": null,
       "order": null,
       "overflow": null,
       "overflow_x": null,
       "overflow_y": null,
       "padding": null,
       "right": null,
       "top": null,
       "visibility": null,
       "width": null
      }
     },
     "dc386e32d037446fbfc9d7d627b7ae47": {
      "model_module": "@jupyter-widgets/base",
      "model_module_version": "1.2.0",
      "model_name": "LayoutModel",
      "state": {
       "_model_module": "@jupyter-widgets/base",
       "_model_module_version": "1.2.0",
       "_model_name": "LayoutModel",
       "_view_count": null,
       "_view_module": "@jupyter-widgets/base",
       "_view_module_version": "1.2.0",
       "_view_name": "LayoutView",
       "align_content": null,
       "align_items": null,
       "align_self": null,
       "border": null,
       "bottom": null,
       "display": null,
       "flex": null,
       "flex_flow": null,
       "grid_area": null,
       "grid_auto_columns": null,
       "grid_auto_flow": null,
       "grid_auto_rows": null,
       "grid_column": null,
       "grid_gap": null,
       "grid_row": null,
       "grid_template_areas": null,
       "grid_template_columns": null,
       "grid_template_rows": null,
       "height": null,
       "justify_content": null,
       "justify_items": null,
       "left": null,
       "margin": null,
       "max_height": null,
       "max_width": null,
       "min_height": null,
       "min_width": null,
       "object_fit": null,
       "object_position": null,
       "order": null,
       "overflow": null,
       "overflow_x": null,
       "overflow_y": null,
       "padding": null,
       "right": null,
       "top": null,
       "visibility": null,
       "width": null
      }
     },
     "ddee6b8ea9634947ae9874a1451dcbcb": {
      "model_module": "@jupyter-widgets/base",
      "model_module_version": "1.2.0",
      "model_name": "LayoutModel",
      "state": {
       "_model_module": "@jupyter-widgets/base",
       "_model_module_version": "1.2.0",
       "_model_name": "LayoutModel",
       "_view_count": null,
       "_view_module": "@jupyter-widgets/base",
       "_view_module_version": "1.2.0",
       "_view_name": "LayoutView",
       "align_content": null,
       "align_items": null,
       "align_self": null,
       "border": null,
       "bottom": null,
       "display": null,
       "flex": null,
       "flex_flow": null,
       "grid_area": null,
       "grid_auto_columns": null,
       "grid_auto_flow": null,
       "grid_auto_rows": null,
       "grid_column": null,
       "grid_gap": null,
       "grid_row": null,
       "grid_template_areas": null,
       "grid_template_columns": null,
       "grid_template_rows": null,
       "height": null,
       "justify_content": null,
       "justify_items": null,
       "left": null,
       "margin": null,
       "max_height": null,
       "max_width": null,
       "min_height": null,
       "min_width": null,
       "object_fit": null,
       "object_position": null,
       "order": null,
       "overflow": null,
       "overflow_x": null,
       "overflow_y": null,
       "padding": null,
       "right": null,
       "top": null,
       "visibility": null,
       "width": null
      }
     },
     "dea557f16740426d966f891b257a0c10": {
      "model_module": "@jupyter-widgets/base",
      "model_module_version": "1.2.0",
      "model_name": "LayoutModel",
      "state": {
       "_model_module": "@jupyter-widgets/base",
       "_model_module_version": "1.2.0",
       "_model_name": "LayoutModel",
       "_view_count": null,
       "_view_module": "@jupyter-widgets/base",
       "_view_module_version": "1.2.0",
       "_view_name": "LayoutView",
       "align_content": null,
       "align_items": null,
       "align_self": null,
       "border": null,
       "bottom": null,
       "display": null,
       "flex": null,
       "flex_flow": null,
       "grid_area": null,
       "grid_auto_columns": null,
       "grid_auto_flow": null,
       "grid_auto_rows": null,
       "grid_column": null,
       "grid_gap": null,
       "grid_row": null,
       "grid_template_areas": null,
       "grid_template_columns": null,
       "grid_template_rows": null,
       "height": null,
       "justify_content": null,
       "justify_items": null,
       "left": null,
       "margin": null,
       "max_height": null,
       "max_width": null,
       "min_height": null,
       "min_width": null,
       "object_fit": null,
       "object_position": null,
       "order": null,
       "overflow": null,
       "overflow_x": null,
       "overflow_y": null,
       "padding": null,
       "right": null,
       "top": null,
       "visibility": null,
       "width": null
      }
     },
     "e9e2a0b252f74fac9da2746db775e64e": {
      "model_module": "@jupyter-widgets/controls",
      "model_module_version": "1.5.0",
      "model_name": "FloatProgressModel",
      "state": {
       "_dom_classes": [],
       "_model_module": "@jupyter-widgets/controls",
       "_model_module_version": "1.5.0",
       "_model_name": "FloatProgressModel",
       "_view_count": null,
       "_view_module": "@jupyter-widgets/controls",
       "_view_module_version": "1.5.0",
       "_view_name": "ProgressView",
       "bar_style": "success",
       "description": "",
       "description_tooltip": null,
       "layout": "IPY_MODEL_dc386e32d037446fbfc9d7d627b7ae47",
       "max": 1.0,
       "min": 0.0,
       "orientation": "horizontal",
       "style": "IPY_MODEL_4564f4dbd7bd4db0b0ca996f4a61dae3",
       "value": 1.0
      }
     },
     "eb146d58eea24feabd8f5b11a5870f8a": {
      "model_module": "@jupyter-widgets/controls",
      "model_module_version": "1.5.0",
      "model_name": "HTMLModel",
      "state": {
       "_dom_classes": [],
       "_model_module": "@jupyter-widgets/controls",
       "_model_module_version": "1.5.0",
       "_model_name": "HTMLModel",
       "_view_count": null,
       "_view_module": "@jupyter-widgets/controls",
       "_view_module_version": "1.5.0",
       "_view_name": "HTMLView",
       "description": "",
       "description_tooltip": null,
       "layout": "IPY_MODEL_5bfaf137236a468a90db358f62984345",
       "placeholder": "​",
       "style": "IPY_MODEL_a8b7a2668e9440bc952eefaf5d75773f",
       "value": "Downloading data: 100%"
      }
     },
     "f877fc95468f43f1b618c5ee2338f171": {
      "model_module": "@jupyter-widgets/controls",
      "model_module_version": "1.5.0",
      "model_name": "DescriptionStyleModel",
      "state": {
       "_model_module": "@jupyter-widgets/controls",
       "_model_module_version": "1.5.0",
       "_model_name": "DescriptionStyleModel",
       "_view_count": null,
       "_view_module": "@jupyter-widgets/base",
       "_view_module_version": "1.2.0",
       "_view_name": "StyleView",
       "description_width": ""
      }
     },
     "f8f718a48af947feb87eba804bbd70cc": {
      "model_module": "@jupyter-widgets/controls",
      "model_module_version": "1.5.0",
      "model_name": "DescriptionStyleModel",
      "state": {
       "_model_module": "@jupyter-widgets/controls",
       "_model_module_version": "1.5.0",
       "_model_name": "DescriptionStyleModel",
       "_view_count": null,
       "_view_module": "@jupyter-widgets/base",
       "_view_module_version": "1.2.0",
       "_view_name": "StyleView",
       "description_width": ""
      }
     },
     "fbdca3362d3e44e5b8a1fcdcfba48d36": {
      "model_module": "@jupyter-widgets/controls",
      "model_module_version": "1.5.0",
      "model_name": "ProgressStyleModel",
      "state": {
       "_model_module": "@jupyter-widgets/controls",
       "_model_module_version": "1.5.0",
       "_model_name": "ProgressStyleModel",
       "_view_count": null,
       "_view_module": "@jupyter-widgets/base",
       "_view_module_version": "1.2.0",
       "_view_name": "StyleView",
       "bar_color": null,
       "description_width": ""
      }
     },
     "fc4e8f23302b46c1b412b7d94259a3ae": {
      "model_module": "@jupyter-widgets/controls",
      "model_module_version": "1.5.0",
      "model_name": "HTMLModel",
      "state": {
       "_dom_classes": [],
       "_model_module": "@jupyter-widgets/controls",
       "_model_module_version": "1.5.0",
       "_model_name": "HTMLModel",
       "_view_count": null,
       "_view_module": "@jupyter-widgets/controls",
       "_view_module_version": "1.5.0",
       "_view_name": "HTMLView",
       "description": "",
       "description_tooltip": null,
       "layout": "IPY_MODEL_d605e65432654fcbaabeaa4ed6e000ea",
       "placeholder": "​",
       "style": "IPY_MODEL_f8f718a48af947feb87eba804bbd70cc",
       "value": " 372M/372M [00:17&lt;00:00, 22.6MB/s]"
      }
     }
    },
    "version_major": 2,
    "version_minor": 0
   }
  }
 },
 "nbformat": 4,
 "nbformat_minor": 5
}

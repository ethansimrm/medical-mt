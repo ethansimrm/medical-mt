{
 "cells": [
  {
   "cell_type": "code",
   "execution_count": 1,
   "id": "35263d22",
   "metadata": {
    "_cell_guid": "b1076dfc-b9ad-4769-8c92-a6c4dae69d19",
    "_uuid": "8f2839f25d086af736a60e9eeb907d3b93b6e0e5",
    "execution": {
     "iopub.execute_input": "2023-06-20T20:19:33.664859Z",
     "iopub.status.busy": "2023-06-20T20:19:33.663799Z",
     "iopub.status.idle": "2023-06-20T20:19:49.120966Z",
     "shell.execute_reply": "2023-06-20T20:19:49.119255Z"
    },
    "papermill": {
     "duration": 15.470428,
     "end_time": "2023-06-20T20:19:49.124852",
     "exception": false,
     "start_time": "2023-06-20T20:19:33.654424",
     "status": "completed"
    },
    "tags": []
   },
   "outputs": [
    {
     "name": "stdout",
     "output_type": "stream",
     "text": [
      "Requirement already satisfied: datasets in /opt/conda/lib/python3.10/site-packages (2.1.0)\r\n",
      "Requirement already satisfied: numpy>=1.17 in /opt/conda/lib/python3.10/site-packages (from datasets) (1.23.5)\r\n",
      "Requirement already satisfied: pyarrow>=5.0.0 in /opt/conda/lib/python3.10/site-packages (from datasets) (9.0.0)\r\n",
      "Requirement already satisfied: dill in /opt/conda/lib/python3.10/site-packages (from datasets) (0.3.6)\r\n",
      "Requirement already satisfied: pandas in /opt/conda/lib/python3.10/site-packages (from datasets) (1.5.3)\r\n",
      "Requirement already satisfied: requests>=2.19.0 in /opt/conda/lib/python3.10/site-packages (from datasets) (2.28.2)\r\n",
      "Requirement already satisfied: tqdm>=4.62.1 in /opt/conda/lib/python3.10/site-packages (from datasets) (4.64.1)\r\n",
      "Requirement already satisfied: xxhash in /opt/conda/lib/python3.10/site-packages (from datasets) (3.2.0)\r\n",
      "Requirement already satisfied: multiprocess in /opt/conda/lib/python3.10/site-packages (from datasets) (0.70.14)\r\n",
      "Requirement already satisfied: fsspec[http]>=2021.05.0 in /opt/conda/lib/python3.10/site-packages (from datasets) (2023.6.0)\r\n",
      "Requirement already satisfied: aiohttp in /opt/conda/lib/python3.10/site-packages (from datasets) (3.8.4)\r\n",
      "Requirement already satisfied: huggingface-hub<1.0.0,>=0.1.0 in /opt/conda/lib/python3.10/site-packages (from datasets) (0.15.1)\r\n",
      "Requirement already satisfied: packaging in /opt/conda/lib/python3.10/site-packages (from datasets) (21.3)\r\n",
      "Requirement already satisfied: responses<0.19 in /opt/conda/lib/python3.10/site-packages (from datasets) (0.18.0)\r\n",
      "Requirement already satisfied: attrs>=17.3.0 in /opt/conda/lib/python3.10/site-packages (from aiohttp->datasets) (23.1.0)\r\n",
      "Requirement already satisfied: charset-normalizer<4.0,>=2.0 in /opt/conda/lib/python3.10/site-packages (from aiohttp->datasets) (2.1.1)\r\n",
      "Requirement already satisfied: multidict<7.0,>=4.5 in /opt/conda/lib/python3.10/site-packages (from aiohttp->datasets) (6.0.4)\r\n",
      "Requirement already satisfied: async-timeout<5.0,>=4.0.0a3 in /opt/conda/lib/python3.10/site-packages (from aiohttp->datasets) (4.0.2)\r\n",
      "Requirement already satisfied: yarl<2.0,>=1.0 in /opt/conda/lib/python3.10/site-packages (from aiohttp->datasets) (1.9.1)\r\n",
      "Requirement already satisfied: frozenlist>=1.1.1 in /opt/conda/lib/python3.10/site-packages (from aiohttp->datasets) (1.3.3)\r\n",
      "Requirement already satisfied: aiosignal>=1.1.2 in /opt/conda/lib/python3.10/site-packages (from aiohttp->datasets) (1.3.1)\r\n",
      "Requirement already satisfied: filelock in /opt/conda/lib/python3.10/site-packages (from huggingface-hub<1.0.0,>=0.1.0->datasets) (3.12.0)\r\n",
      "Requirement already satisfied: pyyaml>=5.1 in /opt/conda/lib/python3.10/site-packages (from huggingface-hub<1.0.0,>=0.1.0->datasets) (5.4.1)\r\n",
      "Requirement already satisfied: typing-extensions>=3.7.4.3 in /opt/conda/lib/python3.10/site-packages (from huggingface-hub<1.0.0,>=0.1.0->datasets) (4.5.0)\r\n",
      "Requirement already satisfied: pyparsing!=3.0.5,>=2.0.2 in /opt/conda/lib/python3.10/site-packages (from packaging->datasets) (3.0.9)\r\n",
      "Requirement already satisfied: idna<4,>=2.5 in /opt/conda/lib/python3.10/site-packages (from requests>=2.19.0->datasets) (3.4)\r\n",
      "Requirement already satisfied: urllib3<1.27,>=1.21.1 in /opt/conda/lib/python3.10/site-packages (from requests>=2.19.0->datasets) (1.26.15)\r\n",
      "Requirement already satisfied: certifi>=2017.4.17 in /opt/conda/lib/python3.10/site-packages (from requests>=2.19.0->datasets) (2023.5.7)\r\n",
      "Requirement already satisfied: python-dateutil>=2.8.1 in /opt/conda/lib/python3.10/site-packages (from pandas->datasets) (2.8.2)\r\n",
      "Requirement already satisfied: pytz>=2020.1 in /opt/conda/lib/python3.10/site-packages (from pandas->datasets) (2023.3)\r\n",
      "Requirement already satisfied: six>=1.5 in /opt/conda/lib/python3.10/site-packages (from python-dateutil>=2.8.1->pandas->datasets) (1.16.0)\r\n",
      "\u001b[33mWARNING: Running pip as the 'root' user can result in broken permissions and conflicting behaviour with the system package manager. It is recommended to use a virtual environment instead: https://pip.pypa.io/warnings/venv\u001b[0m\u001b[33m\r\n",
      "\u001b[0m"
     ]
    }
   ],
   "source": [
    "!pip install datasets"
   ]
  },
  {
   "cell_type": "code",
   "execution_count": 2,
   "id": "d442c77c",
   "metadata": {
    "execution": {
     "iopub.execute_input": "2023-06-20T20:19:49.142293Z",
     "iopub.status.busy": "2023-06-20T20:19:49.141763Z",
     "iopub.status.idle": "2023-06-20T20:19:53.317274Z",
     "shell.execute_reply": "2023-06-20T20:19:53.315927Z"
    },
    "papermill": {
     "duration": 4.187955,
     "end_time": "2023-06-20T20:19:53.320342",
     "exception": false,
     "start_time": "2023-06-20T20:19:49.132387",
     "status": "completed"
    },
    "tags": []
   },
   "outputs": [
    {
     "name": "stdout",
     "output_type": "stream",
     "text": [
      "Token will not been saved to git credential helper. Pass `add_to_git_credential=True` if you want to set the git credential as well.\n",
      "Token is valid (permission: write).\n",
      "Your token has been saved to /root/.cache/huggingface/token\n",
      "Login successful\n"
     ]
    },
    {
     "name": "stderr",
     "output_type": "stream",
     "text": [
      "\u001b[34m\u001b[1mwandb\u001b[0m: W&B API key is configured. Use \u001b[1m`wandb login --relogin`\u001b[0m to force relogin\n",
      "\u001b[34m\u001b[1mwandb\u001b[0m: \u001b[33mWARNING\u001b[0m If you're specifying your api key in code, ensure this code is not shared publicly.\n",
      "\u001b[34m\u001b[1mwandb\u001b[0m: \u001b[33mWARNING\u001b[0m Consider setting the WANDB_API_KEY environment variable, or running `wandb login` from the command line.\n",
      "\u001b[34m\u001b[1mwandb\u001b[0m: Appending key for api.wandb.ai to your netrc file: /root/.netrc\n"
     ]
    },
    {
     "data": {
      "text/plain": [
       "True"
      ]
     },
     "execution_count": 2,
     "metadata": {},
     "output_type": "execute_result"
    }
   ],
   "source": [
    "from huggingface_hub import login\n",
    "from kaggle_secrets import UserSecretsClient\n",
    "import wandb\n",
    "user_secrets = UserSecretsClient()\n",
    "secret_value = user_secrets.get_secret(\"HF_KEY\")\n",
    "login(secret_value)\n",
    "secret_value1 = user_secrets.get_secret(\"WANDB_KEY\")\n",
    "wandb.login(key=secret_value1)"
   ]
  },
  {
   "cell_type": "code",
   "execution_count": 3,
   "id": "c865b83f",
   "metadata": {
    "execution": {
     "iopub.execute_input": "2023-06-20T20:19:53.338902Z",
     "iopub.status.busy": "2023-06-20T20:19:53.338424Z",
     "iopub.status.idle": "2023-06-20T20:20:40.639629Z",
     "shell.execute_reply": "2023-06-20T20:20:40.637038Z"
    },
    "papermill": {
     "duration": 47.321505,
     "end_time": "2023-06-20T20:20:40.650017",
     "exception": false,
     "start_time": "2023-06-20T20:19:53.328512",
     "status": "completed"
    },
    "tags": []
   },
   "outputs": [
    {
     "name": "stdout",
     "output_type": "stream",
     "text": [
      "Downloading and preparing dataset text/ethansimrm--patTR_biomed_raw to /root/.cache/huggingface/datasets/text/ethansimrm--patTR_biomed_raw-f054c0046b36a4dc/0.0.0/4b86d314f7236db91f0a0f5cda32d4375445e64c5eda2692655dd99c2dac68e8...\n"
     ]
    },
    {
     "data": {
      "application/vnd.jupyter.widget-view+json": {
       "model_id": "7f8dea121286479ba0dc3366dc54c1bf",
       "version_major": 2,
       "version_minor": 0
      },
      "text/plain": [
       "Downloading data files:   0%|          | 0/1 [00:00<?, ?it/s]"
      ]
     },
     "metadata": {},
     "output_type": "display_data"
    },
    {
     "data": {
      "application/vnd.jupyter.widget-view+json": {
       "model_id": "41fe03711f3d42a08310e72191899150",
       "version_major": 2,
       "version_minor": 0
      },
      "text/plain": [
       "Downloading data:   0%|          | 0.00/372M [00:00<?, ?B/s]"
      ]
     },
     "metadata": {},
     "output_type": "display_data"
    },
    {
     "data": {
      "application/vnd.jupyter.widget-view+json": {
       "model_id": "41e553d2772c4995b3022e91c361fe97",
       "version_major": 2,
       "version_minor": 0
      },
      "text/plain": [
       "Extracting data files:   0%|          | 0/1 [00:00<?, ?it/s]"
      ]
     },
     "metadata": {},
     "output_type": "display_data"
    },
    {
     "name": "stdout",
     "output_type": "stream",
     "text": [
      "Dataset text downloaded and prepared to /root/.cache/huggingface/datasets/text/ethansimrm--patTR_biomed_raw-f054c0046b36a4dc/0.0.0/4b86d314f7236db91f0a0f5cda32d4375445e64c5eda2692655dd99c2dac68e8. Subsequent calls will reuse this data.\n"
     ]
    }
   ],
   "source": [
    "from datasets import load_dataset\n",
    "training_data = load_dataset(\"ethansimrm/patTR_biomed_raw\", split = \"train\") "
   ]
  },
  {
   "cell_type": "code",
   "execution_count": 4,
   "id": "4631403e",
   "metadata": {
    "execution": {
     "iopub.execute_input": "2023-06-20T20:20:40.670474Z",
     "iopub.status.busy": "2023-06-20T20:20:40.669310Z",
     "iopub.status.idle": "2023-06-20T20:20:40.677462Z",
     "shell.execute_reply": "2023-06-20T20:20:40.676199Z"
    },
    "papermill": {
     "duration": 0.021505,
     "end_time": "2023-06-20T20:20:40.680197",
     "exception": false,
     "start_time": "2023-06-20T20:20:40.658692",
     "status": "completed"
    },
    "tags": []
   },
   "outputs": [],
   "source": [
    "#print(len(training_data)) #2191537 sentence pairs prior to pre-processing\n",
    "#training_data['text'][1:10] \n",
    "#This is formatted slightly differently, so let's account for that before preprocessing\n",
    "#Format is TGT [TAB] SRC [TAB] medical_corpus [TAB] PatTR_Medical"
   ]
  },
  {
   "cell_type": "code",
   "execution_count": 5,
   "id": "70766fde",
   "metadata": {
    "execution": {
     "iopub.execute_input": "2023-06-20T20:20:40.702856Z",
     "iopub.status.busy": "2023-06-20T20:20:40.701785Z",
     "iopub.status.idle": "2023-06-20T20:21:06.102840Z",
     "shell.execute_reply": "2023-06-20T20:21:06.101521Z"
    },
    "papermill": {
     "duration": 25.414401,
     "end_time": "2023-06-20T20:21:06.106053",
     "exception": false,
     "start_time": "2023-06-20T20:20:40.691652",
     "status": "completed"
    },
    "tags": []
   },
   "outputs": [],
   "source": [
    "from datasets import Dataset\n",
    "source = []\n",
    "target = []\n",
    "for example in training_data['text']:\n",
    "    example = example.strip()\n",
    "    sentences = example.split(\"\\t\")\n",
    "    source.append(sentences[1].strip()) #Sentences sometimes come with trailing spaces\n",
    "    target.append(sentences[0].strip())\n",
    "ready_data = Dataset.from_dict({\"en\":source, \"fr\":target})"
   ]
  },
  {
   "cell_type": "code",
   "execution_count": 6,
   "id": "a2a1be1f",
   "metadata": {
    "execution": {
     "iopub.execute_input": "2023-06-20T20:21:06.126885Z",
     "iopub.status.busy": "2023-06-20T20:21:06.125429Z",
     "iopub.status.idle": "2023-06-20T20:21:06.134029Z",
     "shell.execute_reply": "2023-06-20T20:21:06.133087Z"
    },
    "papermill": {
     "duration": 0.021655,
     "end_time": "2023-06-20T20:21:06.136438",
     "exception": false,
     "start_time": "2023-06-20T20:21:06.114783",
     "status": "completed"
    },
    "tags": []
   },
   "outputs": [
    {
     "data": {
      "text/plain": [
       "{'en': 'SEQUENCES INVOLVED IN THE PHENOMENA OF TUMOUR SUPPRESSION, TUMOUR REVERSION, APOPTOSIS AND/OR RESISTANCE TO VIRUSES, AND THE USE OF THE SAME AS MEDICAMENTS',\n",
       " 'fr': 'SEQUENCES IMPLIQUEES DANS LES PHENOMENES DE SUPPRESSION TUMORALE, REVERSION TUMORALE, APOPTOSE ET/OU RESISTANCE AUX VIRUS ET LEUR UTILISATION COMME MEDICAMENTS'}"
      ]
     },
     "execution_count": 6,
     "metadata": {},
     "output_type": "execute_result"
    }
   ],
   "source": [
    "#Seems alright.\n",
    "ready_data[0]"
   ]
  },
  {
   "cell_type": "code",
   "execution_count": 7,
   "id": "7ae1618b",
   "metadata": {
    "execution": {
     "iopub.execute_input": "2023-06-20T20:21:06.156606Z",
     "iopub.status.busy": "2023-06-20T20:21:06.155494Z",
     "iopub.status.idle": "2023-06-20T20:23:35.661451Z",
     "shell.execute_reply": "2023-06-20T20:23:35.660014Z"
    },
    "papermill": {
     "duration": 149.519536,
     "end_time": "2023-06-20T20:23:35.664790",
     "exception": false,
     "start_time": "2023-06-20T20:21:06.145254",
     "status": "completed"
    },
    "tags": []
   },
   "outputs": [],
   "source": [
    "import pandas as pd\n",
    "#Let's start preprocessing according to Wu et al.(2022).\n",
    "#First, remove duplicate sentences. \n",
    "#We can't do this in datasets, so we must convert it to a pandas DataFrame.\n",
    "tempDataset = pd.DataFrame(ready_data)"
   ]
  },
  {
   "cell_type": "code",
   "execution_count": 8,
   "id": "c2a17685",
   "metadata": {
    "execution": {
     "iopub.execute_input": "2023-06-20T20:23:35.684728Z",
     "iopub.status.busy": "2023-06-20T20:23:35.684271Z",
     "iopub.status.idle": "2023-06-20T20:23:35.689230Z",
     "shell.execute_reply": "2023-06-20T20:23:35.687797Z"
    },
    "papermill": {
     "duration": 0.017964,
     "end_time": "2023-06-20T20:23:35.691776",
     "exception": false,
     "start_time": "2023-06-20T20:23:35.673812",
     "status": "completed"
    },
    "tags": []
   },
   "outputs": [],
   "source": [
    "#tempDataset[tempDataset.duplicated()] \n",
    "#Wow, there are a lot of duplicate rows, 46606 in total. "
   ]
  },
  {
   "cell_type": "code",
   "execution_count": 9,
   "id": "3ee58ef7",
   "metadata": {
    "execution": {
     "iopub.execute_input": "2023-06-20T20:23:35.712267Z",
     "iopub.status.busy": "2023-06-20T20:23:35.711770Z",
     "iopub.status.idle": "2023-06-20T20:23:46.881539Z",
     "shell.execute_reply": "2023-06-20T20:23:46.880400Z"
    },
    "papermill": {
     "duration": 11.1842,
     "end_time": "2023-06-20T20:23:46.884568",
     "exception": false,
     "start_time": "2023-06-20T20:23:35.700368",
     "status": "completed"
    },
    "tags": []
   },
   "outputs": [],
   "source": [
    "tempDataset_dedup = tempDataset.drop_duplicates()"
   ]
  },
  {
   "cell_type": "code",
   "execution_count": 10,
   "id": "d83937b8",
   "metadata": {
    "execution": {
     "iopub.execute_input": "2023-06-20T20:23:46.905610Z",
     "iopub.status.busy": "2023-06-20T20:23:46.904662Z",
     "iopub.status.idle": "2023-06-20T20:23:51.066307Z",
     "shell.execute_reply": "2023-06-20T20:23:51.065286Z"
    },
    "papermill": {
     "duration": 4.175412,
     "end_time": "2023-06-20T20:23:51.069261",
     "exception": false,
     "start_time": "2023-06-20T20:23:46.893849",
     "status": "completed"
    },
    "tags": []
   },
   "outputs": [],
   "source": [
    "#Declaring helper functions separately\n",
    "import langid, string\n",
    "from tqdm import tqdm\n",
    "langid.set_languages([\"en\", \"fr\"]) #Constrain language set\n",
    "tqdm.pandas() #So I can see progress\n",
    "count = lambda l1,l2: sum([1 for x in l1 if x in l2])"
   ]
  },
  {
   "cell_type": "code",
   "execution_count": 11,
   "id": "faa5535f",
   "metadata": {
    "execution": {
     "iopub.execute_input": "2023-06-20T20:23:51.091446Z",
     "iopub.status.busy": "2023-06-20T20:23:51.089774Z",
     "iopub.status.idle": "2023-06-20T20:23:51.105763Z",
     "shell.execute_reply": "2023-06-20T20:23:51.104182Z"
    },
    "papermill": {
     "duration": 0.030622,
     "end_time": "2023-06-20T20:23:51.108906",
     "exception": false,
     "start_time": "2023-06-20T20:23:51.078284",
     "status": "completed"
    },
    "tags": []
   },
   "outputs": [
    {
     "name": "stdout",
     "output_type": "stream",
     "text": [
      "\n"
     ]
    }
   ],
   "source": [
    "#Having verified that we can convert this back into a Dataset object, we'll just \n",
    "#do everything else in a pandas DataFrame. There are seven per-sentence checks\n",
    "#we can do.\n",
    "\n",
    "def retain_sentence(row): #This defines a good sentence we wish to retain\n",
    "    word_counts = []\n",
    "    #Exclude repeats and empty source or target sentences\n",
    "    if ((row[\"en\"] == row[\"fr\"]) or (row[\"en\"] == \"\") or (row[\"fr\"] == \"\")):\n",
    "        return False\n",
    "    for sentence in (row[\"en\"], row[\"fr\"]):\n",
    "        #Exclude sentences with mismatched () or \"\"\n",
    "        if ((sentence.count(\"(\") != sentence.count(\")\")) or \n",
    "            (sentence.count('\"') % 2 != 0)):\n",
    "            return False\n",
    "        sent_length = len(sentence)\n",
    "        #Exclude sentences with punctuation percentage > 0.4\n",
    "        if (count(sentence,set(string.punctuation)) > 0.4 * sent_length):\n",
    "            return False\n",
    "        #Exclude sentences with > 150 words\n",
    "        num_words = len(sentence.split(\" \"))\n",
    "        if (num_words > 150):\n",
    "            return False\n",
    "        word_counts.append(num_words)\n",
    "        #Exclude sentences with char-to-word ratio > 12 or < 1.5\n",
    "        c2w_ratio = sent_length / num_words\n",
    "        if ((c2w_ratio > 12) or (c2w_ratio < 1.5)):\n",
    "            return False\n",
    "    #Heuristic \"alignment\" filtering\n",
    "    word_ratio = word_counts[0] / word_counts[1]\n",
    "    if((word_ratio >= 9) or (1/word_ratio >= 9)):\n",
    "        return False\n",
    "    #Expensive language-determining step\n",
    "    if ((langid.classify(row['en'])[0] != \"en\") or \n",
    "    (langid.classify(row['fr'])[0] != \"fr\")):\n",
    "        return False\n",
    "    return True\n",
    "\"\"\"\n",
    "We will skip full alignment-checking, due to infeasibility and time constraints.\n",
    "SOTA-used options such as fast-align and eflomal require a large parallel training \n",
    "corpus, which we lack. AWESOME-align cannot run, even from the command line, \n",
    "due to an issue with the multiprocessing module and pickling. We can take another\n",
    "crack at this in the future.\n",
    "\n",
    "However, we can filter out obviously bad alignments by looking at word ratio;\n",
    "we filter out word ratios greater than 9 or smaller than 1/9.\n",
    "This (heuristic) method comes from Del et al. (2021).\n",
    "\"\"\"\n",
    "print()"
   ]
  },
  {
   "cell_type": "code",
   "execution_count": 12,
   "id": "38603440",
   "metadata": {
    "execution": {
     "iopub.execute_input": "2023-06-20T20:23:51.129223Z",
     "iopub.status.busy": "2023-06-20T20:23:51.128657Z",
     "iopub.status.idle": "2023-06-20T21:01:55.741232Z",
     "shell.execute_reply": "2023-06-20T21:01:55.740037Z"
    },
    "papermill": {
     "duration": 2284.626173,
     "end_time": "2023-06-20T21:01:55.743831",
     "exception": false,
     "start_time": "2023-06-20T20:23:51.117658",
     "status": "completed"
    },
    "tags": []
   },
   "outputs": [
    {
     "name": "stderr",
     "output_type": "stream",
     "text": [
      "100%|██████████| 2144926/2144926 [38:04<00:00, 938.86it/s]\n"
     ]
    }
   ],
   "source": [
    "tempDataset_nearlyAligned = tempDataset_dedup.progress_apply(retain_sentence, axis=1)"
   ]
  },
  {
   "cell_type": "code",
   "execution_count": 13,
   "id": "5451fdf5",
   "metadata": {
    "execution": {
     "iopub.execute_input": "2023-06-20T21:02:00.030446Z",
     "iopub.status.busy": "2023-06-20T21:02:00.029351Z",
     "iopub.status.idle": "2023-06-20T21:02:00.208441Z",
     "shell.execute_reply": "2023-06-20T21:02:00.207246Z"
    },
    "papermill": {
     "duration": 2.33779,
     "end_time": "2023-06-20T21:02:00.211455",
     "exception": false,
     "start_time": "2023-06-20T21:01:57.873665",
     "status": "completed"
    },
    "tags": []
   },
   "outputs": [],
   "source": [
    "filtered_set = tempDataset_dedup[tempDataset_nearlyAligned]"
   ]
  },
  {
   "cell_type": "code",
   "execution_count": 14,
   "id": "f5af6c00",
   "metadata": {
    "execution": {
     "iopub.execute_input": "2023-06-20T21:02:04.426263Z",
     "iopub.status.busy": "2023-06-20T21:02:04.425394Z",
     "iopub.status.idle": "2023-06-20T21:02:04.591591Z",
     "shell.execute_reply": "2023-06-20T21:02:04.590489Z"
    },
    "papermill": {
     "duration": 2.274379,
     "end_time": "2023-06-20T21:02:04.594303",
     "exception": false,
     "start_time": "2023-06-20T21:02:02.319924",
     "status": "completed"
    },
    "tags": []
   },
   "outputs": [],
   "source": [
    "filtered_set = filtered_set.reset_index(drop=True)"
   ]
  },
  {
   "cell_type": "code",
   "execution_count": 15,
   "id": "524eff5f",
   "metadata": {
    "execution": {
     "iopub.execute_input": "2023-06-20T21:02:08.705352Z",
     "iopub.status.busy": "2023-06-20T21:02:08.704679Z",
     "iopub.status.idle": "2023-06-20T21:02:09.973500Z",
     "shell.execute_reply": "2023-06-20T21:02:09.972279Z"
    },
    "papermill": {
     "duration": 3.398316,
     "end_time": "2023-06-20T21:02:09.976487",
     "exception": false,
     "start_time": "2023-06-20T21:02:06.578171",
     "status": "completed"
    },
    "tags": []
   },
   "outputs": [],
   "source": [
    "filtered_set = filtered_set.sample(frac=1).reset_index(drop=True) #Shuffle to avoid overfitting "
   ]
  },
  {
   "cell_type": "code",
   "execution_count": 16,
   "id": "d3e96750",
   "metadata": {
    "execution": {
     "iopub.execute_input": "2023-06-20T21:02:14.071799Z",
     "iopub.status.busy": "2023-06-20T21:02:14.070769Z",
     "iopub.status.idle": "2023-06-20T21:02:48.426542Z",
     "shell.execute_reply": "2023-06-20T21:02:48.423404Z"
    },
    "papermill": {
     "duration": 36.361876,
     "end_time": "2023-06-20T21:02:48.433540",
     "exception": false,
     "start_time": "2023-06-20T21:02:12.071664",
     "status": "completed"
    },
    "tags": []
   },
   "outputs": [],
   "source": [
    "f = open(\"patTR_filtered.txt\", \"w\", encoding = \"utf-8\")\n",
    "source = filtered_set[\"en\"]\n",
    "target = filtered_set[\"fr\"]\n",
    "for i in range(len(filtered_set)):\n",
    "    f.write(source[i] + \"\\t\" + target[i] + \"\\n\")\n",
    "f.close()"
   ]
  }
 ],
 "metadata": {
  "kernelspec": {
   "display_name": "Python 3",
   "language": "python",
   "name": "python3"
  },
  "language_info": {
   "codemirror_mode": {
    "name": "ipython",
    "version": 3
   },
   "file_extension": ".py",
   "mimetype": "text/x-python",
   "name": "python",
   "nbconvert_exporter": "python",
   "pygments_lexer": "ipython3",
   "version": "3.10.10"
  },
  "papermill": {
   "default_parameters": {},
   "duration": 2614.223391,
   "end_time": "2023-06-20T21:02:53.498849",
   "environment_variables": {},
   "exception": null,
   "input_path": "__notebook__.ipynb",
   "output_path": "__notebook__.ipynb",
   "parameters": {},
   "start_time": "2023-06-20T20:19:19.275458",
   "version": "2.4.0"
  },
  "widgets": {
   "application/vnd.jupyter.widget-state+json": {
    "state": {
     "021e65d116114402b8fc601e131c0511": {
      "model_module": "@jupyter-widgets/base",
      "model_module_version": "1.2.0",
      "model_name": "LayoutModel",
      "state": {
       "_model_module": "@jupyter-widgets/base",
       "_model_module_version": "1.2.0",
       "_model_name": "LayoutModel",
       "_view_count": null,
       "_view_module": "@jupyter-widgets/base",
       "_view_module_version": "1.2.0",
       "_view_name": "LayoutView",
       "align_content": null,
       "align_items": null,
       "align_self": null,
       "border": null,
       "bottom": null,
       "display": null,
       "flex": null,
       "flex_flow": null,
       "grid_area": null,
       "grid_auto_columns": null,
       "grid_auto_flow": null,
       "grid_auto_rows": null,
       "grid_column": null,
       "grid_gap": null,
       "grid_row": null,
       "grid_template_areas": null,
       "grid_template_columns": null,
       "grid_template_rows": null,
       "height": null,
       "justify_content": null,
       "justify_items": null,
       "left": null,
       "margin": null,
       "max_height": null,
       "max_width": null,
       "min_height": null,
       "min_width": null,
       "object_fit": null,
       "object_position": null,
       "order": null,
       "overflow": null,
       "overflow_x": null,
       "overflow_y": null,
       "padding": null,
       "right": null,
       "top": null,
       "visibility": null,
       "width": null
      }
     },
     "0b71078e83bc4ab5b77e2256070687b1": {
      "model_module": "@jupyter-widgets/base",
      "model_module_version": "1.2.0",
      "model_name": "LayoutModel",
      "state": {
       "_model_module": "@jupyter-widgets/base",
       "_model_module_version": "1.2.0",
       "_model_name": "LayoutModel",
       "_view_count": null,
       "_view_module": "@jupyter-widgets/base",
       "_view_module_version": "1.2.0",
       "_view_name": "LayoutView",
       "align_content": null,
       "align_items": null,
       "align_self": null,
       "border": null,
       "bottom": null,
       "display": null,
       "flex": null,
       "flex_flow": null,
       "grid_area": null,
       "grid_auto_columns": null,
       "grid_auto_flow": null,
       "grid_auto_rows": null,
       "grid_column": null,
       "grid_gap": null,
       "grid_row": null,
       "grid_template_areas": null,
       "grid_template_columns": null,
       "grid_template_rows": null,
       "height": null,
       "justify_content": null,
       "justify_items": null,
       "left": null,
       "margin": null,
       "max_height": null,
       "max_width": null,
       "min_height": null,
       "min_width": null,
       "object_fit": null,
       "object_position": null,
       "order": null,
       "overflow": null,
       "overflow_x": null,
       "overflow_y": null,
       "padding": null,
       "right": null,
       "top": null,
       "visibility": null,
       "width": null
      }
     },
     "1db114f97de4419c932246ed15e50b19": {
      "model_module": "@jupyter-widgets/controls",
      "model_module_version": "1.5.0",
      "model_name": "ProgressStyleModel",
      "state": {
       "_model_module": "@jupyter-widgets/controls",
       "_model_module_version": "1.5.0",
       "_model_name": "ProgressStyleModel",
       "_view_count": null,
       "_view_module": "@jupyter-widgets/base",
       "_view_module_version": "1.2.0",
       "_view_name": "StyleView",
       "bar_color": null,
       "description_width": ""
      }
     },
     "1ee1b9b118c849bea9ea2f4994a8cf66": {
      "model_module": "@jupyter-widgets/base",
      "model_module_version": "1.2.0",
      "model_name": "LayoutModel",
      "state": {
       "_model_module": "@jupyter-widgets/base",
       "_model_module_version": "1.2.0",
       "_model_name": "LayoutModel",
       "_view_count": null,
       "_view_module": "@jupyter-widgets/base",
       "_view_module_version": "1.2.0",
       "_view_name": "LayoutView",
       "align_content": null,
       "align_items": null,
       "align_self": null,
       "border": null,
       "bottom": null,
       "display": null,
       "flex": null,
       "flex_flow": null,
       "grid_area": null,
       "grid_auto_columns": null,
       "grid_auto_flow": null,
       "grid_auto_rows": null,
       "grid_column": null,
       "grid_gap": null,
       "grid_row": null,
       "grid_template_areas": null,
       "grid_template_columns": null,
       "grid_template_rows": null,
       "height": null,
       "justify_content": null,
       "justify_items": null,
       "left": null,
       "margin": null,
       "max_height": null,
       "max_width": null,
       "min_height": null,
       "min_width": null,
       "object_fit": null,
       "object_position": null,
       "order": null,
       "overflow": null,
       "overflow_x": null,
       "overflow_y": null,
       "padding": null,
       "right": null,
       "top": null,
       "visibility": null,
       "width": null
      }
     },
     "28acb832f464442ab337d224262e5c4e": {
      "model_module": "@jupyter-widgets/base",
      "model_module_version": "1.2.0",
      "model_name": "LayoutModel",
      "state": {
       "_model_module": "@jupyter-widgets/base",
       "_model_module_version": "1.2.0",
       "_model_name": "LayoutModel",
       "_view_count": null,
       "_view_module": "@jupyter-widgets/base",
       "_view_module_version": "1.2.0",
       "_view_name": "LayoutView",
       "align_content": null,
       "align_items": null,
       "align_self": null,
       "border": null,
       "bottom": null,
       "display": null,
       "flex": null,
       "flex_flow": null,
       "grid_area": null,
       "grid_auto_columns": null,
       "grid_auto_flow": null,
       "grid_auto_rows": null,
       "grid_column": null,
       "grid_gap": null,
       "grid_row": null,
       "grid_template_areas": null,
       "grid_template_columns": null,
       "grid_template_rows": null,
       "height": null,
       "justify_content": null,
       "justify_items": null,
       "left": null,
       "margin": null,
       "max_height": null,
       "max_width": null,
       "min_height": null,
       "min_width": null,
       "object_fit": null,
       "object_position": null,
       "order": null,
       "overflow": null,
       "overflow_x": null,
       "overflow_y": null,
       "padding": null,
       "right": null,
       "top": null,
       "visibility": null,
       "width": null
      }
     },
     "38404567cc47448ca7edd723c6d07e69": {
      "model_module": "@jupyter-widgets/base",
      "model_module_version": "1.2.0",
      "model_name": "LayoutModel",
      "state": {
       "_model_module": "@jupyter-widgets/base",
       "_model_module_version": "1.2.0",
       "_model_name": "LayoutModel",
       "_view_count": null,
       "_view_module": "@jupyter-widgets/base",
       "_view_module_version": "1.2.0",
       "_view_name": "LayoutView",
       "align_content": null,
       "align_items": null,
       "align_self": null,
       "border": null,
       "bottom": null,
       "display": null,
       "flex": null,
       "flex_flow": null,
       "grid_area": null,
       "grid_auto_columns": null,
       "grid_auto_flow": null,
       "grid_auto_rows": null,
       "grid_column": null,
       "grid_gap": null,
       "grid_row": null,
       "grid_template_areas": null,
       "grid_template_columns": null,
       "grid_template_rows": null,
       "height": null,
       "justify_content": null,
       "justify_items": null,
       "left": null,
       "margin": null,
       "max_height": null,
       "max_width": null,
       "min_height": null,
       "min_width": null,
       "object_fit": null,
       "object_position": null,
       "order": null,
       "overflow": null,
       "overflow_x": null,
       "overflow_y": null,
       "padding": null,
       "right": null,
       "top": null,
       "visibility": null,
       "width": null
      }
     },
     "41df06c165974312affce2b6e26ca89e": {
      "model_module": "@jupyter-widgets/controls",
      "model_module_version": "1.5.0",
      "model_name": "ProgressStyleModel",
      "state": {
       "_model_module": "@jupyter-widgets/controls",
       "_model_module_version": "1.5.0",
       "_model_name": "ProgressStyleModel",
       "_view_count": null,
       "_view_module": "@jupyter-widgets/base",
       "_view_module_version": "1.2.0",
       "_view_name": "StyleView",
       "bar_color": null,
       "description_width": ""
      }
     },
     "41e553d2772c4995b3022e91c361fe97": {
      "model_module": "@jupyter-widgets/controls",
      "model_module_version": "1.5.0",
      "model_name": "HBoxModel",
      "state": {
       "_dom_classes": [],
       "_model_module": "@jupyter-widgets/controls",
       "_model_module_version": "1.5.0",
       "_model_name": "HBoxModel",
       "_view_count": null,
       "_view_module": "@jupyter-widgets/controls",
       "_view_module_version": "1.5.0",
       "_view_name": "HBoxView",
       "box_style": "",
       "children": [
        "IPY_MODEL_86b9360642dc4061a6ccf93d62c00951",
        "IPY_MODEL_e0fa9d267301498e95b4697f59d6154c",
        "IPY_MODEL_c4626c8121d14d928d19e904ba71e5da"
       ],
       "layout": "IPY_MODEL_1ee1b9b118c849bea9ea2f4994a8cf66"
      }
     },
     "41fe03711f3d42a08310e72191899150": {
      "model_module": "@jupyter-widgets/controls",
      "model_module_version": "1.5.0",
      "model_name": "HBoxModel",
      "state": {
       "_dom_classes": [],
       "_model_module": "@jupyter-widgets/controls",
       "_model_module_version": "1.5.0",
       "_model_name": "HBoxModel",
       "_view_count": null,
       "_view_module": "@jupyter-widgets/controls",
       "_view_module_version": "1.5.0",
       "_view_name": "HBoxView",
       "box_style": "",
       "children": [
        "IPY_MODEL_ca57fe2feccb443bac84f0c696fb0c11",
        "IPY_MODEL_7149e39c2f59404fa6920d015e787c55",
        "IPY_MODEL_4b39db0ceb3b4310a603d96e7d41e1c0"
       ],
       "layout": "IPY_MODEL_021e65d116114402b8fc601e131c0511"
      }
     },
     "46e6f32329bb46de9bb709320bffdc9d": {
      "model_module": "@jupyter-widgets/base",
      "model_module_version": "1.2.0",
      "model_name": "LayoutModel",
      "state": {
       "_model_module": "@jupyter-widgets/base",
       "_model_module_version": "1.2.0",
       "_model_name": "LayoutModel",
       "_view_count": null,
       "_view_module": "@jupyter-widgets/base",
       "_view_module_version": "1.2.0",
       "_view_name": "LayoutView",
       "align_content": null,
       "align_items": null,
       "align_self": null,
       "border": null,
       "bottom": null,
       "display": null,
       "flex": null,
       "flex_flow": null,
       "grid_area": null,
       "grid_auto_columns": null,
       "grid_auto_flow": null,
       "grid_auto_rows": null,
       "grid_column": null,
       "grid_gap": null,
       "grid_row": null,
       "grid_template_areas": null,
       "grid_template_columns": null,
       "grid_template_rows": null,
       "height": null,
       "justify_content": null,
       "justify_items": null,
       "left": null,
       "margin": null,
       "max_height": null,
       "max_width": null,
       "min_height": null,
       "min_width": null,
       "object_fit": null,
       "object_position": null,
       "order": null,
       "overflow": null,
       "overflow_x": null,
       "overflow_y": null,
       "padding": null,
       "right": null,
       "top": null,
       "visibility": null,
       "width": null
      }
     },
     "4a359bce78b440bca8f9297e1fe06f79": {
      "model_module": "@jupyter-widgets/base",
      "model_module_version": "1.2.0",
      "model_name": "LayoutModel",
      "state": {
       "_model_module": "@jupyter-widgets/base",
       "_model_module_version": "1.2.0",
       "_model_name": "LayoutModel",
       "_view_count": null,
       "_view_module": "@jupyter-widgets/base",
       "_view_module_version": "1.2.0",
       "_view_name": "LayoutView",
       "align_content": null,
       "align_items": null,
       "align_self": null,
       "border": null,
       "bottom": null,
       "display": null,
       "flex": null,
       "flex_flow": null,
       "grid_area": null,
       "grid_auto_columns": null,
       "grid_auto_flow": null,
       "grid_auto_rows": null,
       "grid_column": null,
       "grid_gap": null,
       "grid_row": null,
       "grid_template_areas": null,
       "grid_template_columns": null,
       "grid_template_rows": null,
       "height": null,
       "justify_content": null,
       "justify_items": null,
       "left": null,
       "margin": null,
       "max_height": null,
       "max_width": null,
       "min_height": null,
       "min_width": null,
       "object_fit": null,
       "object_position": null,
       "order": null,
       "overflow": null,
       "overflow_x": null,
       "overflow_y": null,
       "padding": null,
       "right": null,
       "top": null,
       "visibility": null,
       "width": null
      }
     },
     "4b39db0ceb3b4310a603d96e7d41e1c0": {
      "model_module": "@jupyter-widgets/controls",
      "model_module_version": "1.5.0",
      "model_name": "HTMLModel",
      "state": {
       "_dom_classes": [],
       "_model_module": "@jupyter-widgets/controls",
       "_model_module_version": "1.5.0",
       "_model_name": "HTMLModel",
       "_view_count": null,
       "_view_module": "@jupyter-widgets/controls",
       "_view_module_version": "1.5.0",
       "_view_name": "HTMLView",
       "description": "",
       "description_tooltip": null,
       "layout": "IPY_MODEL_9dc4b747a4a54971a39e15ad2416b4b7",
       "placeholder": "​",
       "style": "IPY_MODEL_7c29c4e8c2844cfba37b45c29045f331",
       "value": " 372M/372M [00:07&lt;00:00, 51.2MB/s]"
      }
     },
     "514885f540314f5495cf3d832a80cd2a": {
      "model_module": "@jupyter-widgets/base",
      "model_module_version": "1.2.0",
      "model_name": "LayoutModel",
      "state": {
       "_model_module": "@jupyter-widgets/base",
       "_model_module_version": "1.2.0",
       "_model_name": "LayoutModel",
       "_view_count": null,
       "_view_module": "@jupyter-widgets/base",
       "_view_module_version": "1.2.0",
       "_view_name": "LayoutView",
       "align_content": null,
       "align_items": null,
       "align_self": null,
       "border": null,
       "bottom": null,
       "display": null,
       "flex": null,
       "flex_flow": null,
       "grid_area": null,
       "grid_auto_columns": null,
       "grid_auto_flow": null,
       "grid_auto_rows": null,
       "grid_column": null,
       "grid_gap": null,
       "grid_row": null,
       "grid_template_areas": null,
       "grid_template_columns": null,
       "grid_template_rows": null,
       "height": null,
       "justify_content": null,
       "justify_items": null,
       "left": null,
       "margin": null,
       "max_height": null,
       "max_width": null,
       "min_height": null,
       "min_width": null,
       "object_fit": null,
       "object_position": null,
       "order": null,
       "overflow": null,
       "overflow_x": null,
       "overflow_y": null,
       "padding": null,
       "right": null,
       "top": null,
       "visibility": null,
       "width": null
      }
     },
     "601680fe5ed64b7f81bb395d4479a2a0": {
      "model_module": "@jupyter-widgets/controls",
      "model_module_version": "1.5.0",
      "model_name": "DescriptionStyleModel",
      "state": {
       "_model_module": "@jupyter-widgets/controls",
       "_model_module_version": "1.5.0",
       "_model_name": "DescriptionStyleModel",
       "_view_count": null,
       "_view_module": "@jupyter-widgets/base",
       "_view_module_version": "1.2.0",
       "_view_name": "StyleView",
       "description_width": ""
      }
     },
     "6d9e86cc06bc4c57b9c2529f1789dcd5": {
      "model_module": "@jupyter-widgets/controls",
      "model_module_version": "1.5.0",
      "model_name": "HTMLModel",
      "state": {
       "_dom_classes": [],
       "_model_module": "@jupyter-widgets/controls",
       "_model_module_version": "1.5.0",
       "_model_name": "HTMLModel",
       "_view_count": null,
       "_view_module": "@jupyter-widgets/controls",
       "_view_module_version": "1.5.0",
       "_view_name": "HTMLView",
       "description": "",
       "description_tooltip": null,
       "layout": "IPY_MODEL_4a359bce78b440bca8f9297e1fe06f79",
       "placeholder": "​",
       "style": "IPY_MODEL_601680fe5ed64b7f81bb395d4479a2a0",
       "value": " 1/1 [00:08&lt;00:00,  8.13s/it]"
      }
     },
     "7149e39c2f59404fa6920d015e787c55": {
      "model_module": "@jupyter-widgets/controls",
      "model_module_version": "1.5.0",
      "model_name": "FloatProgressModel",
      "state": {
       "_dom_classes": [],
       "_model_module": "@jupyter-widgets/controls",
       "_model_module_version": "1.5.0",
       "_model_name": "FloatProgressModel",
       "_view_count": null,
       "_view_module": "@jupyter-widgets/controls",
       "_view_module_version": "1.5.0",
       "_view_name": "ProgressView",
       "bar_style": "success",
       "description": "",
       "description_tooltip": null,
       "layout": "IPY_MODEL_f9ee36065320447581c4fbe830fe73c0",
       "max": 371832225.0,
       "min": 0.0,
       "orientation": "horizontal",
       "style": "IPY_MODEL_a1b6b20cf3114cdc82ec513888095051",
       "value": 371832225.0
      }
     },
     "720283a2b8a64cac9f7d0867dd44d460": {
      "model_module": "@jupyter-widgets/base",
      "model_module_version": "1.2.0",
      "model_name": "LayoutModel",
      "state": {
       "_model_module": "@jupyter-widgets/base",
       "_model_module_version": "1.2.0",
       "_model_name": "LayoutModel",
       "_view_count": null,
       "_view_module": "@jupyter-widgets/base",
       "_view_module_version": "1.2.0",
       "_view_name": "LayoutView",
       "align_content": null,
       "align_items": null,
       "align_self": null,
       "border": null,
       "bottom": null,
       "display": null,
       "flex": null,
       "flex_flow": null,
       "grid_area": null,
       "grid_auto_columns": null,
       "grid_auto_flow": null,
       "grid_auto_rows": null,
       "grid_column": null,
       "grid_gap": null,
       "grid_row": null,
       "grid_template_areas": null,
       "grid_template_columns": null,
       "grid_template_rows": null,
       "height": null,
       "justify_content": null,
       "justify_items": null,
       "left": null,
       "margin": null,
       "max_height": null,
       "max_width": null,
       "min_height": null,
       "min_width": null,
       "object_fit": null,
       "object_position": null,
       "order": null,
       "overflow": null,
       "overflow_x": null,
       "overflow_y": null,
       "padding": null,
       "right": null,
       "top": null,
       "visibility": null,
       "width": null
      }
     },
     "7703e8bb4b1c431395fb4b98c53c2e48": {
      "model_module": "@jupyter-widgets/controls",
      "model_module_version": "1.5.0",
      "model_name": "DescriptionStyleModel",
      "state": {
       "_model_module": "@jupyter-widgets/controls",
       "_model_module_version": "1.5.0",
       "_model_name": "DescriptionStyleModel",
       "_view_count": null,
       "_view_module": "@jupyter-widgets/base",
       "_view_module_version": "1.2.0",
       "_view_name": "StyleView",
       "description_width": ""
      }
     },
     "7c29c4e8c2844cfba37b45c29045f331": {
      "model_module": "@jupyter-widgets/controls",
      "model_module_version": "1.5.0",
      "model_name": "DescriptionStyleModel",
      "state": {
       "_model_module": "@jupyter-widgets/controls",
       "_model_module_version": "1.5.0",
       "_model_name": "DescriptionStyleModel",
       "_view_count": null,
       "_view_module": "@jupyter-widgets/base",
       "_view_module_version": "1.2.0",
       "_view_name": "StyleView",
       "description_width": ""
      }
     },
     "7edfd00167604688b7b76bf9e8abd689": {
      "model_module": "@jupyter-widgets/controls",
      "model_module_version": "1.5.0",
      "model_name": "DescriptionStyleModel",
      "state": {
       "_model_module": "@jupyter-widgets/controls",
       "_model_module_version": "1.5.0",
       "_model_name": "DescriptionStyleModel",
       "_view_count": null,
       "_view_module": "@jupyter-widgets/base",
       "_view_module_version": "1.2.0",
       "_view_name": "StyleView",
       "description_width": ""
      }
     },
     "7f8dea121286479ba0dc3366dc54c1bf": {
      "model_module": "@jupyter-widgets/controls",
      "model_module_version": "1.5.0",
      "model_name": "HBoxModel",
      "state": {
       "_dom_classes": [],
       "_model_module": "@jupyter-widgets/controls",
       "_model_module_version": "1.5.0",
       "_model_name": "HBoxModel",
       "_view_count": null,
       "_view_module": "@jupyter-widgets/controls",
       "_view_module_version": "1.5.0",
       "_view_name": "HBoxView",
       "box_style": "",
       "children": [
        "IPY_MODEL_91aedadc44e14417830533fa1a32c83c",
        "IPY_MODEL_e55d0ce2967347c781519124fe232a19",
        "IPY_MODEL_6d9e86cc06bc4c57b9c2529f1789dcd5"
       ],
       "layout": "IPY_MODEL_0b71078e83bc4ab5b77e2256070687b1"
      }
     },
     "86b9360642dc4061a6ccf93d62c00951": {
      "model_module": "@jupyter-widgets/controls",
      "model_module_version": "1.5.0",
      "model_name": "HTMLModel",
      "state": {
       "_dom_classes": [],
       "_model_module": "@jupyter-widgets/controls",
       "_model_module_version": "1.5.0",
       "_model_name": "HTMLModel",
       "_view_count": null,
       "_view_module": "@jupyter-widgets/controls",
       "_view_module_version": "1.5.0",
       "_view_name": "HTMLView",
       "description": "",
       "description_tooltip": null,
       "layout": "IPY_MODEL_28acb832f464442ab337d224262e5c4e",
       "placeholder": "​",
       "style": "IPY_MODEL_7703e8bb4b1c431395fb4b98c53c2e48",
       "value": "Extracting data files: 100%"
      }
     },
     "91aedadc44e14417830533fa1a32c83c": {
      "model_module": "@jupyter-widgets/controls",
      "model_module_version": "1.5.0",
      "model_name": "HTMLModel",
      "state": {
       "_dom_classes": [],
       "_model_module": "@jupyter-widgets/controls",
       "_model_module_version": "1.5.0",
       "_model_name": "HTMLModel",
       "_view_count": null,
       "_view_module": "@jupyter-widgets/controls",
       "_view_module_version": "1.5.0",
       "_view_name": "HTMLView",
       "description": "",
       "description_tooltip": null,
       "layout": "IPY_MODEL_514885f540314f5495cf3d832a80cd2a",
       "placeholder": "​",
       "style": "IPY_MODEL_ecc0dabcc4c94cac8aa253189cf5fa1e",
       "value": "Downloading data files: 100%"
      }
     },
     "9dc4b747a4a54971a39e15ad2416b4b7": {
      "model_module": "@jupyter-widgets/base",
      "model_module_version": "1.2.0",
      "model_name": "LayoutModel",
      "state": {
       "_model_module": "@jupyter-widgets/base",
       "_model_module_version": "1.2.0",
       "_model_name": "LayoutModel",
       "_view_count": null,
       "_view_module": "@jupyter-widgets/base",
       "_view_module_version": "1.2.0",
       "_view_name": "LayoutView",
       "align_content": null,
       "align_items": null,
       "align_self": null,
       "border": null,
       "bottom": null,
       "display": null,
       "flex": null,
       "flex_flow": null,
       "grid_area": null,
       "grid_auto_columns": null,
       "grid_auto_flow": null,
       "grid_auto_rows": null,
       "grid_column": null,
       "grid_gap": null,
       "grid_row": null,
       "grid_template_areas": null,
       "grid_template_columns": null,
       "grid_template_rows": null,
       "height": null,
       "justify_content": null,
       "justify_items": null,
       "left": null,
       "margin": null,
       "max_height": null,
       "max_width": null,
       "min_height": null,
       "min_width": null,
       "object_fit": null,
       "object_position": null,
       "order": null,
       "overflow": null,
       "overflow_x": null,
       "overflow_y": null,
       "padding": null,
       "right": null,
       "top": null,
       "visibility": null,
       "width": null
      }
     },
     "a1b6b20cf3114cdc82ec513888095051": {
      "model_module": "@jupyter-widgets/controls",
      "model_module_version": "1.5.0",
      "model_name": "ProgressStyleModel",
      "state": {
       "_model_module": "@jupyter-widgets/controls",
       "_model_module_version": "1.5.0",
       "_model_name": "ProgressStyleModel",
       "_view_count": null,
       "_view_module": "@jupyter-widgets/base",
       "_view_module_version": "1.2.0",
       "_view_name": "StyleView",
       "bar_color": null,
       "description_width": ""
      }
     },
     "c4626c8121d14d928d19e904ba71e5da": {
      "model_module": "@jupyter-widgets/controls",
      "model_module_version": "1.5.0",
      "model_name": "HTMLModel",
      "state": {
       "_dom_classes": [],
       "_model_module": "@jupyter-widgets/controls",
       "_model_module_version": "1.5.0",
       "_model_name": "HTMLModel",
       "_view_count": null,
       "_view_module": "@jupyter-widgets/controls",
       "_view_module_version": "1.5.0",
       "_view_name": "HTMLView",
       "description": "",
       "description_tooltip": null,
       "layout": "IPY_MODEL_46e6f32329bb46de9bb709320bffdc9d",
       "placeholder": "​",
       "style": "IPY_MODEL_7edfd00167604688b7b76bf9e8abd689",
       "value": " 1/1 [00:09&lt;00:00,  9.18s/it]"
      }
     },
     "ca57fe2feccb443bac84f0c696fb0c11": {
      "model_module": "@jupyter-widgets/controls",
      "model_module_version": "1.5.0",
      "model_name": "HTMLModel",
      "state": {
       "_dom_classes": [],
       "_model_module": "@jupyter-widgets/controls",
       "_model_module_version": "1.5.0",
       "_model_name": "HTMLModel",
       "_view_count": null,
       "_view_module": "@jupyter-widgets/controls",
       "_view_module_version": "1.5.0",
       "_view_name": "HTMLView",
       "description": "",
       "description_tooltip": null,
       "layout": "IPY_MODEL_fd217be6c1674b2080c14c86a22da3d2",
       "placeholder": "​",
       "style": "IPY_MODEL_f01589e596764d509da6386088e984bb",
       "value": "Downloading data: 100%"
      }
     },
     "e0fa9d267301498e95b4697f59d6154c": {
      "model_module": "@jupyter-widgets/controls",
      "model_module_version": "1.5.0",
      "model_name": "FloatProgressModel",
      "state": {
       "_dom_classes": [],
       "_model_module": "@jupyter-widgets/controls",
       "_model_module_version": "1.5.0",
       "_model_name": "FloatProgressModel",
       "_view_count": null,
       "_view_module": "@jupyter-widgets/controls",
       "_view_module_version": "1.5.0",
       "_view_name": "ProgressView",
       "bar_style": "success",
       "description": "",
       "description_tooltip": null,
       "layout": "IPY_MODEL_38404567cc47448ca7edd723c6d07e69",
       "max": 1.0,
       "min": 0.0,
       "orientation": "horizontal",
       "style": "IPY_MODEL_41df06c165974312affce2b6e26ca89e",
       "value": 1.0
      }
     },
     "e55d0ce2967347c781519124fe232a19": {
      "model_module": "@jupyter-widgets/controls",
      "model_module_version": "1.5.0",
      "model_name": "FloatProgressModel",
      "state": {
       "_dom_classes": [],
       "_model_module": "@jupyter-widgets/controls",
       "_model_module_version": "1.5.0",
       "_model_name": "FloatProgressModel",
       "_view_count": null,
       "_view_module": "@jupyter-widgets/controls",
       "_view_module_version": "1.5.0",
       "_view_name": "ProgressView",
       "bar_style": "success",
       "description": "",
       "description_tooltip": null,
       "layout": "IPY_MODEL_720283a2b8a64cac9f7d0867dd44d460",
       "max": 1.0,
       "min": 0.0,
       "orientation": "horizontal",
       "style": "IPY_MODEL_1db114f97de4419c932246ed15e50b19",
       "value": 1.0
      }
     },
     "ecc0dabcc4c94cac8aa253189cf5fa1e": {
      "model_module": "@jupyter-widgets/controls",
      "model_module_version": "1.5.0",
      "model_name": "DescriptionStyleModel",
      "state": {
       "_model_module": "@jupyter-widgets/controls",
       "_model_module_version": "1.5.0",
       "_model_name": "DescriptionStyleModel",
       "_view_count": null,
       "_view_module": "@jupyter-widgets/base",
       "_view_module_version": "1.2.0",
       "_view_name": "StyleView",
       "description_width": ""
      }
     },
     "f01589e596764d509da6386088e984bb": {
      "model_module": "@jupyter-widgets/controls",
      "model_module_version": "1.5.0",
      "model_name": "DescriptionStyleModel",
      "state": {
       "_model_module": "@jupyter-widgets/controls",
       "_model_module_version": "1.5.0",
       "_model_name": "DescriptionStyleModel",
       "_view_count": null,
       "_view_module": "@jupyter-widgets/base",
       "_view_module_version": "1.2.0",
       "_view_name": "StyleView",
       "description_width": ""
      }
     },
     "f9ee36065320447581c4fbe830fe73c0": {
      "model_module": "@jupyter-widgets/base",
      "model_module_version": "1.2.0",
      "model_name": "LayoutModel",
      "state": {
       "_model_module": "@jupyter-widgets/base",
       "_model_module_version": "1.2.0",
       "_model_name": "LayoutModel",
       "_view_count": null,
       "_view_module": "@jupyter-widgets/base",
       "_view_module_version": "1.2.0",
       "_view_name": "LayoutView",
       "align_content": null,
       "align_items": null,
       "align_self": null,
       "border": null,
       "bottom": null,
       "display": null,
       "flex": null,
       "flex_flow": null,
       "grid_area": null,
       "grid_auto_columns": null,
       "grid_auto_flow": null,
       "grid_auto_rows": null,
       "grid_column": null,
       "grid_gap": null,
       "grid_row": null,
       "grid_template_areas": null,
       "grid_template_columns": null,
       "grid_template_rows": null,
       "height": null,
       "justify_content": null,
       "justify_items": null,
       "left": null,
       "margin": null,
       "max_height": null,
       "max_width": null,
       "min_height": null,
       "min_width": null,
       "object_fit": null,
       "object_position": null,
       "order": null,
       "overflow": null,
       "overflow_x": null,
       "overflow_y": null,
       "padding": null,
       "right": null,
       "top": null,
       "visibility": null,
       "width": null
      }
     },
     "fd217be6c1674b2080c14c86a22da3d2": {
      "model_module": "@jupyter-widgets/base",
      "model_module_version": "1.2.0",
      "model_name": "LayoutModel",
      "state": {
       "_model_module": "@jupyter-widgets/base",
       "_model_module_version": "1.2.0",
       "_model_name": "LayoutModel",
       "_view_count": null,
       "_view_module": "@jupyter-widgets/base",
       "_view_module_version": "1.2.0",
       "_view_name": "LayoutView",
       "align_content": null,
       "align_items": null,
       "align_self": null,
       "border": null,
       "bottom": null,
       "display": null,
       "flex": null,
       "flex_flow": null,
       "grid_area": null,
       "grid_auto_columns": null,
       "grid_auto_flow": null,
       "grid_auto_rows": null,
       "grid_column": null,
       "grid_gap": null,
       "grid_row": null,
       "grid_template_areas": null,
       "grid_template_columns": null,
       "grid_template_rows": null,
       "height": null,
       "justify_content": null,
       "justify_items": null,
       "left": null,
       "margin": null,
       "max_height": null,
       "max_width": null,
       "min_height": null,
       "min_width": null,
       "object_fit": null,
       "object_position": null,
       "order": null,
       "overflow": null,
       "overflow_x": null,
       "overflow_y": null,
       "padding": null,
       "right": null,
       "top": null,
       "visibility": null,
       "width": null
      }
     }
    },
    "version_major": 2,
    "version_minor": 0
   }
  }
 },
 "nbformat": 4,
 "nbformat_minor": 5
}

{
 "cells": [
  {
   "cell_type": "markdown",
   "id": "0c615632-a83b-4558-b226-3d574aa8f58e",
   "metadata": {},
   "source": [
    "## Baseline OPUS MT EN-FR Evaluation\n",
    "We'll first generate predictions from the test set using the baseline model, and then we'll use that to calculate the BLEU and CHRF++ scores."
   ]
  },
  {
   "cell_type": "code",
   "execution_count": 1,
   "id": "d7204932-2d28-4ecf-8da3-4baf93ce2e35",
   "metadata": {},
   "outputs": [
    {
     "name": "stderr",
     "output_type": "stream",
     "text": [
      "[nltk_data] Downloading package wordnet to\n",
      "[nltk_data]     C:\\Users\\ethan\\AppData\\Roaming\\nltk_data...\n",
      "[nltk_data]   Package wordnet is already up-to-date!\n",
      "[nltk_data] Downloading package punkt to\n",
      "[nltk_data]     C:\\Users\\ethan\\AppData\\Roaming\\nltk_data...\n",
      "[nltk_data]   Package punkt is already up-to-date!\n",
      "[nltk_data] Downloading package omw-1.4 to\n",
      "[nltk_data]     C:\\Users\\ethan\\AppData\\Roaming\\nltk_data...\n",
      "[nltk_data]   Package omw-1.4 is already up-to-date!\n"
     ]
    }
   ],
   "source": [
    "import evaluate\n",
    "bleu = evaluate.load(\"sacrebleu\")\n",
    "chrf = evaluate.load(\"chrf\")\n",
    "ter = evaluate.load(\"ter\")\n",
    "meteor = evaluate.load('meteor')"
   ]
  },
  {
   "cell_type": "code",
   "execution_count": 2,
   "id": "e8483617-feb1-4c56-8e86-5a5658fd490f",
   "metadata": {},
   "outputs": [],
   "source": [
    "f = open(\"../wmt22test.txt\", 'r', encoding = 'utf-8')\n",
    "test = [line.strip() for line in f.readlines()]\n",
    "f.close()"
   ]
  },
  {
   "cell_type": "code",
   "execution_count": 3,
   "id": "b12ec8a4-3291-4909-acd0-9f7a9efb133a",
   "metadata": {},
   "outputs": [
    {
     "name": "stdout",
     "output_type": "stream",
     "text": [
      "\n"
     ]
    }
   ],
   "source": [
    "\"\"\"\n",
    "from transformers import pipeline\n",
    "from tqdm import tqdm\n",
    "baseline = pipeline(\"translation_en_to_fr\", model = \"Helsinki-NLP/opus-mt-en-fr\") #301MB in size\n",
    "preds = [baseline(s) for s in tqdm(test)]\n",
    "f = open(\"wmt22test_baseline_pred.txt\", 'w', encoding = 'utf-8')\n",
    "for line in preds:\n",
    "    f.write(line[0]['translation_text']+ '\\n')\n",
    "f.close()\n",
    "\"\"\"\n",
    "print()"
   ]
  },
  {
   "cell_type": "code",
   "execution_count": 4,
   "id": "a9a5e251-1910-4cb6-900e-8ccc451d1cb5",
   "metadata": {},
   "outputs": [],
   "source": [
    "f = open(\"wmt22test_baseline_pred.txt\", 'r', encoding = 'utf-8')\n",
    "preds = [line.strip() for line in f.readlines()]\n",
    "f.close()"
   ]
  },
  {
   "cell_type": "code",
   "execution_count": 5,
   "id": "673d5b56-8705-4c7b-8784-0c64a8a79ba8",
   "metadata": {},
   "outputs": [],
   "source": [
    "f = open(\"../wmt22gold.txt\", 'r', encoding = 'utf-8')\n",
    "refs = [line.strip() for line in f.readlines()]\n",
    "f.close()"
   ]
  },
  {
   "cell_type": "code",
   "execution_count": 6,
   "id": "7d636dea-d34a-44d7-aa5b-66199c83cd8c",
   "metadata": {},
   "outputs": [
    {
     "name": "stdout",
     "output_type": "stream",
     "text": [
      "{'bleu': 33.01651607602004}\n"
     ]
    }
   ],
   "source": [
    "result = bleu.compute(predictions = preds, references = refs) #BLEU score for provided input and references\n",
    "result = {\"bleu\": result[\"score\"]}\n",
    "print(result)"
   ]
  },
  {
   "cell_type": "code",
   "execution_count": 7,
   "id": "d534e24d-f2cd-439f-ac3d-002b5ef604ad",
   "metadata": {},
   "outputs": [
    {
     "name": "stdout",
     "output_type": "stream",
     "text": [
      "{'score': 52.15468747227986, 'char_order': 6, 'word_order': 2, 'beta': 2}\n"
     ]
    }
   ],
   "source": [
    "result = chrf.compute(predictions = preds, references = refs, word_order = 2) #Include word bigrams for CHRF++\n",
    "print(result)"
   ]
  },
  {
   "cell_type": "code",
   "execution_count": 8,
   "id": "28f75265-f7c6-47c4-b2eb-3579fe0aa8fa",
   "metadata": {},
   "outputs": [
    {
     "name": "stdout",
     "output_type": "stream",
     "text": [
      "{'ter': 69.66223132036848}\n"
     ]
    }
   ],
   "source": [
    "result = ter.compute(predictions = preds, references = refs, case_sensitive = True) #Casing is important - treat as an edit error\n",
    "result = {\"ter\": result[\"score\"]}\n",
    "print(result)"
   ]
  },
  {
   "cell_type": "code",
   "execution_count": 9,
   "id": "2f97fc3a-9862-49e5-a76f-21f66b9d8972",
   "metadata": {},
   "outputs": [
    {
     "name": "stdout",
     "output_type": "stream",
     "text": [
      "{'meteor': 0.4897968754591237}\n"
     ]
    }
   ],
   "source": [
    "result = meteor.compute(predictions = preds, references = refs)\n",
    "print(result)"
   ]
  }
 ],
 "metadata": {
  "kernelspec": {
   "display_name": "Python 3 (ipykernel)",
   "language": "python",
   "name": "python3"
  },
  "language_info": {
   "codemirror_mode": {
    "name": "ipython",
    "version": 3
   },
   "file_extension": ".py",
   "mimetype": "text/x-python",
   "name": "python",
   "nbconvert_exporter": "python",
   "pygments_lexer": "ipython3",
   "version": "3.10.11"
  }
 },
 "nbformat": 4,
 "nbformat_minor": 5
}

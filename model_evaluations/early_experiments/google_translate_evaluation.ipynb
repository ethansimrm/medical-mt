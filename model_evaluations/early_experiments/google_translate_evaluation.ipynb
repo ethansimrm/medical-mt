{
 "cells": [
  {
   "cell_type": "code",
   "execution_count": 2,
   "id": "e11ce073-3e43-4ff4-954a-c4b17bd4cd06",
   "metadata": {},
   "outputs": [],
   "source": [
    "import evaluate\n",
    "metric = evaluate.load(\"sacrebleu\")"
   ]
  },
  {
   "cell_type": "code",
   "execution_count": 3,
   "id": "7c00abb4-6b92-47bb-981a-207edae5ab4f",
   "metadata": {},
   "outputs": [
    {
     "name": "stderr",
     "output_type": "stream",
     "text": [
      "Found cached dataset csv (C:/Users/ethan/.cache/huggingface/datasets/ethansimrm___csv/ethansimrm--wmt16_biomed_test-a7f4a6960a22ab1f/0.0.0/6954658bab30a358235fa864b05cf819af0e179325c740e4bc853bcc7ec513e1)\n"
     ]
    },
    {
     "data": {
      "application/vnd.jupyter.widget-view+json": {
       "model_id": "03801bbc86014bf6bdab3ca1b19d79e4",
       "version_major": 2,
       "version_minor": 0
      },
      "text/plain": [
       "  0%|          | 0/1 [00:00<?, ?it/s]"
      ]
     },
     "metadata": {},
     "output_type": "display_data"
    },
    {
     "name": "stderr",
     "output_type": "stream",
     "text": [
      "Found cached dataset csv (C:/Users/ethan/.cache/huggingface/datasets/ethansimrm___csv/ethansimrm--wmt16_biomed_gold-1f923765274e7d1e/0.0.0/6954658bab30a358235fa864b05cf819af0e179325c740e4bc853bcc7ec513e1)\n"
     ]
    },
    {
     "data": {
      "application/vnd.jupyter.widget-view+json": {
       "model_id": "c0aa09779da8480eab40ef03c2df38fc",
       "version_major": 2,
       "version_minor": 0
      },
      "text/plain": [
       "  0%|          | 0/1 [00:00<?, ?it/s]"
      ]
     },
     "metadata": {},
     "output_type": "display_data"
    }
   ],
   "source": [
    "from datasets import load_dataset\n",
    "wmt16_test = load_dataset(\"ethansimrm/wmt16_biomed_test\", use_auth_token=True)\n",
    "wmt16_gold = load_dataset(\"ethansimrm/wmt16_biomed_gold\", use_auth_token=True)"
   ]
  },
  {
   "cell_type": "code",
   "execution_count": 4,
   "id": "07b8d446-29a1-48da-8376-91e5114db70f",
   "metadata": {},
   "outputs": [],
   "source": [
    "#Get abstract rows\n",
    "source_sentences = wmt16_test[\"test\"][\"passage/0/sentence/0/text\"]\n",
    "target_sentences = wmt16_gold[\"train\"][\"passage/0/sentence/0/text\"]"
   ]
  },
  {
   "cell_type": "code",
   "execution_count": 5,
   "id": "e2010fed-e81f-4a46-8deb-6b5b56f51feb",
   "metadata": {},
   "outputs": [
    {
     "data": {
      "text/plain": [
       "'\\nf = open(\"Data/GT_source.txt, \\'w\\', encoding = \\'utf-8\\')\\nfor s in source_sentences:\\n    f.write(s)\\n    f.write(\"\\n\")\\n'"
      ]
     },
     "execution_count": 5,
     "metadata": {},
     "output_type": "execute_result"
    }
   ],
   "source": [
    "'''\n",
    "f = open(\"Data/GT_source.txt, 'w', encoding = 'utf-8')\n",
    "for s in source_sentences:\n",
    "    f.write(s)\n",
    "    f.write(\"\\n\")\n",
    "'''"
   ]
  },
  {
   "cell_type": "code",
   "execution_count": 6,
   "id": "be3901bd-48c3-4fc7-b5ed-1029e6a6a1ac",
   "metadata": {},
   "outputs": [],
   "source": [
    "#Load in predictions - I gave up and used Document translate using GT_source.txt --> Microsoft Word due to API instability\n",
    "preds = []\n",
    "f =  open(\"../data/GT_pred.txt\", 'r', encoding = 'utf-8')\n",
    "preds = f.read().splitlines()\n",
    "f.close()"
   ]
  },
  {
   "cell_type": "code",
   "execution_count": 7,
   "id": "8bf03a23-9daf-4405-b3be-10fede7de021",
   "metadata": {},
   "outputs": [
    {
     "name": "stdout",
     "output_type": "stream",
     "text": [
      "{'bleu': 43.71987636423485}\n"
     ]
    }
   ],
   "source": [
    "#Compute BLEU on the abstract-only WMT16 test set\n",
    "result = metric.compute(predictions=preds, references=target_sentences) #BLEU score for provided input and references\n",
    "result = {\"bleu\": result[\"score\"]}\n",
    "print(result)"
   ]
  }
 ],
 "metadata": {
  "kernelspec": {
   "display_name": "Python 3 (ipykernel)",
   "language": "python",
   "name": "python3"
  },
  "language_info": {
   "codemirror_mode": {
    "name": "ipython",
    "version": 3
   },
   "file_extension": ".py",
   "mimetype": "text/x-python",
   "name": "python",
   "nbconvert_exporter": "python",
   "pygments_lexer": "ipython3",
   "version": "3.10.11"
  }
 },
 "nbformat": 4,
 "nbformat_minor": 5
}

{
 "cells": [
  {
   "cell_type": "markdown",
   "id": "615e78db-4ac8-4206-a989-fd60989e40aa",
   "metadata": {},
   "source": [
    "# Fine-Banded Policy Testing\n",
    "\n",
    "Just checking to see if the log-then-round option is feasible."
   ]
  },
  {
   "cell_type": "code",
   "execution_count": 9,
   "id": "a8e417cf-038e-4476-bc6f-0f47bb6171a7",
   "metadata": {},
   "outputs": [],
   "source": [
    "import pandas as pd\n",
    "gloss_base_freq = pd.read_csv(\"gloss_base_freq.txt\", sep = \"\\t\", header = None, names = [\"token\", \"frequency\"])\n",
    "gloss_big_freq = pd.read_csv(\"gloss_big_freq.txt\", sep = \"\\t\", header = None, names = [\"token\", \"frequency\"])"
   ]
  },
  {
   "cell_type": "code",
   "execution_count": 16,
   "id": "b06d26b8-22dd-47d5-96ff-d882cc7b7bc6",
   "metadata": {},
   "outputs": [
    {
     "data": {
      "text/html": [
       "<div>\n",
       "<style scoped>\n",
       "    .dataframe tbody tr th:only-of-type {\n",
       "        vertical-align: middle;\n",
       "    }\n",
       "\n",
       "    .dataframe tbody tr th {\n",
       "        vertical-align: top;\n",
       "    }\n",
       "\n",
       "    .dataframe thead th {\n",
       "        text-align: right;\n",
       "    }\n",
       "</style>\n",
       "<table border=\"1\" class=\"dataframe\">\n",
       "  <thead>\n",
       "    <tr style=\"text-align: right;\">\n",
       "      <th></th>\n",
       "      <th>token</th>\n",
       "      <th>frequency</th>\n",
       "    </tr>\n",
       "  </thead>\n",
       "  <tbody>\n",
       "    <tr>\n",
       "      <th>869</th>\n",
       "      <td>39327</td>\n",
       "      <td>0.0</td>\n",
       "    </tr>\n",
       "    <tr>\n",
       "      <th>2074</th>\n",
       "      <td>51279</td>\n",
       "      <td>0.0</td>\n",
       "    </tr>\n",
       "    <tr>\n",
       "      <th>2560</th>\n",
       "      <td>33291</td>\n",
       "      <td>0.0</td>\n",
       "    </tr>\n",
       "    <tr>\n",
       "      <th>3124</th>\n",
       "      <td>32409</td>\n",
       "      <td>0.0</td>\n",
       "    </tr>\n",
       "    <tr>\n",
       "      <th>3340</th>\n",
       "      <td>6324</td>\n",
       "      <td>0.0</td>\n",
       "    </tr>\n",
       "    <tr>\n",
       "      <th>4171</th>\n",
       "      <td>13650</td>\n",
       "      <td>0.0</td>\n",
       "    </tr>\n",
       "    <tr>\n",
       "      <th>4237</th>\n",
       "      <td>36916</td>\n",
       "      <td>0.0</td>\n",
       "    </tr>\n",
       "    <tr>\n",
       "      <th>4249</th>\n",
       "      <td>40502</td>\n",
       "      <td>0.0</td>\n",
       "    </tr>\n",
       "    <tr>\n",
       "      <th>4330</th>\n",
       "      <td>5045</td>\n",
       "      <td>0.0</td>\n",
       "    </tr>\n",
       "    <tr>\n",
       "      <th>4562</th>\n",
       "      <td>27878</td>\n",
       "      <td>0.0</td>\n",
       "    </tr>\n",
       "    <tr>\n",
       "      <th>4813</th>\n",
       "      <td>40855</td>\n",
       "      <td>0.0</td>\n",
       "    </tr>\n",
       "    <tr>\n",
       "      <th>5011</th>\n",
       "      <td>14992</td>\n",
       "      <td>0.0</td>\n",
       "    </tr>\n",
       "    <tr>\n",
       "      <th>5142</th>\n",
       "      <td>51013</td>\n",
       "      <td>0.0</td>\n",
       "    </tr>\n",
       "  </tbody>\n",
       "</table>\n",
       "</div>"
      ],
      "text/plain": [
       "      token  frequency\n",
       "869   39327        0.0\n",
       "2074  51279        0.0\n",
       "2560  33291        0.0\n",
       "3124  32409        0.0\n",
       "3340   6324        0.0\n",
       "4171  13650        0.0\n",
       "4237  36916        0.0\n",
       "4249  40502        0.0\n",
       "4330   5045        0.0\n",
       "4562  27878        0.0\n",
       "4813  40855        0.0\n",
       "5011  14992        0.0\n",
       "5142  51013        0.0"
      ]
     },
     "execution_count": 16,
     "metadata": {},
     "output_type": "execute_result"
    }
   ],
   "source": [
    "gloss_base_freq[gloss_base_freq[\"frequency\"] == 0]\n",
    "gloss_big_freq[gloss_big_freq[\"frequency\"] == 0]"
   ]
  },
  {
   "cell_type": "code",
   "execution_count": 2,
   "id": "0ea7b190-ee52-46a4-a3e3-f6aa37542e2f",
   "metadata": {},
   "outputs": [],
   "source": [
    "#Kick out zeroes to avoid runtime divide by zero errors\n",
    "gloss_base_freq = gloss_base_freq[gloss_base_freq[\"frequency\"] > 0]\n",
    "gloss_big_freq = gloss_big_freq[gloss_big_freq[\"frequency\"] > 0]"
   ]
  },
  {
   "cell_type": "code",
   "execution_count": 3,
   "id": "ad092628-c790-40e5-8615-1a2244c87bac",
   "metadata": {},
   "outputs": [],
   "source": [
    "import numpy as np\n",
    "gloss_base_freq[\"log_freq\"] = np.log(gloss_base_freq[\"frequency\"])\n",
    "gloss_big_freq[\"log_freq\"] = np.log(gloss_big_freq[\"frequency\"])"
   ]
  },
  {
   "cell_type": "code",
   "execution_count": 4,
   "id": "a5ab1b19-dad1-4f9f-9271-6e2c53a3f71d",
   "metadata": {},
   "outputs": [],
   "source": [
    "gloss_base_freq[\"lf_round_10\"] = round(gloss_base_freq[\"log_freq\"] / 10) * 10 #Too coarse - just 3 bands.\n",
    "gloss_base_freq[\"lf_round_0\"] = round(gloss_base_freq[\"log_freq\"])\n",
    "gloss_base_freq[\"lf_round_1\"] = round(gloss_base_freq[\"log_freq\"], 1)\n",
    "gloss_base_freq[\"lf_round_2\"] = round(gloss_base_freq[\"log_freq\"], 2)\n",
    "gloss_base_freq[\"lf_round_3\"] = round(gloss_base_freq[\"log_freq\"], 3) #Very minute differences but pronounced towards the higher-frequency tokens. May be worthwhile."
   ]
  },
  {
   "cell_type": "code",
   "execution_count": 5,
   "id": "bde2a13c-8f63-4ddd-a8f5-cd959fe15e7a",
   "metadata": {},
   "outputs": [],
   "source": [
    "gloss_base_freq = gloss_base_freq.sort_values(by = [\"log_freq\"])"
   ]
  },
  {
   "cell_type": "code",
   "execution_count": 6,
   "id": "ca8ce926-2f33-49e7-a95d-8f0e2a731049",
   "metadata": {},
   "outputs": [],
   "source": [
    "gloss_base_freq.to_csv(\"base_inspect.txt\", sep = \"\\t\", header = False, index = False)"
   ]
  },
  {
   "cell_type": "code",
   "execution_count": 7,
   "id": "95062e9f-059e-430f-b4a3-41ef1813eb6c",
   "metadata": {},
   "outputs": [],
   "source": [
    "gloss_big_freq[\"lf_round_10\"] = round(gloss_big_freq[\"log_freq\"] / 10) * 10 #Too coarse - just 3 bands.\n",
    "gloss_big_freq[\"lf_round_0\"] = round(gloss_big_freq[\"log_freq\"])\n",
    "gloss_big_freq[\"lf_round_1\"] = round(gloss_big_freq[\"log_freq\"], 1)\n",
    "gloss_big_freq[\"lf_round_2\"] = round(gloss_big_freq[\"log_freq\"], 2)\n",
    "gloss_big_freq[\"lf_round_3\"] = round(gloss_big_freq[\"log_freq\"], 3) #Very minute differences but pronounced towards the higher-frequency tokens. May be worthwhile.\n",
    "gloss_big_freq = gloss_big_freq.sort_values(by = [\"log_freq\"])\n",
    "gloss_big_freq.to_csv(\"big_inspect.txt\", sep = \"\\t\", header = False, index = False)"
   ]
  }
 ],
 "metadata": {
  "kernelspec": {
   "display_name": "Python 3 (ipykernel)",
   "language": "python",
   "name": "python3"
  },
  "language_info": {
   "codemirror_mode": {
    "name": "ipython",
    "version": 3
   },
   "file_extension": ".py",
   "mimetype": "text/x-python",
   "name": "python",
   "nbconvert_exporter": "python",
   "pygments_lexer": "ipython3",
   "version": "3.10.11"
  }
 },
 "nbformat": 4,
 "nbformat_minor": 5
}

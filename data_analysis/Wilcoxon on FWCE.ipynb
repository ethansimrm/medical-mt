{
 "cells": [
  {
   "cell_type": "markdown",
   "id": "7ac174db-1ccd-4a28-9d80-7ac1dc049b1a",
   "metadata": {},
   "source": [
    "# Wilcoxon Signed-Rank Test\n",
    "\n",
    "We just want to see if there are significant benefits to intersection."
   ]
  },
  {
   "cell_type": "code",
   "execution_count": 11,
   "id": "43bce505-7704-4275-ac57-e3a04a37cadd",
   "metadata": {},
   "outputs": [
    {
     "data": {
      "text/plain": [
       "WilcoxonResult(statistic=4.0, pvalue=0.75)"
      ]
     },
     "execution_count": 11,
     "metadata": {},
     "output_type": "execute_result"
    }
   ],
   "source": [
    "import numpy as np\n",
    "from scipy.stats import wilcoxon\n",
    "unsampled = np.array([0.5360, 0.5370, 0.5366])\n",
    "sampled = np.array([0.5376, 0.5364, 0.5321])\n",
    "wilcoxon(unsampled, sampled, alternative='less')"
   ]
  },
  {
   "cell_type": "code",
   "execution_count": 12,
   "id": "c30b2b66-8322-4f29-b5cd-04cf8321453f",
   "metadata": {},
   "outputs": [
    {
     "data": {
      "text/plain": [
       "WilcoxonResult(statistic=6.0, pvalue=1.0)"
      ]
     },
     "execution_count": 12,
     "metadata": {},
     "output_type": "execute_result"
    }
   ],
   "source": [
    "unsampled = np.array([0.5629, 0.5607, 0.5603])\n",
    "sampled = np.array([0.5568, 0.559, 0.5558])\n",
    "wilcoxon(unsampled, sampled, alternative='less')"
   ]
  }
 ],
 "metadata": {
  "kernelspec": {
   "display_name": "Python 3 (ipykernel)",
   "language": "python",
   "name": "python3"
  },
  "language_info": {
   "codemirror_mode": {
    "name": "ipython",
    "version": 3
   },
   "file_extension": ".py",
   "mimetype": "text/x-python",
   "name": "python",
   "nbconvert_exporter": "python",
   "pygments_lexer": "ipython3",
   "version": "3.10.11"
  }
 },
 "nbformat": 4,
 "nbformat_minor": 5
}

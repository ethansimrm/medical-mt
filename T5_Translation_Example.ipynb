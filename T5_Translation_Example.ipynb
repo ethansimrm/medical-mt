{
  "nbformat": 4,
  "nbformat_minor": 0,
  "metadata": {
    "colab": {
      "provenance": [],
      "gpuType": "T4",
      "authorship_tag": "ABX9TyOI/+i9EwTDHBsOiMyarYtJ",
      "include_colab_link": true
    },
    "kernelspec": {
      "name": "python3",
      "display_name": "Python 3"
    },
    "language_info": {
      "name": "python"
    },
    "gpuClass": "standard",
    "accelerator": "GPU"
  },
  "cells": [
    {
      "cell_type": "markdown",
      "metadata": {
        "id": "view-in-github",
        "colab_type": "text"
      },
      "source": [
        "<a href=\"https://colab.research.google.com/github/ethansimrm/medical-mt/blob/main/T5_Translation_Example.ipynb\" target=\"_parent\"><img src=\"https://colab.research.google.com/assets/colab-badge.svg\" alt=\"Open In Colab\"/></a>"
      ]
    },
    {
      "cell_type": "code",
      "execution_count": null,
      "metadata": {
        "id": "uJqb31c_qlFm"
      },
      "outputs": [],
      "source": [
        "#Install required dependencies\n",
        "!pip install transformers==4.28.0 datasets evaluate sacrebleu torch git+https://github.com/huggingface/accelerate"
      ]
    },
    {
      "cell_type": "code",
      "source": [
        "from huggingface_hub import notebook_login\n",
        "notebook_login()"
      ],
      "metadata": {
        "id": "D14166ZT-V9O"
      },
      "execution_count": null,
      "outputs": []
    },
    {
      "cell_type": "code",
      "source": [
        "#Load in EN-FR subset of OPUS books\n",
        "from datasets import load_dataset, load_dataset_builder\n",
        "books = load_dataset(\"opus_books\", \"en-fr\")"
      ],
      "metadata": {
        "id": "Hrj2WZb6qpGN"
      },
      "execution_count": null,
      "outputs": []
    },
    {
      "cell_type": "code",
      "source": [
        "#ds_builder = load_dataset_builder(\"rotten_tomatoes\")\n",
        "#ds_builder = load_dataset_builder(\"wmt14\", 'fr-en')\n",
        "#ds_builder.info.description\n",
        "#ds_builder.info.features"
      ],
      "metadata": {
        "id": "flHrFlIO2iBT"
      },
      "execution_count": null,
      "outputs": []
    },
    {
      "cell_type": "code",
      "source": [
        "#Entirety of OPUS books is a training dataset, so split into train:test with 80:20.\n",
        "books = books[\"train\"].train_test_split(test_size=0.2)"
      ],
      "metadata": {
        "id": "Rsq2JoHq2iJB"
      },
      "execution_count": null,
      "outputs": []
    },
    {
      "cell_type": "code",
      "source": [
        "#Inspect data; the split is random.\n",
        "books[\"train\"][0]"
      ],
      "metadata": {
        "id": "wNGmTShc2iL1"
      },
      "execution_count": null,
      "outputs": []
    },
    {
      "cell_type": "code",
      "source": [
        "#Tokenise data - we must load the correct tokeniser for our model before we input parameters. This is based on SentencePiece.\n",
        "from transformers import AutoTokenizer\n",
        "checkpoint = \"t5-small\"\n",
        "tokenizer = AutoTokenizer.from_pretrained(checkpoint)\n",
        "#NB: As long as data looks like {\"input\" : \"XXXX\" , \"target\" : \"YYYY\"}, it can be processed."
      ],
      "metadata": {
        "id": "oWdSupZU2iOE"
      },
      "execution_count": null,
      "outputs": []
    },
    {
      "cell_type": "code",
      "source": [
        "#Specify a preprocessing function which allows us to tokenise source and target languages correctly AND prime T5 with the correct prompt before each sentence\n",
        "source_lang = \"en\"\n",
        "target_lang = \"fr\"\n",
        "prefix = \"translate English to French: \"\n",
        "\n",
        "\n",
        "def preprocess_function(examples):\n",
        "    inputs = [prefix + example[source_lang] for example in examples[\"translation\"]] \n",
        "    #We are essentially querying the dictionary here, whereby books[\"train\"][\"translation\"][0][\"en\"] references the first English sentence above.\n",
        "    targets = [example[target_lang] for example in examples[\"translation\"]]\n",
        "    model_inputs = tokenizer(inputs, text_target=targets, max_length=128, truncation=True) #We will truncate sentences longer than 128 words long\n",
        "    return model_inputs\n",
        "\n",
        "#books[\"train\"][\"translation\"][0][\"en\"] will give us the first English sentence"
      ],
      "metadata": {
        "id": "dHKGRy-I2iQG"
      },
      "execution_count": null,
      "outputs": []
    },
    {
      "cell_type": "code",
      "source": [
        "#Apply this function over the training dataset over multiple elements simultaneously using the batched = True argument.\n",
        "tokenized_books = books.map(preprocess_function, batched=True) "
      ],
      "metadata": {
        "id": "3B7mTauk20OC"
      },
      "execution_count": null,
      "outputs": []
    },
    {
      "cell_type": "code",
      "source": [
        "#Create a batch of examples and dynamically pad to hit length of longest sentence per batch\n",
        "from transformers import DataCollatorForSeq2Seq\n",
        "data_collator = DataCollatorForSeq2Seq(tokenizer=tokenizer, model=checkpoint)"
      ],
      "metadata": {
        "id": "c2BC-dJ920Qc"
      },
      "execution_count": null,
      "outputs": []
    },
    {
      "cell_type": "code",
      "source": [
        "#Load evaluation method\n",
        "import evaluate\n",
        "metric = evaluate.load(\"sacrebleu\")"
      ],
      "metadata": {
        "id": "WysKB40h20Se"
      },
      "execution_count": null,
      "outputs": []
    },
    {
      "cell_type": "code",
      "source": [
        "import numpy as np\n",
        "\n",
        "def postprocess_text(preds, labels): \n",
        "    preds = [pred.strip() for pred in preds]\n",
        "    labels = [[label.strip()] for label in labels]\n",
        "    return preds, labels\n",
        "\n",
        "def compute_metrics(eval_preds):\n",
        "    preds, labels = eval_preds\n",
        "    if isinstance(preds, tuple):\n",
        "        preds = preds[0]\n",
        "    decoded_preds = tokenizer.batch_decode(preds, skip_special_tokens=True) #Convert back into words\n",
        "\n",
        "    labels = np.where(labels != -100, labels, tokenizer.pad_token_id) #Ignore padded labels added by the data collator to the test set\n",
        "    decoded_labels = tokenizer.batch_decode(labels, skip_special_tokens=True)\n",
        "\n",
        "    decoded_preds, decoded_labels = postprocess_text(decoded_preds, decoded_labels) #Remove leading and trailing spaces\n",
        "\n",
        "    result = metric.compute(predictions=decoded_preds, references=decoded_labels) #BLEU score for provided input and references\n",
        "    result = {\"bleu\": result[\"score\"]}\n",
        "\n",
        "    prediction_lens = [np.count_nonzero(pred != tokenizer.pad_token_id) for pred in preds]\n",
        "    result[\"gen_len\"] = np.mean(prediction_lens) #Compute mean prediction length\n",
        "    result = {k: round(v, 4) for k, v in result.items()} #Round score to 4dp\n",
        "    return result"
      ],
      "metadata": {
        "id": "yDeXMJbS20Ur"
      },
      "execution_count": null,
      "outputs": []
    },
    {
      "cell_type": "code",
      "source": [
        "#Ready to download model\n",
        "from transformers import AutoModelForSeq2SeqLM, Seq2SeqTrainingArguments, Seq2SeqTrainer\n",
        "model = AutoModelForSeq2SeqLM.from_pretrained(checkpoint) #Model is 242MB in size"
      ],
      "metadata": {
        "id": "PnAorDTD20Wh"
      },
      "execution_count": null,
      "outputs": []
    },
    {
      "cell_type": "code",
      "source": [
        "training_args = Seq2SeqTrainingArguments( #Collects hyperparameters\n",
        "    output_dir=\"test_t5_small_example_2\",\n",
        "    evaluation_strategy=\"epoch\", #Evaluates at the end of each epoch\n",
        "    learning_rate=2e-5, #Initial learning rate for AdamW\n",
        "    per_device_train_batch_size=16, #Minibatch learning\n",
        "    per_device_eval_batch_size=16, #Batch size for evaluation\n",
        "    weight_decay=0.01, #Weight decay for loss computation; Loss = Loss + WD * sum (weights squared)\n",
        "    save_total_limit=3, #Number of checkpoints to save\n",
        "    num_train_epochs=2,\n",
        "    predict_with_generate=True, #Use with ROUGE/BLEU and other translation metrics (see below)\n",
        "    fp16=True, #Remove fp16 = True if not using CUDA\n",
        "    push_to_hub=True,\n",
        ")\n",
        "\n",
        "trainer = Seq2SeqTrainer( #Saves us from writing our own training loops\n",
        "    model=model,\n",
        "    args=training_args,\n",
        "    train_dataset=tokenized_books[\"train\"],\n",
        "    eval_dataset=tokenized_books[\"test\"],\n",
        "    tokenizer=tokenizer,\n",
        "    data_collator=data_collator,\n",
        "    compute_metrics=compute_metrics,\n",
        ")\n",
        "\n",
        "#However, these metrics require that we generate some text with the model rather than a single forward pass as with e.g. classification. \n",
        "#The Seq2SeqTrainer allows for the use of the generate method when setting predict_with_generate=True which will generate text for each sample in the evaluation set. \n",
        "#That means we evaluate generated text within the compute_metric function. We just need to decode the predictions and labels first."
      ],
      "metadata": {
        "id": "66fhTPq3274f"
      },
      "execution_count": null,
      "outputs": []
    },
    {
      "cell_type": "code",
      "source": [
        "trainer.train()"
      ],
      "metadata": {
        "id": "Cisf0vrc29rL"
      },
      "execution_count": null,
      "outputs": []
    },
    {
      "cell_type": "code",
      "source": [
        "trainer.push_to_hub()"
      ],
      "metadata": {
        "id": "IKDzUQp55KSX"
      },
      "execution_count": null,
      "outputs": []
    },
    {
      "cell_type": "code",
      "source": [
        "text = \"translate English to French: Legumes share resources with nitrogen-fixing bacteria.\""
      ],
      "metadata": {
        "id": "79ioyHo-IVSd"
      },
      "execution_count": null,
      "outputs": []
    },
    {
      "cell_type": "code",
      "source": [
        "from transformers import pipeline\n",
        "\n",
        "translator = pipeline(\"translation\", model=\"test_t5_small_example_2\")\n",
        "translator(text)"
      ],
      "metadata": {
        "id": "C2OBqjxCN1BN"
      },
      "execution_count": null,
      "outputs": []
    }
  ]
}
{
 "cells": [
  {
   "cell_type": "markdown",
   "id": "d2918b4c-77b4-4ea7-8d9e-da334f676b8c",
   "metadata": {},
   "source": [
    "## Google Translate Evaluation\n",
    "We've already obtained predictions from Google Translate for all test sentences using document translate (due to API restrictions), and we'll calculate the BLEU and CHRF++ scores."
   ]
  },
  {
   "cell_type": "code",
   "execution_count": 1,
   "id": "29f6f78a-d2c4-45a2-b501-65a88e5ddad2",
   "metadata": {},
   "outputs": [
    {
     "name": "stderr",
     "output_type": "stream",
     "text": [
      "[nltk_data] Downloading package wordnet to\n",
      "[nltk_data]     C:\\Users\\ethan\\AppData\\Roaming\\nltk_data...\n",
      "[nltk_data]   Package wordnet is already up-to-date!\n",
      "[nltk_data] Downloading package punkt to\n",
      "[nltk_data]     C:\\Users\\ethan\\AppData\\Roaming\\nltk_data...\n",
      "[nltk_data]   Package punkt is already up-to-date!\n",
      "[nltk_data] Downloading package omw-1.4 to\n",
      "[nltk_data]     C:\\Users\\ethan\\AppData\\Roaming\\nltk_data...\n",
      "[nltk_data]   Package omw-1.4 is already up-to-date!\n"
     ]
    }
   ],
   "source": [
    "import evaluate\n",
    "bleu = evaluate.load(\"sacrebleu\")\n",
    "chrf = evaluate.load(\"chrf\")\n",
    "ter = evaluate.load(\"ter\")\n",
    "meteor = evaluate.load('meteor')"
   ]
  },
  {
   "cell_type": "code",
   "execution_count": 2,
   "id": "69fc63ec-b016-4752-a292-1a5346d94241",
   "metadata": {},
   "outputs": [],
   "source": [
    "f =  open(\"wmt22test_GT_pred.txt\", 'r', encoding = 'utf-8')\n",
    "preds = [line.strip() for line in f.readlines()]\n",
    "f.close()"
   ]
  },
  {
   "cell_type": "code",
   "execution_count": 3,
   "id": "f4698dbf-b102-41f0-a440-c0d396e267d1",
   "metadata": {},
   "outputs": [],
   "source": [
    "f = open(\"../wmt22gold.txt\", 'r', encoding = 'utf-8')\n",
    "refs = [line.strip() for line in f.readlines()]\n",
    "f.close()"
   ]
  },
  {
   "cell_type": "code",
   "execution_count": 4,
   "id": "2e3597aa-dd0b-4f0c-aeff-a6dcde1da275",
   "metadata": {},
   "outputs": [
    {
     "name": "stdout",
     "output_type": "stream",
     "text": [
      "{'bleu': 37.71083868102032}\n"
     ]
    }
   ],
   "source": [
    "result = bleu.compute(predictions = preds, references = refs) #BLEU score for provided input and references\n",
    "result = {\"bleu\": result[\"score\"]}\n",
    "print(result)"
   ]
  },
  {
   "cell_type": "code",
   "execution_count": 5,
   "id": "d28edc6e-99a3-4952-889a-c6b67e7b1a09",
   "metadata": {},
   "outputs": [
    {
     "name": "stdout",
     "output_type": "stream",
     "text": [
      "{'score': 55.03599555068688, 'char_order': 6, 'word_order': 2, 'beta': 2}\n"
     ]
    }
   ],
   "source": [
    "result = chrf.compute(predictions = preds, references = refs, word_order = 2) #Include word bigrams for CHRF++\n",
    "print(result)"
   ]
  },
  {
   "cell_type": "code",
   "execution_count": 6,
   "id": "d5f76d6f-c8ab-4af3-ba85-f5d2f511f0c9",
   "metadata": {},
   "outputs": [
    {
     "name": "stdout",
     "output_type": "stream",
     "text": [
      "{'ter': 66.47560559535994}\n"
     ]
    }
   ],
   "source": [
    "result = ter.compute(predictions = preds, references = refs, case_sensitive = True) #Casing is important - treat as an edit error\n",
    "result = {\"ter\": result[\"score\"]}\n",
    "print(result)"
   ]
  },
  {
   "cell_type": "code",
   "execution_count": 7,
   "id": "66acdb4f-1c0a-466c-9787-14921bdde8e7",
   "metadata": {},
   "outputs": [
    {
     "name": "stdout",
     "output_type": "stream",
     "text": [
      "{'meteor': 0.5131336333440303}\n"
     ]
    }
   ],
   "source": [
    "result = meteor.compute(predictions = preds, references = refs)\n",
    "print(result)"
   ]
  }
 ],
 "metadata": {
  "kernelspec": {
   "display_name": "Python 3 (ipykernel)",
   "language": "python",
   "name": "python3"
  },
  "language_info": {
   "codemirror_mode": {
    "name": "ipython",
    "version": 3
   },
   "file_extension": ".py",
   "mimetype": "text/x-python",
   "name": "python",
   "nbconvert_exporter": "python",
   "pygments_lexer": "ipython3",
   "version": "3.10.11"
  }
 },
 "nbformat": 4,
 "nbformat_minor": 5
}

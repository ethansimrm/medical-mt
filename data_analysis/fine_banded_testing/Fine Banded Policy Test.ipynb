{
 "cells": [
  {
   "cell_type": "markdown",
   "id": "615e78db-4ac8-4206-a989-fd60989e40aa",
   "metadata": {},
   "source": [
    "# Fine-Banded Policy Testing\n",
    "\n",
    "Just checking to see if the log-then-round option is feasible."
   ]
  },
  {
   "cell_type": "code",
   "execution_count": 1,
   "id": "a8e417cf-038e-4476-bc6f-0f47bb6171a7",
   "metadata": {},
   "outputs": [],
   "source": [
    "import pandas as pd\n",
    "gloss_base_freq = pd.read_csv(\"gloss_base_freq.txt\", sep = \"\\t\", header = None, names = [\"token\", \"frequency\"])\n",
    "gloss_big_freq = pd.read_csv(\"gloss_big_freq.txt\", sep = \"\\t\", header = None, names = [\"token\", \"frequency\"])"
   ]
  },
  {
   "cell_type": "code",
   "execution_count": 4,
   "id": "b06d26b8-22dd-47d5-96ff-d882cc7b7bc6",
   "metadata": {},
   "outputs": [
    {
     "data": {
      "text/html": [
       "<div>\n",
       "<style scoped>\n",
       "    .dataframe tbody tr th:only-of-type {\n",
       "        vertical-align: middle;\n",
       "    }\n",
       "\n",
       "    .dataframe tbody tr th {\n",
       "        vertical-align: top;\n",
       "    }\n",
       "\n",
       "    .dataframe thead th {\n",
       "        text-align: right;\n",
       "    }\n",
       "</style>\n",
       "<table border=\"1\" class=\"dataframe\">\n",
       "  <thead>\n",
       "    <tr style=\"text-align: right;\">\n",
       "      <th></th>\n",
       "      <th>token</th>\n",
       "      <th>frequency</th>\n",
       "    </tr>\n",
       "  </thead>\n",
       "  <tbody>\n",
       "    <tr>\n",
       "      <th>586</th>\n",
       "      <td>6822</td>\n",
       "      <td>0.0</td>\n",
       "    </tr>\n",
       "    <tr>\n",
       "      <th>863</th>\n",
       "      <td>47895</td>\n",
       "      <td>0.0</td>\n",
       "    </tr>\n",
       "    <tr>\n",
       "      <th>872</th>\n",
       "      <td>27115</td>\n",
       "      <td>0.0</td>\n",
       "    </tr>\n",
       "    <tr>\n",
       "      <th>1179</th>\n",
       "      <td>49094</td>\n",
       "      <td>0.0</td>\n",
       "    </tr>\n",
       "    <tr>\n",
       "      <th>1899</th>\n",
       "      <td>33556</td>\n",
       "      <td>0.0</td>\n",
       "    </tr>\n",
       "    <tr>\n",
       "      <th>1920</th>\n",
       "      <td>40358</td>\n",
       "      <td>0.0</td>\n",
       "    </tr>\n",
       "    <tr>\n",
       "      <th>2073</th>\n",
       "      <td>4366</td>\n",
       "      <td>0.0</td>\n",
       "    </tr>\n",
       "    <tr>\n",
       "      <th>3091</th>\n",
       "      <td>15028</td>\n",
       "      <td>0.0</td>\n",
       "    </tr>\n",
       "    <tr>\n",
       "      <th>3308</th>\n",
       "      <td>35703</td>\n",
       "      <td>0.0</td>\n",
       "    </tr>\n",
       "    <tr>\n",
       "      <th>3648</th>\n",
       "      <td>15821</td>\n",
       "      <td>0.0</td>\n",
       "    </tr>\n",
       "    <tr>\n",
       "      <th>3709</th>\n",
       "      <td>9287</td>\n",
       "      <td>0.0</td>\n",
       "    </tr>\n",
       "    <tr>\n",
       "      <th>4095</th>\n",
       "      <td>43114</td>\n",
       "      <td>0.0</td>\n",
       "    </tr>\n",
       "    <tr>\n",
       "      <th>4178</th>\n",
       "      <td>22606</td>\n",
       "      <td>0.0</td>\n",
       "    </tr>\n",
       "    <tr>\n",
       "      <th>4258</th>\n",
       "      <td>32640</td>\n",
       "      <td>0.0</td>\n",
       "    </tr>\n",
       "    <tr>\n",
       "      <th>4359</th>\n",
       "      <td>32644</td>\n",
       "      <td>0.0</td>\n",
       "    </tr>\n",
       "    <tr>\n",
       "      <th>4360</th>\n",
       "      <td>49068</td>\n",
       "      <td>0.0</td>\n",
       "    </tr>\n",
       "    <tr>\n",
       "      <th>4366</th>\n",
       "      <td>19112</td>\n",
       "      <td>0.0</td>\n",
       "    </tr>\n",
       "    <tr>\n",
       "      <th>4406</th>\n",
       "      <td>8113</td>\n",
       "      <td>0.0</td>\n",
       "    </tr>\n",
       "    <tr>\n",
       "      <th>4939</th>\n",
       "      <td>38892</td>\n",
       "      <td>0.0</td>\n",
       "    </tr>\n",
       "    <tr>\n",
       "      <th>5064</th>\n",
       "      <td>34518</td>\n",
       "      <td>0.0</td>\n",
       "    </tr>\n",
       "    <tr>\n",
       "      <th>5262</th>\n",
       "      <td>42681</td>\n",
       "      <td>0.0</td>\n",
       "    </tr>\n",
       "  </tbody>\n",
       "</table>\n",
       "</div>"
      ],
      "text/plain": [
       "      token  frequency\n",
       "586    6822        0.0\n",
       "863   47895        0.0\n",
       "872   27115        0.0\n",
       "1179  49094        0.0\n",
       "1899  33556        0.0\n",
       "1920  40358        0.0\n",
       "2073   4366        0.0\n",
       "3091  15028        0.0\n",
       "3308  35703        0.0\n",
       "3648  15821        0.0\n",
       "3709   9287        0.0\n",
       "4095  43114        0.0\n",
       "4178  22606        0.0\n",
       "4258  32640        0.0\n",
       "4359  32644        0.0\n",
       "4360  49068        0.0\n",
       "4366  19112        0.0\n",
       "4406   8113        0.0\n",
       "4939  38892        0.0\n",
       "5064  34518        0.0\n",
       "5262  42681        0.0"
      ]
     },
     "execution_count": 4,
     "metadata": {},
     "output_type": "execute_result"
    }
   ],
   "source": [
    "gloss_base_freq[gloss_base_freq[\"frequency\"] == 0]\n",
    "#gloss_big_freq[gloss_big_freq[\"frequency\"] == 0]"
   ]
  },
  {
   "cell_type": "code",
   "execution_count": 2,
   "id": "0ea7b190-ee52-46a4-a3e3-f6aa37542e2f",
   "metadata": {},
   "outputs": [],
   "source": [
    "#Kick out zeroes to avoid runtime divide by zero errors\n",
    "gloss_base_freq = gloss_base_freq[gloss_base_freq[\"frequency\"] > 0]\n",
    "gloss_big_freq = gloss_big_freq[gloss_big_freq[\"frequency\"] > 0]"
   ]
  },
  {
   "cell_type": "code",
   "execution_count": 3,
   "id": "ad092628-c790-40e5-8615-1a2244c87bac",
   "metadata": {},
   "outputs": [],
   "source": [
    "import numpy as np\n",
    "gloss_base_freq[\"log_freq\"] = np.log(gloss_base_freq[\"frequency\"])\n",
    "gloss_big_freq[\"log_freq\"] = np.log(gloss_big_freq[\"frequency\"])"
   ]
  },
  {
   "cell_type": "code",
   "execution_count": 4,
   "id": "a5ab1b19-dad1-4f9f-9271-6e2c53a3f71d",
   "metadata": {},
   "outputs": [],
   "source": [
    "gloss_base_freq[\"lf_round_10\"] = round(gloss_base_freq[\"log_freq\"] / 10) * 10 #Too coarse - just 3 bands.\n",
    "gloss_base_freq[\"lf_round_0\"] = round(gloss_base_freq[\"log_freq\"])\n",
    "gloss_base_freq[\"lf_round_1\"] = round(gloss_base_freq[\"log_freq\"], 1)\n",
    "gloss_base_freq[\"lf_round_2\"] = round(gloss_base_freq[\"log_freq\"], 2)\n",
    "gloss_base_freq[\"lf_round_3\"] = round(gloss_base_freq[\"log_freq\"], 3) #Very minute differences but pronounced towards the higher-frequency tokens. May be worthwhile."
   ]
  },
  {
   "cell_type": "code",
   "execution_count": 5,
   "id": "bde2a13c-8f63-4ddd-a8f5-cd959fe15e7a",
   "metadata": {},
   "outputs": [],
   "source": [
    "gloss_base_freq = gloss_base_freq.sort_values(by = [\"log_freq\"])"
   ]
  },
  {
   "cell_type": "code",
   "execution_count": 6,
   "id": "ca8ce926-2f33-49e7-a95d-8f0e2a731049",
   "metadata": {},
   "outputs": [],
   "source": [
    "gloss_base_freq.to_csv(\"base_inspect.txt\", sep = \"\\t\", header = False, index = False)"
   ]
  },
  {
   "cell_type": "code",
   "execution_count": 7,
   "id": "95062e9f-059e-430f-b4a3-41ef1813eb6c",
   "metadata": {},
   "outputs": [],
   "source": [
    "gloss_big_freq[\"lf_round_10\"] = round(gloss_big_freq[\"log_freq\"] / 10) * 10 #Too coarse - just 3 bands.\n",
    "gloss_big_freq[\"lf_round_0\"] = round(gloss_big_freq[\"log_freq\"])\n",
    "gloss_big_freq[\"lf_round_1\"] = round(gloss_big_freq[\"log_freq\"], 1)\n",
    "gloss_big_freq[\"lf_round_2\"] = round(gloss_big_freq[\"log_freq\"], 2)\n",
    "gloss_big_freq[\"lf_round_3\"] = round(gloss_big_freq[\"log_freq\"], 3) #Very minute differences but pronounced towards the higher-frequency tokens. May be worthwhile.\n",
    "gloss_big_freq = gloss_big_freq.sort_values(by = [\"log_freq\"])\n",
    "gloss_big_freq.to_csv(\"big_inspect.txt\", sep = \"\\t\", header = False, index = False)"
   ]
  }
 ],
 "metadata": {
  "kernelspec": {
   "display_name": "Python 3 (ipykernel)",
   "language": "python",
   "name": "python3"
  },
  "language_info": {
   "codemirror_mode": {
    "name": "ipython",
    "version": 3
   },
   "file_extension": ".py",
   "mimetype": "text/x-python",
   "name": "python",
   "nbconvert_exporter": "python",
   "pygments_lexer": "ipython3",
   "version": "3.10.11"
  }
 },
 "nbformat": 4,
 "nbformat_minor": 5
}

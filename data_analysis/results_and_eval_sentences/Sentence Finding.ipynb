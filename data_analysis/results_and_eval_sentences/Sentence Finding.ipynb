{
 "cells": [
  {
   "cell_type": "markdown",
   "id": "5c16a4e8-fcfe-460b-998f-930e140892a3",
   "metadata": {},
   "source": [
    "# Sentence Finding\n",
    "\n",
    "Our task is to find a suitable sentence to illustrate how our method does better than our five baselines. This will support our summary statistics. While it will obviously do better in some sentences and worse in others, we wish to find a representative sentence showing how it does better, and potentially highlighting any issues with our metric to the reader."
   ]
  },
  {
   "cell_type": "code",
   "execution_count": 4,
   "id": "4d2e1646-d1b2-430a-8c6e-a3da6d430beb",
   "metadata": {},
   "outputs": [],
   "source": [
    "from os import listdir\n",
    "from os.path import isfile, join\n",
    "base_path = \"opus_base/best_results\"\n",
    "big_path = \"opus_big/best_results\"\n",
    "base_files = [join(base_path, f) for f in listdir(base_path) if isfile(join(base_path, f))] \n",
    "big_files = [join(big_path, f) for f in listdir(big_path) if isfile(join(big_path, f))]"
   ]
  },
  {
   "cell_type": "code",
   "execution_count": 28,
   "id": "deb16ba8-f588-43a3-bf22-4df19c7d1850",
   "metadata": {},
   "outputs": [],
   "source": [
    "base_files = [base_files[0], base_files[2], base_files[3], base_files[5], base_files[1], base_files[4]]"
   ]
  },
  {
   "cell_type": "code",
   "execution_count": 31,
   "id": "2a858b81-06cf-4f24-994b-afbae633284c",
   "metadata": {},
   "outputs": [],
   "source": [
    "big_files = [big_files[0], big_files[2], big_files[3], big_files[4], big_files[1], big_files[5]]"
   ]
  },
  {
   "cell_type": "code",
   "execution_count": 29,
   "id": "5bde91cd-adc2-4e12-8e89-628bad886531",
   "metadata": {},
   "outputs": [
    {
     "data": {
      "text/plain": [
       "['opus_base/best_results\\\\opus-mt-en-fr_onto_output.txt',\n",
       " 'opus_base/best_results\\\\opus_wmt_finetuned_enfr_hpc_onto_output.txt',\n",
       " 'opus_base/best_results\\\\opus_wmt_finetuned_enfr_wang_2022_onto_output.txt',\n",
       " 'opus_base/best_results\\\\opus_wmt_finetuned_enfr_wu_2022_onto_output.txt',\n",
       " 'opus_base/best_results\\\\opus_wmt_finetuned_enfr_choi_2022_onto_output.txt',\n",
       " 'opus_base/best_results\\\\opus_wmt_finetuned_enfr_wce_onto_output.txt']"
      ]
     },
     "execution_count": 29,
     "metadata": {},
     "output_type": "execute_result"
    }
   ],
   "source": [
    "base_files"
   ]
  },
  {
   "cell_type": "code",
   "execution_count": 32,
   "id": "a959da02-7723-4240-b89a-146b11f92348",
   "metadata": {},
   "outputs": [
    {
     "data": {
      "text/plain": [
       "['opus_big/best_results\\\\opus-mt-tc-big-en-fr_onto_output.txt',\n",
       " 'opus_big/best_results\\\\opus_big_enfr_FT_onto_output.txt',\n",
       " 'opus_big/best_results\\\\opus_big_enfr_FT_wang_2022_onto_output.txt',\n",
       " 'opus_big/best_results\\\\opus_big_enfr_FT_wu_2022_onto_output.txt',\n",
       " 'opus_big/best_results\\\\opus_big_enfr_FT_choi_2022_onto_output.txt',\n",
       " 'opus_big/best_results\\\\opus_big_fine_freq_wce_unsampled_onto_output.txt']"
      ]
     },
     "execution_count": 32,
     "metadata": {},
     "output_type": "execute_result"
    }
   ],
   "source": [
    "big_files"
   ]
  },
  {
   "cell_type": "code",
   "execution_count": 33,
   "id": "558e7431-d9d5-4e34-a2db-822c3cc2c149",
   "metadata": {},
   "outputs": [],
   "source": [
    "#Find sentence with highest number of true positives\n",
    "import pandas as pd\n",
    "base_dataframes = []\n",
    "big_dataframes = []\n",
    "for filename in base_files:\n",
    "    name = filename.replace(\"opus_base/best_results\\\\\", \"\").replace(\"_onto_output.txt\", \"\")\n",
    "    df = pd.read_csv(filename, sep = \"\\t\")\n",
    "    df = df[[\"sent_ID\", \"true_positives\"]]\n",
    "    (df_grouped_tp, tag) = (df.groupby([\"sent_ID\"], group_keys=False).sum(), name)\n",
    "    base_dataframes.append((df_grouped_tp, tag))"
   ]
  },
  {
   "cell_type": "code",
   "execution_count": 34,
   "id": "c75a624c-746e-47e8-b45f-f2a4bd2e1ef1",
   "metadata": {},
   "outputs": [
    {
     "data": {
      "text/plain": [
       "(         true_positives\n",
       " sent_ID                \n",
       " 0                     1\n",
       " 1                     0\n",
       " 2                     1\n",
       " 3                     1\n",
       " 4                     2\n",
       " ...                 ...\n",
       " 582                   3\n",
       " 584                   3\n",
       " 585                   1\n",
       " 586                   3\n",
       " 587                   3\n",
       " \n",
       " [559 rows x 1 columns],\n",
       " 'opus-mt-en-fr')"
      ]
     },
     "execution_count": 34,
     "metadata": {},
     "output_type": "execute_result"
    }
   ],
   "source": [
    "base_dataframes[0]"
   ]
  },
  {
   "cell_type": "code",
   "execution_count": 35,
   "id": "6f6a6199-e230-4ef3-b478-35efa5cdc2a5",
   "metadata": {},
   "outputs": [],
   "source": [
    "first_df = base_dataframes[0][0].rename(columns={\"sent_ID\": \"sent_ID\", \"true_positives\": \"tp_\" + base_dataframes[0][1]})\n",
    "first_df\n",
    "for tup in base_dataframes[1:]:\n",
    "    first_df[\"tp_\" + tup[1]] = tup[0][\"true_positives\"].astype({\"true_positives\" : int})"
   ]
  },
  {
   "cell_type": "code",
   "execution_count": 37,
   "id": "77cb0377-ce3a-4f01-ade0-692fab915712",
   "metadata": {},
   "outputs": [],
   "source": [
    "first_df.to_csv(\"opus_base_collated_tp.txt\", sep = \"\\t\")\n",
    "#Sentence ID 324 seems promising."
   ]
  },
  {
   "cell_type": "code",
   "execution_count": 38,
   "id": "2a76de75-7105-4b4e-aca2-5c7b7032938b",
   "metadata": {},
   "outputs": [],
   "source": [
    "for filename in big_files:\n",
    "    name = filename.replace(\"opus_big/best_results\\\\\", \"\").replace(\"_onto_output.txt\", \"\")\n",
    "    df = pd.read_csv(filename, sep = \"\\t\")\n",
    "    df = df[[\"sent_ID\", \"true_positives\"]]\n",
    "    (df_grouped_tp, tag) = (df.groupby([\"sent_ID\"], group_keys=False).sum(), name)\n",
    "    big_dataframes.append((df_grouped_tp, tag))"
   ]
  },
  {
   "cell_type": "code",
   "execution_count": 39,
   "id": "08aea23e-a5d4-4ff6-8a20-b25b810b5733",
   "metadata": {},
   "outputs": [],
   "source": [
    "first_df = big_dataframes[0][0].rename(columns={\"sent_ID\": \"sent_ID\", \"true_positives\": \"tp_\" + big_dataframes[0][1]})\n",
    "first_df\n",
    "for tup in big_dataframes[1:]:\n",
    "    first_df[\"tp_\" + tup[1]] = tup[0][\"true_positives\"].astype({\"true_positives\" : int})"
   ]
  },
  {
   "cell_type": "code",
   "execution_count": 40,
   "id": "281faeb9-194f-4076-9454-bfbfcd9469dd",
   "metadata": {},
   "outputs": [],
   "source": [
    "first_df.to_csv(\"opus_big_collated_tp.txt\", sep = \"\\t\")\n",
    "#TO CHECK LATER"
   ]
  },
  {
   "cell_type": "markdown",
   "id": "33916a4d-7424-4d0d-9b0a-3189873ac453",
   "metadata": {},
   "source": [
    "Now that we've gathered our true positive data (so we can find the best sentences to display), let's set up our annotator."
   ]
  },
  {
   "cell_type": "code",
   "execution_count": 41,
   "id": "2c213d80-8bb3-43f1-8c60-c95d1e7d8eda",
   "metadata": {},
   "outputs": [],
   "source": [
    "import urllib.request, urllib.error, urllib.parse\n",
    "import json\n",
    "REST_URL = \"https://services.bioportal.lirmm.fr\"\n",
    "API_KEY = \"97be3b10-804a-4c98-9407-05caf1629ebb\"\n",
    "ONTO_SELECTED = \"&ontologies=CISP-2,SNOMED35VF,CIF,WHO-ARTFRE,STY,ATCFRE,CIM-11,MEDLINEPLUS,MTHMSTFRE,MSHFRE,MDRFRE\" #All French UMLS and SNOMED 3.5 ontologies\n",
    "OPTIONS_1 = \"&longest_only=true&exclude_numbers=false&whole_word_only=true&exclude_synonyms=false&expand_mappings=false&fast_context=false&certainty=false\" #Match longest only because we want the whole concept, not the parts\n",
    "OPTIONS_2 = \"&temporality=false&experiencer=false&negation=false&lemmatize=false&score_threshold=0&confidence_threshold=0&display_links=false&display_context=false\"\n",
    "#We wanted to use fast_context, but this ran into several problems parsing punctuation. We'll leave this for future work.\n",
    "PREFERENCE_STRING = ONTO_SELECTED + OPTIONS_1 + OPTIONS_2\n",
    "\n",
    "def get_json(url):\n",
    "    opener = urllib.request.build_opener()\n",
    "    opener.addheaders = [('Authorization', 'apikey token=' + API_KEY)]\n",
    "    return json.loads(opener.open(url).read())"
   ]
  },
  {
   "cell_type": "code",
   "execution_count": 54,
   "id": "c1904551-2c46-48c8-9c4d-cbb4009af5ff",
   "metadata": {},
   "outputs": [],
   "source": [
    "def annotate_sentence(sentence):\n",
    "    sentence = sentence.replace(\"%\", \" pour cent \")\n",
    "    annotations = get_json(REST_URL + \"/annotator?text=\" + urllib.parse.quote(sentence) + PREFERENCE_STRING)\n",
    "    found = set()\n",
    "    for result in annotations:\n",
    "        tag_loc = (result[\"annotations\"][0][\"from\"], result[\"annotations\"][0][\"to\"]) \n",
    "        if (tag_loc not in found):\n",
    "            print(result[\"annotatedClass\"]['prefLabel'])\n",
    "            print(result['annotations'])\n",
    "            found.add(tag_loc)"
   ]
  },
  {
   "cell_type": "markdown",
   "id": "6fc08910-c39b-47b3-9e0b-4372b89eaff5",
   "metadata": {},
   "source": [
    "Finally, let's gather the identified sentences for annotation."
   ]
  },
  {
   "cell_type": "code",
   "execution_count": 70,
   "id": "9b897c4c-1c93-4d52-8676-989d17608d5a",
   "metadata": {},
   "outputs": [],
   "source": [
    "base_pred_path = \"opus_base/best_preds\"\n",
    "big_pred_path = \"opus_big/best_preds\"\n",
    "base_pred_files = [join(base_pred_path, f) for f in listdir(base_pred_path) if isfile(join(base_pred_path, f))] \n",
    "big_pred_files = [join(big_pred_path, f) for f in listdir(big_pred_path) if isfile(join(big_pred_path, f))]"
   ]
  },
  {
   "cell_type": "code",
   "execution_count": 71,
   "id": "25a2b0f7-dd76-407c-bf19-fd1e77b357d3",
   "metadata": {},
   "outputs": [],
   "source": [
    "base_pred_files = [base_pred_files[0], base_pred_files[2], base_pred_files[3], base_pred_files[5], base_pred_files[1], base_pred_files[4]]\n",
    "big_pred_files = [big_pred_files[0], big_pred_files[2], big_pred_files[3], big_pred_files[4], big_pred_files[1], big_pred_files[5]]"
   ]
  },
  {
   "cell_type": "code",
   "execution_count": 72,
   "id": "78d94e4e-3336-40ca-ab78-a808a5d4d228",
   "metadata": {},
   "outputs": [],
   "source": [
    "#Order: Source, Ref, Baseline, FT, Wang, Wu, Choi, Best_WCE\n",
    "base_sentence_files = [\"wmt22test.txt\", \"wmt22gold.txt\"] + base_pred_files\n",
    "big_sentence_files = [\"wmt22test.txt\", \"wmt22gold.txt\"] + big_pred_files"
   ]
  },
  {
   "cell_type": "code",
   "execution_count": 90,
   "id": "ba8343a4-da8f-4430-89d4-a9623ab006c9",
   "metadata": {},
   "outputs": [],
   "source": [
    "def get_sentences(filenames, sentNum):\n",
    "    for idx, file in enumerate(filenames):\n",
    "        name = file.replace(\"opus_base/best_preds\\\\\", \"\").replace(\"_pred.txt\", \"\")\n",
    "        f = open(file, \"r\", encoding = \"utf8\")\n",
    "        chosen = f.readlines()[sentNum]\n",
    "        print(name + \" : \" + chosen)\n",
    "        if(idx != 0):\n",
    "            annotate_sentence(chosen)\n",
    "        print(\"\\n\")\n",
    "        f.close()"
   ]
  },
  {
   "cell_type": "code",
   "execution_count": 98,
   "id": "531d0440-268d-40c1-8d0b-6ca948d19445",
   "metadata": {
    "scrolled": true
   },
   "outputs": [
    {
     "name": "stdout",
     "output_type": "stream",
     "text": [
      "wmt22test.txt : All patients who underwent TAVI in the time period 2007-2017 with preoperative computed tomography were included.\n",
      "\n",
      "\n",
      "\n",
      "wmt22gold.txt : Tous les patients ayant subi une IVAC avec tomodensitométrie préopératoire au cours de la période 2007-2017 ont été inclus.\n",
      "\n",
      "Patients\n",
      "[{'from': 10, 'to': 17, 'matchType': 'PREF', 'text': 'PATIENTS'}]\n",
      "Remplacement valvulaire aortique par cathéter\n",
      "[{'from': 34, 'to': 37, 'matchType': 'SYN', 'text': 'IVAC'}]\n",
      "Tomodensitométrie\n",
      "[{'from': 44, 'to': 60, 'matchType': 'PREF', 'text': 'TOMODENSITOMÉTRIE'}]\n",
      "Cours\n",
      "[{'from': 79, 'to': 83, 'matchType': 'PREF', 'text': 'COURS'}]\n",
      "Période\n",
      "[{'from': 91, 'to': 97, 'matchType': 'PREF', 'text': 'PÉRIODE'}]\n",
      "inclus\n",
      "[{'from': 117, 'to': 122, 'matchType': 'PREF', 'text': 'INCLUS'}]\n",
      "\n",
      "\n",
      "opus-mt-en-fr : Tous les patients ayant subi un TAVI au cours de la période 2007-2017 avec tomographie préopératoire ont été inclus.\n",
      "\n",
      "Patients\n",
      "[{'from': 10, 'to': 17, 'matchType': 'PREF', 'text': 'PATIENTS'}]\n",
      "TAVI\n",
      "[{'from': 33, 'to': 36, 'matchType': 'PREF', 'text': 'TAVI'}]\n",
      "Cours\n",
      "[{'from': 41, 'to': 45, 'matchType': 'PREF', 'text': 'COURS'}]\n",
      "Période\n",
      "[{'from': 53, 'to': 59, 'matchType': 'PREF', 'text': 'PÉRIODE'}]\n",
      "Tomographie\n",
      "[{'from': 76, 'to': 86, 'matchType': 'PREF', 'text': 'TOMOGRAPHIE'}]\n",
      "inclus\n",
      "[{'from': 110, 'to': 115, 'matchType': 'PREF', 'text': 'INCLUS'}]\n",
      "\n",
      "\n",
      "opus_wmt_finetuned_enfr_hpc : Tous les patients ayant subi un TAVI entre 2007 et 2017 avec une tomodensitométrie préopératoire ont été inclus.\n",
      "\n",
      "Patients\n",
      "[{'from': 10, 'to': 17, 'matchType': 'PREF', 'text': 'PATIENTS'}]\n",
      "TAVI\n",
      "[{'from': 33, 'to': 36, 'matchType': 'PREF', 'text': 'TAVI'}]\n",
      "entre\n",
      "[{'from': 38, 'to': 42, 'matchType': 'PREF', 'text': 'ENTRE'}]\n",
      "Tomodensitométrie\n",
      "[{'from': 66, 'to': 82, 'matchType': 'PREF', 'text': 'TOMODENSITOMÉTRIE'}]\n",
      "inclus\n",
      "[{'from': 106, 'to': 111, 'matchType': 'PREF', 'text': 'INCLUS'}]\n",
      "\n",
      "\n",
      "opus_wmt_finetuned_enfr_wang_2022 : Tous les patients ayant subi un AVC entre 2007 et 2017 avec tomodensitométrie préopératoire ont été inclus.\n",
      "\n",
      "Patients\n",
      "[{'from': 10, 'to': 17, 'matchType': 'PREF', 'text': 'PATIENTS'}]\n",
      "aVC\n",
      "[{'from': 33, 'to': 35, 'matchType': 'PREF', 'text': 'AVC'}]\n",
      "entre\n",
      "[{'from': 37, 'to': 41, 'matchType': 'PREF', 'text': 'ENTRE'}]\n",
      "Tomodensitométrie\n",
      "[{'from': 61, 'to': 77, 'matchType': 'PREF', 'text': 'TOMODENSITOMÉTRIE'}]\n",
      "inclus\n",
      "[{'from': 101, 'to': 106, 'matchType': 'PREF', 'text': 'INCLUS'}]\n",
      "\n",
      "\n",
      "opus_wmt_finetuned_enfr_wu_2022 : Tous les patients ayant subi un VAT entre 2007 et 2017 avec tomodensitométrie préopératoire ont été inclus.\n",
      "\n",
      "Patients\n",
      "[{'from': 10, 'to': 17, 'matchType': 'PREF', 'text': 'PATIENTS'}]\n",
      "entre\n",
      "[{'from': 37, 'to': 41, 'matchType': 'PREF', 'text': 'ENTRE'}]\n",
      "Tomodensitométrie\n",
      "[{'from': 61, 'to': 77, 'matchType': 'PREF', 'text': 'TOMODENSITOMÉTRIE'}]\n",
      "inclus\n",
      "[{'from': 101, 'to': 106, 'matchType': 'PREF', 'text': 'INCLUS'}]\n",
      "\n",
      "\n",
      "opus_wmt_finetuned_enfr_choi_2022 : Tous les patients ayant subi une VAT entre 2007 et 2017 avec tomodensitométrie préopératoire ont été inclus.\n",
      "\n",
      "Patients\n",
      "[{'from': 10, 'to': 17, 'matchType': 'PREF', 'text': 'PATIENTS'}]\n",
      "entre\n",
      "[{'from': 38, 'to': 42, 'matchType': 'PREF', 'text': 'ENTRE'}]\n",
      "Tomodensitométrie\n",
      "[{'from': 62, 'to': 78, 'matchType': 'PREF', 'text': 'TOMODENSITOMÉTRIE'}]\n",
      "inclus\n",
      "[{'from': 102, 'to': 107, 'matchType': 'PREF', 'text': 'INCLUS'}]\n",
      "\n",
      "\n",
      "opus_wmt_finetuned_enfr_wce : Tous les patients ayant subi un TAVI au cours de la période de 2007 à 2017 et ayant subi une tomodensitométrie préopératoire ont été inclus.\n",
      "\n",
      "Patients\n",
      "[{'from': 10, 'to': 17, 'matchType': 'PREF', 'text': 'PATIENTS'}]\n",
      "TAVI\n",
      "[{'from': 33, 'to': 36, 'matchType': 'PREF', 'text': 'TAVI'}]\n",
      "Cours\n",
      "[{'from': 41, 'to': 45, 'matchType': 'PREF', 'text': 'COURS'}]\n",
      "Période\n",
      "[{'from': 53, 'to': 59, 'matchType': 'PREF', 'text': 'PÉRIODE'}]\n",
      "Tomodensitométrie\n",
      "[{'from': 94, 'to': 110, 'matchType': 'PREF', 'text': 'TOMODENSITOMÉTRIE'}]\n",
      "inclus\n",
      "[{'from': 134, 'to': 139, 'matchType': 'PREF', 'text': 'INCLUS'}]\n",
      "\n",
      "\n"
     ]
    }
   ],
   "source": [
    "get_sentences(base_sentence_files, 324) #Final output for opus-base - focus on \"time period\" vs entre-et (\"between\") and issues with tomodensitometrie vs tomographie"
   ]
  },
  {
   "cell_type": "code",
   "execution_count": 102,
   "id": "c92aa8f7-c9ca-4590-a413-08817e254fd3",
   "metadata": {
    "scrolled": true
   },
   "outputs": [
    {
     "name": "stdout",
     "output_type": "stream",
     "text": [
      "wmt22test.txt : The objective of this study was to determine if topical florfenicol/terbinafine/mometasone furoate causes adrenocortical suppression in healthy, small-breed dogs with bilateral OE at D28 postapplication.\n",
      "\n",
      "\n",
      "\n",
      "wmt22gold.txt : L'objectif de cette étude était de déterminer si le florfénicol/terbinafine/furoate de mométasone topique provoque une suppression corticosurrénale chez des chiens sains de petite race présentant une OE bilatérale à J28 après l'application.\n",
      "\n",
      "D01AE15 - terbinafine\n",
      "[{'from': 65, 'to': 75, 'matchType': 'SYN', 'text': 'TERBINAFINE'}]\n",
      "Furoate de mométasone\n",
      "[{'from': 77, 'to': 97, 'matchType': 'PREF', 'text': 'FUROATE DE MOMÉTASONE'}]\n",
      "topique\n",
      "[{'from': 99, 'to': 105, 'matchType': 'PREF', 'text': 'TOPIQUE'}]\n",
      "Cortex surrénal\n",
      "[{'from': 132, 'to': 147, 'matchType': 'SYN', 'text': 'CORTICOSURRÉNALE'}]\n",
      "Chiens\n",
      "[{'from': 158, 'to': 163, 'matchType': 'PREF', 'text': 'CHIENS'}]\n",
      "après\n",
      "[{'from': 221, 'to': 225, 'matchType': 'PREF', 'text': 'APRÈS'}]\n",
      "Attention\n",
      "[{'from': 229, 'to': 239, 'matchType': 'SYN', 'text': 'APPLICATION'}]\n",
      "\n",
      "\n",
      "opus_big/best_preds\\opus-mt-tc-big-en-fr : L'objectif de cette étude était de déterminer si le furoate de florfénicol/terbinafine/mométasone topique provoque une suppression surrénale chez les chiens de petite race en bonne santé présentant une OE bilatérale au J28 après application.\n",
      "\n",
      "D01AE15 - terbinafine\n",
      "[{'from': 76, 'to': 86, 'matchType': 'SYN', 'text': 'TERBINAFINE'}]\n",
      "D07AC13 - mométasone\n",
      "[{'from': 88, 'to': 97, 'matchType': 'SYN', 'text': 'MOMÉTASONE'}]\n",
      "topique\n",
      "[{'from': 99, 'to': 105, 'matchType': 'PREF', 'text': 'TOPIQUE'}]\n",
      "Glandes surrénales\n",
      "[{'from': 132, 'to': 140, 'matchType': 'SYN', 'text': 'SURRÉNALE'}]\n",
      "Chiens\n",
      "[{'from': 151, 'to': 156, 'matchType': 'PREF', 'text': 'CHIENS'}]\n",
      "en bonne santé\n",
      "[{'from': 173, 'to': 186, 'matchType': 'PREF', 'text': 'EN BONNE SANTÉ'}]\n",
      "après\n",
      "[{'from': 224, 'to': 228, 'matchType': 'PREF', 'text': 'APRÈS'}]\n",
      "Attention\n",
      "[{'from': 230, 'to': 240, 'matchType': 'SYN', 'text': 'APPLICATION'}]\n",
      "\n",
      "\n",
      "opus_big/best_preds\\opus_big_enfr_FT : L’objectif de la présente étude était de déterminer si le furoate de florfénicol/terbinafine/mométasone topique causait une suppression corticosurrénalienne chez des chiens de petite race en santé avec une OE bilatérale à J28 post-application.\n",
      "\n",
      "D01AE15 - terbinafine\n",
      "[{'from': 82, 'to': 92, 'matchType': 'SYN', 'text': 'TERBINAFINE'}]\n",
      "D07AC13 - mométasone\n",
      "[{'from': 94, 'to': 103, 'matchType': 'SYN', 'text': 'MOMÉTASONE'}]\n",
      "topique\n",
      "[{'from': 105, 'to': 111, 'matchType': 'PREF', 'text': 'TOPIQUE'}]\n",
      "Chiens\n",
      "[{'from': 167, 'to': 172, 'matchType': 'PREF', 'text': 'CHIENS'}]\n",
      "Santé\n",
      "[{'from': 192, 'to': 196, 'matchType': 'PREF', 'text': 'SANTÉ'}]\n",
      "Attention\n",
      "[{'from': 232, 'to': 242, 'matchType': 'SYN', 'text': 'APPLICATION'}]\n",
      "\n",
      "\n",
      "opus_big/best_preds\\opus_big_enfr_FT_wang_2022 : L’objectif de la présente étude était de déterminer si le furoate topique de florfénicol/terbinafine/mométasone cause une suppression corticosurrénalienne chez des chiens sains de petite race avec une OE bilatérale à J28 post application.\n",
      "\n",
      "topique\n",
      "[{'from': 67, 'to': 73, 'matchType': 'PREF', 'text': 'TOPIQUE'}]\n",
      "D01AE15 - terbinafine\n",
      "[{'from': 90, 'to': 100, 'matchType': 'SYN', 'text': 'TERBINAFINE'}]\n",
      "D07AC13 - mométasone\n",
      "[{'from': 102, 'to': 111, 'matchType': 'SYN', 'text': 'MOMÉTASONE'}]\n",
      "Chiens\n",
      "[{'from': 165, 'to': 170, 'matchType': 'PREF', 'text': 'CHIENS'}]\n",
      "Attention\n",
      "[{'from': 227, 'to': 237, 'matchType': 'SYN', 'text': 'APPLICATION'}]\n",
      "\n",
      "\n",
      "opus_big/best_preds\\opus_big_enfr_FT_wu_2022 : L’objectif de la présente étude était de déterminer si le furoate de florfénicol/terbinafine/mométasone topique provoque une suppression corticosurrénalienne chez des chiens de petite race en santé avec OE bilatéral à J28 post-application.\n",
      "\n",
      "D01AE15 - terbinafine\n",
      "[{'from': 82, 'to': 92, 'matchType': 'SYN', 'text': 'TERBINAFINE'}]\n",
      "D07AC13 - mométasone\n",
      "[{'from': 94, 'to': 103, 'matchType': 'SYN', 'text': 'MOMÉTASONE'}]\n",
      "topique\n",
      "[{'from': 105, 'to': 111, 'matchType': 'PREF', 'text': 'TOPIQUE'}]\n",
      "Chiens\n",
      "[{'from': 168, 'to': 173, 'matchType': 'PREF', 'text': 'CHIENS'}]\n",
      "Santé\n",
      "[{'from': 193, 'to': 197, 'matchType': 'PREF', 'text': 'SANTÉ'}]\n",
      "bilatéral\n",
      "[{'from': 207, 'to': 215, 'matchType': 'PREF', 'text': 'BILATÉRAL'}]\n",
      "Attention\n",
      "[{'from': 228, 'to': 238, 'matchType': 'SYN', 'text': 'APPLICATION'}]\n",
      "\n",
      "\n",
      "opus_big/best_preds\\opus_big_enfr_FT_choi_2022 : L’objectif de la présente étude était de déterminer si le furoate de florfénicol/terbinafine/mometasone topique cause une suppression corticosurrénalienne chez des chiens de petite race en santé avec une OE bilatérale au D28 post-application.\n",
      "\n",
      "D01AE15 - terbinafine\n",
      "[{'from': 82, 'to': 92, 'matchType': 'SYN', 'text': 'TERBINAFINE'}]\n",
      "topique\n",
      "[{'from': 105, 'to': 111, 'matchType': 'PREF', 'text': 'TOPIQUE'}]\n",
      "Chiens\n",
      "[{'from': 165, 'to': 170, 'matchType': 'PREF', 'text': 'CHIENS'}]\n",
      "Santé\n",
      "[{'from': 190, 'to': 194, 'matchType': 'PREF', 'text': 'SANTÉ'}]\n",
      "Attention\n",
      "[{'from': 231, 'to': 241, 'matchType': 'SYN', 'text': 'APPLICATION'}]\n",
      "\n",
      "\n",
      "opus_big/best_preds\\opus_big_fine_freq_wce_unsampled : L’objectif de cette étude était de déterminer si le furoate topique de florfenicol/terbinafine/mométasone provoque la suppression corticosurrénale chez des chiens sains de petite race avec OE bilatéral à D28 post-application.\n",
      "\n",
      "topique\n",
      "[{'from': 61, 'to': 67, 'matchType': 'PREF', 'text': 'TOPIQUE'}]\n",
      "D01AE15 - terbinafine\n",
      "[{'from': 84, 'to': 94, 'matchType': 'SYN', 'text': 'TERBINAFINE'}]\n",
      "D07AC13 - mométasone\n",
      "[{'from': 96, 'to': 105, 'matchType': 'SYN', 'text': 'MOMÉTASONE'}]\n",
      "Cortex surrénal\n",
      "[{'from': 131, 'to': 146, 'matchType': 'SYN', 'text': 'CORTICOSURRÉNALE'}]\n",
      "Chiens\n",
      "[{'from': 157, 'to': 162, 'matchType': 'PREF', 'text': 'CHIENS'}]\n",
      "bilatéral\n",
      "[{'from': 193, 'to': 201, 'matchType': 'PREF', 'text': 'BILATÉRAL'}]\n",
      "Attention\n",
      "[{'from': 214, 'to': 224, 'matchType': 'SYN', 'text': 'APPLICATION'}]\n",
      "\n",
      "\n"
     ]
    }
   ],
   "source": [
    "get_sentences(big_sentence_files, 284) #Final output for opus-big - focus on mometasone furoate (sys error) and corticosurrenale issue. "
   ]
  },
  {
   "cell_type": "code",
   "execution_count": null,
   "id": "c7b11a5b-89d1-4dc3-a8d2-44bdf11bdbd5",
   "metadata": {},
   "outputs": [],
   "source": []
  }
 ],
 "metadata": {
  "kernelspec": {
   "display_name": "Python 3 (ipykernel)",
   "language": "python",
   "name": "python3"
  },
  "language_info": {
   "codemirror_mode": {
    "name": "ipython",
    "version": 3
   },
   "file_extension": ".py",
   "mimetype": "text/x-python",
   "name": "python",
   "nbconvert_exporter": "python",
   "pygments_lexer": "ipython3",
   "version": "3.10.11"
  }
 },
 "nbformat": 4,
 "nbformat_minor": 5
}

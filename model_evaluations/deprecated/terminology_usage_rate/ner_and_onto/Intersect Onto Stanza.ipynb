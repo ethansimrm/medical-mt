{
 "cells": [
  {
   "cell_type": "markdown",
   "id": "0bef154f-a99f-47e2-8d88-bee76fe6d5a1",
   "metadata": {},
   "source": [
    "# Taking the Intersection\n",
    "\n",
    "At this stage, we have generated term lists using Stanza NER models and our clinical ontologies. We will now take the intersection of both."
   ]
  },
  {
   "cell_type": "code",
   "execution_count": 1,
   "id": "99de61bf-4c2a-4540-80e1-5e868e161d56",
   "metadata": {},
   "outputs": [],
   "source": [
    "import pandas as pd\n",
    "\n",
    "onto = pd.read_csv(\"wmt22_onto_terms_counts.txt\", sep = \"\\t\", header = None, names = [\"sent_ID\", \"term\", \"count\"])\n",
    "ner = pd.read_csv(\"wmt22_ner_terms_counts.txt\", sep = \"\\t\", header = None, names = [\"sent_ID\", \"term\", \"count\"])"
   ]
  },
  {
   "cell_type": "code",
   "execution_count": 2,
   "id": "de33064f-a172-4d99-8ebd-8cebe960f183",
   "metadata": {},
   "outputs": [],
   "source": [
    "intersection = pd.merge(onto, ner, how ='inner', on =[\"sent_ID\", \"term\", \"count\"])"
   ]
  },
  {
   "cell_type": "code",
   "execution_count": 7,
   "id": "968c62cf-f258-4b0c-8ba3-01828274111d",
   "metadata": {},
   "outputs": [
    {
     "data": {
      "text/html": [
       "<div>\n",
       "<style scoped>\n",
       "    .dataframe tbody tr th:only-of-type {\n",
       "        vertical-align: middle;\n",
       "    }\n",
       "\n",
       "    .dataframe tbody tr th {\n",
       "        vertical-align: top;\n",
       "    }\n",
       "\n",
       "    .dataframe thead th {\n",
       "        text-align: right;\n",
       "    }\n",
       "</style>\n",
       "<table border=\"1\" class=\"dataframe\">\n",
       "  <thead>\n",
       "    <tr style=\"text-align: right;\">\n",
       "      <th></th>\n",
       "      <th>sent_ID</th>\n",
       "      <th>term</th>\n",
       "      <th>count</th>\n",
       "    </tr>\n",
       "  </thead>\n",
       "  <tbody>\n",
       "  </tbody>\n",
       "</table>\n",
       "</div>"
      ],
      "text/plain": [
       "Empty DataFrame\n",
       "Columns: [sent_ID, term, count]\n",
       "Index: []"
      ]
     },
     "execution_count": 7,
     "metadata": {},
     "output_type": "execute_result"
    }
   ],
   "source": [
    "#No duplicates!\n",
    "intersection[intersection.duplicated()]"
   ]
  },
  {
   "cell_type": "code",
   "execution_count": 9,
   "id": "d8838f6c-8726-4264-9d13-67d09ef4cc50",
   "metadata": {},
   "outputs": [],
   "source": [
    "intersection.to_csv(\"wmt22gold_terminology_ner_onto.txt\", sep = \"\\t\", header = False, index = False) "
   ]
  }
 ],
 "metadata": {
  "kernelspec": {
   "display_name": "Python 3 (ipykernel)",
   "language": "python",
   "name": "python3"
  },
  "language_info": {
   "codemirror_mode": {
    "name": "ipython",
    "version": 3
   },
   "file_extension": ".py",
   "mimetype": "text/x-python",
   "name": "python",
   "nbconvert_exporter": "python",
   "pygments_lexer": "ipython3",
   "version": "3.10.11"
  }
 },
 "nbformat": 4,
 "nbformat_minor": 5
}
